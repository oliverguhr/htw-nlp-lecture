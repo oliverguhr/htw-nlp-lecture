{
 "cells": [
  {
   "cell_type": "code",
   "execution_count": 11,
   "metadata": {},
   "outputs": [],
   "source": [
    "#import sys\n",
    "#!{sys.executable} -m pip install graphviz --user\n",
    "#from graphviz import Source\n",
    "%matplotlib inline\n",
    "import matplotlib.pyplot as plt\n",
    "import torch\n",
    "import torch.nn as nn\n",
    "plt.rcParams[\"figure.figsize\"] = (12, 9)"
   ]
  },
  {
   "cell_type": "markdown",
   "metadata": {},
   "source": [
    "# RNNS\n",
    "\n",
    "todo: https://www.youtube.com/watch?v=LHXXI4-IEns\n",
    "\n",
    "![nn cell](https://www.htw-dresden.de/~guhr/img/nn-cell.svg)\n",
    "\n",
    "![single rnn cell](https://www.htw-dresden.de/~guhr/img/rnn-cell.svg)\n",
    "\n",
    "![rnn unrolled in time](https://www.htw-dresden.de/~guhr/img/rnn-unrolled.svg)"
   ]
  },
  {
   "cell_type": "markdown",
   "metadata": {},
   "source": []
  },
  {
   "cell_type": "markdown",
   "metadata": {},
   "source": [
    "## Vanishing & Exploding Gradient Problem\n",
    "\n",
    "By gradient we mean the gradient of the loss function with respect to the weigts of the neural network. As you already learned, this gradient is calulated using backpropagation. \n",
    "\n",
    "* What you should know:\n",
    "    * [Backpropagation](https://www.youtube.com/watch?v=tIeHLnjs5U8)\n",
    "  \n",
    "* Video for this topic:\n",
    "    * [Vanishing & Exploding Gradient explained](https://www.youtube.com/watch?v=qO_NLVjD6zE)"
   ]
  },
  {
   "cell_type": "markdown",
   "metadata": {},
   "source": [
    "### What happens during backpropagation?\n",
    "\n",
    "Lets start with the loss function. In case we use a MSE loss (or cost) function it is calculated this way:\n",
    "\n",
    "$ Loss = (a_{L} -y)^2 $\n",
    "\n",
    "Where $ y $ denotes the desired output of the network and $a_{L}$ is the activation of the last neuron.\n",
    "\n",
    "\n",
    "$ a_{L} = \\sigma( w_{L}a_{L-1}+b_{L})$\n",
    "\n",
    "\n",
    "Let's define $ in $ as the input of our network and \n",
    "write down a 5 layer network single neuron network:\n",
    "\n",
    "\n",
    "$ a_{1} = \\sigma( w_{1} in +b_{1}) $ \n",
    "\n",
    "$ a_{2} = \\sigma( w_{2}a_{1}+b_{2}) $ \n",
    "\n",
    "$ a_{3} = \\sigma( w_{3}a_{2}+b_{3}) $ \n",
    "\n",
    "$ a_{4} = \\sigma( w_{4}a_{3}+b_{4}) $ \n",
    "\n",
    "$ a_{5} = \\sigma( w_{5}a_{4}+b_{5}) $ \n",
    "\n",
    "\n",
    "\n",
    "$ Loss = (a_{5} -y)^2 $\n",
    "\n",
    "With the help of the backpropagation algorithm we can ajust the weights. As you know the backpropagation uses derivatives to calculate the weight changes. How does these derivatives look like?"
   ]
  },
  {
   "cell_type": "markdown",
   "metadata": {},
   "source": [
    "### Lets look at the derivative of our activation function"
   ]
  },
  {
   "cell_type": "code",
   "execution_count": 12,
   "metadata": {},
   "outputs": [
    {
     "data": {
      "image/png": "[encoded data removed]",
      "text/plain": [
       "<Figure size 864x648 with 1 Axes>"
      ]
     },
     "metadata": {
      "needs_background": "light"
     },
     "output_type": "display_data"
    }
   ],
   "source": [
    "sigmoid = nn.Sigmoid() # try this for Tanh, ReLu\n",
    "\n",
    "for i in range(-50,50):\n",
    "    data = torch.tensor([i/10],requires_grad=True)\n",
    "    calc = sigmoid(data)\n",
    "    calc.backward()    \n",
    "    plt.plot(i/10,data.grad[0], 'ro')    \n",
    "\n",
    "plt.show()"
   ]
  },
  {
   "cell_type": "markdown",
   "metadata": {},
   "source": [
    "The maximum of the derivative of the sigmoid function is 0.25 at $x = 0$ and much smaller for all other values. \n",
    "\n",
    "\n",
    "### Let's implement a small network...\n",
    "so we can see whats going on here. We use the 5 layer single neuron network that we defined earlier. \n",
    "\n",
    "We want our network to negate a number. We put in a $1$ and it should return a $-1$. For simplicity we do not use biases in this tiny example."
   ]
  },
  {
   "cell_type": "code",
   "execution_count": 3,
   "metadata": {},
   "outputs": [
    {
     "data": {
      "text/plain": [
       "tensor([ 0.3533, -0.1390, -0.2680, -0.1207,  0.0530], grad_fn=<SelectBackward>)"
      ]
     },
     "execution_count": 3,
     "metadata": {},
     "output_type": "execute_result"
    }
   ],
   "source": [
    "weight_tensor = torch.randn((1, 5), requires_grad=True)\n",
    "weight = weight_tensor[0] \n",
    "net_input = 1 \n",
    "y = net_output = -1\n",
    "weight"
   ]
  },
  {
   "cell_type": "code",
   "execution_count": 4,
   "metadata": {},
   "outputs": [],
   "source": [
    "layer1 = sigmoid(weight[0] * net_input) \n",
    "layer2 = sigmoid(weight[1] * layer1) \n",
    "layer3 = sigmoid(weight[2] * layer2) \n",
    "layer4 = sigmoid(weight[3] * layer3) \n",
    "layer5 = sigmoid(weight[4] * layer4) \n",
    "loss= (layer5 - y)**2\n",
    "\n",
    "loss.backward()"
   ]
  },
  {
   "cell_type": "code",
   "execution_count": 5,
   "metadata": {},
   "outputs": [
    {
     "data": {
      "text/plain": [
       "tensor([[-6.7587e-07,  1.1782e-05, -1.4380e-04,  4.6685e-03,  3.6592e-01]])"
      ]
     },
     "execution_count": 5,
     "metadata": {},
     "output_type": "execute_result"
    }
   ],
   "source": [
    "# we can obtian the gradient of the weights with:\n",
    "weight_tensor.grad"
   ]
  },
  {
   "cell_type": "markdown",
   "metadata": {},
   "source": [
    "From right to left, we can see how the weight delta gets smaller. Since they are a product of numbers smaller than one, they can only get even smaller."
   ]
  },
  {
   "cell_type": "code",
   "execution_count": 37,
   "metadata": {},
   "outputs": [
    {
     "name": "stdout",
     "output_type": "stream",
     "text": [
      "wieght update:\n",
      "\n",
      "weight delta \t\t* learning rate \t= update step\n",
      "-0.0000006758703535 \t* 0.01 \t\t\t= -0.0000000067587035\n",
      "\n",
      "old weight:0.35331955552101135\n",
      "new weight:0.3533195622797149\n"
     ]
    }
   ],
   "source": [
    "learning_rate = 0.01\n",
    "weight_neuron_one = weight_tensor[0][0].item()\n",
    "weight_grad_neuron_one =  weight_tensor.grad[0][0].item()\n",
    "\n",
    "weight_update = weight_grad_neuron_one * learning_rate\n",
    "\n",
    "print(\"wieght update:\\n\")\n",
    "print(\"weight delta \\t\\t* learning rate \\t= update step\")\n",
    "print(f\"{weight_grad_neuron_one:.16f} \\t* {learning_rate} \\t\\t\\t= {weight_update:.16f}\")\n",
    "print(\"\")\n",
    "print(f\"old weight:{weight_neuron_one}\")\n",
    "print(f\"new weight:{weight_neuron_one - weight_update}\")"
   ]
  },
  {
   "cell_type": "code",
   "execution_count": 13,
   "metadata": {},
   "outputs": [
    {
     "data": {
      "image/png": "[encoded data removed]",
      "text/plain": [
       "<Figure size 864x648 with 1 Axes>"
      ]
     },
     "metadata": {
      "needs_background": "light"
     },
     "output_type": "display_data"
    }
   ],
   "source": [
    "fig, ax = plt.subplots()\n",
    "ax.plot([1,2,3,4,5],weight_tensor.grad[0].numpy())\n",
    "\n",
    "ax.set(xlabel='weight update', ylabel='Layer',\n",
    "       title='Gradient w.r.t. the weights')\n",
    "ax.grid()\n",
    "\n",
    "plt.show()"
   ]
  },
  {
   "cell_type": "markdown",
   "metadata": {},
   "source": [
    "As you can the gradient of our toy network quickly gets close to zero. That's why this problem is called vanishing gradient problem. Since the updates to the weights are so small, they also don't help to redcue the loss.\n",
    "\n",
    "The opposite of this is called the exploding gradient, this happens if weights or activations "
   ]
  },
  {
   "cell_type": "code",
   "execution_count": 9,
   "metadata": {},
   "outputs": [],
   "source": [
    "# Todo: https://medium.com/dair-ai/building-rnns-is-fun-with-pytorch-and-google-colab-3903ea9a3a79"
   ]
  }
 ],
 "metadata": {
  "kernelspec": {
   "display_name": "Python 3",
   "language": "python",
   "name": "python3"
  },
  "language_info": {
   "codemirror_mode": {
    "name": "ipython",
    "version": 3
   },
   "file_extension": ".py",
   "mimetype": "text/x-python",
   "name": "python",
   "nbconvert_exporter": "python",
   "pygments_lexer": "ipython3",
   "version": "3.6.7"
  }
 },
 "nbformat": 4,
 "nbformat_minor": 2
}
