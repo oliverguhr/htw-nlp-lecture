{
  "nbformat": 4,
  "nbformat_minor": 0,
  "metadata": {
    "colab": {
      "name": "NLP 3 - Neural Search.ipynb",
      "provenance": [],
      "collapsed_sections": [],
      "toc_visible": true,
      "authorship_tag": "ABX9TyNdbZUWmm+txDpPt95r+pRV",
      "include_colab_link": true
    },
    "kernelspec": {
      "name": "python3",
      "display_name": "Python 3"
    },
    "language_info": {
      "name": "python"
    },
    "accelerator": "GPU"
  },
  "cells": [
    {
      "cell_type": "markdown",
      "metadata": {
        "id": "view-in-github",
        "colab_type": "text"
      },
      "source": [
        "<a href=\"https://colab.research.google.com/github/oliverguhr/htw-nlp-lecture/blob/master/assignments/transformer/NLP_3_Neural_Search.ipynb\" target=\"_parent\"><img src=\"https://colab.research.google.com/assets/colab-badge.svg\" alt=\"Open In Colab\"/></a>"
      ]
    },
    {
      "cell_type": "markdown",
      "metadata": {
        "id": "3rv87R1Y_Cb1"
      },
      "source": [
        "# Neural search with Transformers\n",
        "\n",
        "## What are we going to do?\n",
        "\n",
        "Instead of searching text by compareing characters and words, \n",
        "we will use the power of transfomer models and compare texts in vector sprace.\n",
        "\n",
        "![](https://media.giphy.com/media/xT0xeJpnrWC4XWblEk/giphy.gif)"
      ]
    },
    {
      "cell_type": "markdown",
      "metadata": {
        "id": "tLW_it_2_MQk"
      },
      "source": [
        "## installing dependencies"
      ]
    },
    {
      "cell_type": "code",
      "metadata": {
        "colab": {
          "base_uri": "https://localhost:8080/"
        },
        "id": "CaGQZ-m8d1ff",
        "outputId": "cb9a1e33-7e9c-4743-fca6-14a27b4f72da"
      },
      "source": [
        "!pip install transformers"
      ],
      "execution_count": 195,
      "outputs": [
        {
          "output_type": "stream",
          "text": [
            "Requirement already satisfied: transformers in /usr/local/lib/python3.7/dist-packages (4.6.1)\n",
            "Requirement already satisfied: importlib-metadata; python_version < \"3.8\" in /usr/local/lib/python3.7/dist-packages (from transformers) (4.0.1)\n",
            "Requirement already satisfied: numpy>=1.17 in /usr/local/lib/python3.7/dist-packages (from transformers) (1.19.5)\n",
            "Requirement already satisfied: requests in /usr/local/lib/python3.7/dist-packages (from transformers) (2.23.0)\n",
            "Requirement already satisfied: sacremoses in /usr/local/lib/python3.7/dist-packages (from transformers) (0.0.45)\n",
            "Requirement already satisfied: tqdm>=4.27 in /usr/local/lib/python3.7/dist-packages (from transformers) (4.41.1)\n",
            "Requirement already satisfied: huggingface-hub==0.0.8 in /usr/local/lib/python3.7/dist-packages (from transformers) (0.0.8)\n",
            "Requirement already satisfied: packaging in /usr/local/lib/python3.7/dist-packages (from transformers) (20.9)\n",
            "Requirement already satisfied: tokenizers<0.11,>=0.10.1 in /usr/local/lib/python3.7/dist-packages (from transformers) (0.10.3)\n",
            "Requirement already satisfied: filelock in /usr/local/lib/python3.7/dist-packages (from transformers) (3.0.12)\n",
            "Requirement already satisfied: regex!=2019.12.17 in /usr/local/lib/python3.7/dist-packages (from transformers) (2019.12.20)\n",
            "Requirement already satisfied: typing-extensions>=3.6.4; python_version < \"3.8\" in /usr/local/lib/python3.7/dist-packages (from importlib-metadata; python_version < \"3.8\"->transformers) (3.7.4.3)\n",
            "Requirement already satisfied: zipp>=0.5 in /usr/local/lib/python3.7/dist-packages (from importlib-metadata; python_version < \"3.8\"->transformers) (3.4.1)\n",
            "Requirement already satisfied: chardet<4,>=3.0.2 in /usr/local/lib/python3.7/dist-packages (from requests->transformers) (3.0.4)\n",
            "Requirement already satisfied: idna<3,>=2.5 in /usr/local/lib/python3.7/dist-packages (from requests->transformers) (2.10)\n",
            "Requirement already satisfied: urllib3!=1.25.0,!=1.25.1,<1.26,>=1.21.1 in /usr/local/lib/python3.7/dist-packages (from requests->transformers) (1.24.3)\n",
            "Requirement already satisfied: certifi>=2017.4.17 in /usr/local/lib/python3.7/dist-packages (from requests->transformers) (2020.12.5)\n",
            "Requirement already satisfied: six in /usr/local/lib/python3.7/dist-packages (from sacremoses->transformers) (1.15.0)\n",
            "Requirement already satisfied: click in /usr/local/lib/python3.7/dist-packages (from sacremoses->transformers) (7.1.2)\n",
            "Requirement already satisfied: joblib in /usr/local/lib/python3.7/dist-packages (from sacremoses->transformers) (1.0.1)\n",
            "Requirement already satisfied: pyparsing>=2.0.2 in /usr/local/lib/python3.7/dist-packages (from packaging->transformers) (2.4.7)\n"
          ],
          "name": "stdout"
        }
      ]
    },
    {
      "cell_type": "code",
      "metadata": {
        "id": "E9NkZQaPdtbB"
      },
      "source": [
        "from transformers import AutoModel, AutoTokenizer"
      ],
      "execution_count": 196,
      "outputs": []
    },
    {
      "cell_type": "markdown",
      "metadata": {
        "id": "3WdMPh99_XRc"
      },
      "source": [
        "## loading a model"
      ]
    },
    {
      "cell_type": "code",
      "metadata": {
        "colab": {
          "base_uri": "https://localhost:8080/"
        },
        "id": "_bbNxIhsd_OX",
        "outputId": "9ef23040-fa8c-45e8-974a-cc1456d54230"
      },
      "source": [
        "model_name = \"bert-base-cased\"\n",
        "tokenizer = AutoTokenizer.from_pretrained(model_name)\n",
        "model = AutoModel.from_pretrained(model_name)\n"
      ],
      "execution_count": 197,
      "outputs": [
        {
          "output_type": "stream",
          "text": [
            "Some weights of the model checkpoint at bert-base-cased were not used when initializing BertModel: ['cls.predictions.decoder.weight', 'cls.predictions.transform.dense.weight', 'cls.predictions.transform.LayerNorm.weight', 'cls.predictions.transform.dense.bias', 'cls.seq_relationship.weight', 'cls.predictions.bias', 'cls.seq_relationship.bias', 'cls.predictions.transform.LayerNorm.bias']\n",
            "- This IS expected if you are initializing BertModel from the checkpoint of a model trained on another task or with another architecture (e.g. initializing a BertForSequenceClassification model from a BertForPreTraining model).\n",
            "- This IS NOT expected if you are initializing BertModel from the checkpoint of a model that you expect to be exactly identical (initializing a BertForSequenceClassification model from a BertForSequenceClassification model).\n"
          ],
          "name": "stderr"
        }
      ]
    },
    {
      "cell_type": "markdown",
      "metadata": {
        "id": "28oCtQjgAtI1"
      },
      "source": [
        "## transforming a text to an vector"
      ]
    },
    {
      "cell_type": "code",
      "metadata": {
        "colab": {
          "base_uri": "https://localhost:8080/"
        },
        "id": "Q097qf1HeVMc",
        "outputId": "4edc6a82-ae51-4ad5-ee52-17d49e048d26"
      },
      "source": [
        "inputs = tokenizer(\"Hello world!\", return_tensors=\"pt\")\n",
        "inputs\n"
      ],
      "execution_count": 198,
      "outputs": [
        {
          "output_type": "execute_result",
          "data": {
            "text/plain": [
              "{'input_ids': tensor([[ 101, 8667, 1362,  106,  102]]), 'token_type_ids': tensor([[0, 0, 0, 0, 0]]), 'attention_mask': tensor([[1, 1, 1, 1, 1]])}"
            ]
          },
          "metadata": {
            "tags": []
          },
          "execution_count": 198
        }
      ]
    },
    {
      "cell_type": "code",
      "metadata": {
        "colab": {
          "base_uri": "https://localhost:8080/"
        },
        "id": "YPoj357jp4ui",
        "outputId": "50bcb778-a07b-46e0-9521-a7dd65bfc5c2"
      },
      "source": [
        "inputs = tokenizer([\"Hello world!\", \"funny test\"], return_tensors=\"pt\", padding=True,truncation=True)\n",
        "inputs"
      ],
      "execution_count": 199,
      "outputs": [
        {
          "output_type": "execute_result",
          "data": {
            "text/plain": [
              "{'input_ids': tensor([[ 101, 8667, 1362,  106,  102],\n",
              "        [ 101, 6276, 2774,  102,    0]]), 'token_type_ids': tensor([[0, 0, 0, 0, 0],\n",
              "        [0, 0, 0, 0, 0]]), 'attention_mask': tensor([[1, 1, 1, 1, 1],\n",
              "        [1, 1, 1, 1, 0]])}"
            ]
          },
          "metadata": {
            "tags": []
          },
          "execution_count": 199
        }
      ]
    },
    {
      "cell_type": "code",
      "metadata": {
        "colab": {
          "base_uri": "https://localhost:8080/"
        },
        "id": "6YGX4KrgeiA2",
        "outputId": "393652ea-a141-4039-b2d1-6921037e30db"
      },
      "source": [
        "outputs = model(**inputs)\n",
        "outputs "
      ],
      "execution_count": 200,
      "outputs": [
        {
          "output_type": "execute_result",
          "data": {
            "text/plain": [
              "BaseModelOutputWithPoolingAndCrossAttentions([('last_hidden_state',\n",
              "                                               tensor([[[ 3.7628e-01,  3.6770e-01,  4.9426e-01,  ..., -1.6608e-01,\n",
              "                                                          5.9425e-01, -1.5929e-01],\n",
              "                                                        [ 7.1213e-01, -3.6788e-01,  8.5830e-01,  ..., -2.3904e-01,\n",
              "                                                          5.6956e-01, -8.8592e-02],\n",
              "                                                        [ 6.5599e-01,  4.7040e-01,  4.8593e-01,  ..., -5.6358e-01,\n",
              "                                                         -2.6219e-01, -4.7541e-01],\n",
              "                                                        [ 6.3835e-01,  8.1096e-02,  8.1820e-01,  ...,  2.6849e-01,\n",
              "                                                          3.9201e-01,  1.5533e-01],\n",
              "                                                        [ 7.4092e-01,  5.9099e-01,  3.2814e-01,  ..., -3.2534e-01,\n",
              "                                                          9.7608e-01, -7.4803e-01]],\n",
              "                                               \n",
              "                                                       [[ 2.0786e-01,  1.1155e-02, -4.3244e-03,  ...,  2.6580e-01,\n",
              "                                                          2.2968e-01,  4.5170e-01],\n",
              "                                                        [ 1.3114e-01, -4.6604e-01,  2.7573e-01,  ...,  1.6243e-01,\n",
              "                                                          3.5570e-01,  4.9164e-01],\n",
              "                                                        [ 4.7356e-01, -1.5102e-01,  2.0660e-01,  ...,  1.2106e-01,\n",
              "                                                          2.0522e-01,  4.6269e-01],\n",
              "                                                        [ 1.3640e-05, -9.0694e-02, -7.0643e-01,  ...,  2.9949e-01,\n",
              "                                                          1.2445e+00,  5.3750e-01],\n",
              "                                                        [-1.0884e-01, -2.6226e-01,  2.1580e-02,  ...,  4.1400e-01,\n",
              "                                                          9.7012e-02,  3.0461e-01]]], grad_fn=<NativeLayerNormBackward>)),\n",
              "                                              ('pooler_output',\n",
              "                                               tensor([[-0.7344,  0.5340,  0.9999,  ...,  1.0000, -0.9195,  0.9949],\n",
              "                                                       [-0.6465,  0.4427,  0.9998,  ...,  1.0000, -0.4225,  0.9812]],\n",
              "                                                      grad_fn=<TanhBackward>))])"
            ]
          },
          "metadata": {
            "tags": []
          },
          "execution_count": 200
        }
      ]
    },
    {
      "cell_type": "markdown",
      "metadata": {
        "id": "6kNALuHlfdLm"
      },
      "source": [
        "**last_hidden_state**: Sequence of hidden-states at the output of the last layer of the model."
      ]
    },
    {
      "cell_type": "code",
      "metadata": {
        "colab": {
          "base_uri": "https://localhost:8080/"
        },
        "id": "Dsd2DWh8eq6V",
        "outputId": "7c2f4206-e883-49a1-84be-f15db440bf68"
      },
      "source": [
        "outputs[\"last_hidden_state\"].shape\n"
      ],
      "execution_count": 201,
      "outputs": [
        {
          "output_type": "execute_result",
          "data": {
            "text/plain": [
              "torch.Size([2, 5, 768])"
            ]
          },
          "metadata": {
            "tags": []
          },
          "execution_count": 201
        }
      ]
    },
    {
      "cell_type": "markdown",
      "metadata": {
        "id": "qe7sCh-JfTgs"
      },
      "source": [
        "**pooler_output**: Last layer hidden-state of the first token of the sequence (classification token) further processed by a Linear layer and a Tanh activation function. The Linear layer weights are trained from the next sentence prediction (classification) objective during pretraining."
      ]
    },
    {
      "cell_type": "code",
      "metadata": {
        "id": "nkkAAAJSet-T",
        "colab": {
          "base_uri": "https://localhost:8080/"
        },
        "outputId": "69873a71-e0cf-4267-eae4-1838b3a6039f"
      },
      "source": [
        "outputs[\"pooler_output\"].shape"
      ],
      "execution_count": 202,
      "outputs": [
        {
          "output_type": "execute_result",
          "data": {
            "text/plain": [
              "torch.Size([2, 768])"
            ]
          },
          "metadata": {
            "tags": []
          },
          "execution_count": 202
        }
      ]
    },
    {
      "cell_type": "markdown",
      "metadata": {
        "id": "ofeVWrZvBJ2G"
      },
      "source": [
        "## loading data \n",
        "\n",
        "We load a data set of news headlines from german newspapers. This data set contains the headlines and the according article urls.\n",
        "After we loaded the data, we need to convert all headlines into vectors."
      ]
    },
    {
      "cell_type": "code",
      "metadata": {
        "colab": {
          "base_uri": "https://localhost:8080/"
        },
        "id": "QgprWrfBLrkZ",
        "outputId": "16164cff-5898-4ee5-cc47-803c2e1c97f0"
      },
      "source": [
        "!curl -O https://www2.htw-dresden.de/~guhr/dist/feeds.tsv \n"
      ],
      "execution_count": 203,
      "outputs": [
        {
          "output_type": "stream",
          "text": [
            "  % Total    % Received % Xferd  Average Speed   Time    Time     Time  Current\n",
            "                                 Dload  Upload   Total   Spent    Left  Speed\n",
            "100 10.0M  100 10.0M    0     0  4163k      0  0:00:02  0:00:02 --:--:-- 4164k\n"
          ],
          "name": "stdout"
        }
      ]
    },
    {
      "cell_type": "code",
      "metadata": {
        "colab": {
          "base_uri": "https://localhost:8080/"
        },
        "id": "L-2ljeZdh-E6",
        "outputId": "9fe29114-4196-4dd5-e82d-61294000cc3b"
      },
      "source": [
        "!head feeds.tsv"
      ],
      "execution_count": 204,
      "outputs": [
        {
          "output_type": "stream",
          "text": [
            "id\ttitle\ttext\ttime\tlink\t\t\n",
            "https://www.spiegel.de/politik/deutschland/corona-krise-in-deutschland-wie-kommen-wir-wieder-raus-a-d8099433-e178-46be-957a-f6c779b3f2f5\t'Corona-Krise in Deutschland: Wie kommen wir wieder raus?'\t'Die Bundesregierung will in der kommenden Woche über mögliche Szenarien für den Exit aus dem Lockdown beraten. Schon jetzt warnen Politiker vor einem überhasteten Aussetzen der Maßnahmen. Der Überblick.'\t'Mon, 13 Apr 2020 18:18:00 +0200'\t'https://www.spiegel.de/politik/deutschland/corona-krise-in-deutschland-wie-kommen-wir-wieder-raus-a-d8099433-e178-46be-957a-f6c779b3f2f5#ref=rss\t\t\n",
            "https://www.spiegel.de/wissenschaft/leopoldina-forscher-legen-konkreten-fahrplan-fuer-ende-der-kontaktsperren-vor-a-0cfd0aed-cf48-4dd1-a219-241d818d60ae\t'Leopoldina-Forscher legen konkreten Fahrplan für Ende der Kontaktsperren vor'\t'Die Nationalakademie Leopoldina empfiehlt eine baldige Rückkehr zur Schule. Auch Geschäfte und Behörden sollen schrittweise eröffnen und Reisen erlaubt werden - aber unter Bedingungen, so ein Papier, das dem SPIEGEL vorliegt.'\t'Mon, 13 Apr 2020 12:11:00 +0200'\t'https://www.spiegel.de/wissenschaft/leopoldina-forscher-legen-konkreten-fahrplan-fuer-ende-der-kontaktsperren-vor-a-0cfd0aed-cf48-4dd1-a219-241d818d60ae#ref=rss\t\t\n",
            "https://www.spiegel.de/wissenschaft/philosophie-coronavirus-lockdown-wir-muessen-uebers-sterben-reden-a-9a2617d5-7ff6-455c-967b-b3b0858e7b3f\t'Philosophie Coronavirus-Lockdown: Wir müssen übers Sterben reden'\t\"'\"\"Regulierte Ausbreitung\"\" versus \"\"konsequente Eindämmung\"\" - diese Strategien stehen sich im Kampf gegen Corona gegenüber. Welcher Weg zerstört mehr von dem, was uns wichtig ist im Leben?'\"\t'Mon, 13 Apr 2020 18:05:20 +0200'\t'https://www.spiegel.de/wissenschaft/philosophie-coronavirus-lockdown-wir-muessen-uebers-sterben-reden-a-9a2617d5-7ff6-455c-967b-b3b0858e7b3f#ref=rss\t\t\n",
            "https://www.spiegel.de/politik/ausland/coronavirus-in-indonesien-gefaehrliche-heimreise-a-467488b7-c2d9-4d9e-b83e-091b8da0fbc0\t'Coronavirus in Indonesien: Gefährliche Heimreise'\t'In Indonesien sind bislang mehr Menschen an Covid-19 gestorben als in allen anderen Ländern Asiens - China ausgenommen. Während des Ramadans könnte sich das Virus noch weiter verbreiten.'\t'Mon, 13 Apr 2020 18:37:11 +0200'\t'https://www.spiegel.de/politik/ausland/coronavirus-in-indonesien-gefaehrliche-heimreise-a-467488b7-c2d9-4d9e-b83e-091b8da0fbc0#ref=rss\t\t\n",
            "https://www.spiegel.de/wissenschaft/medizin/coronavirus-news-am-montag-die-wichtigsten-entwicklungen-zu-sars-cov-2-und-covid-19-a-982c966f-3046-455d-b403-1ed1c4befb1e\t'Coronavirus News am Montag: Die wichtigsten Entwicklungen zu Sars-CoV-2 und Covid-19'\t'Im US-Bundesstaat New York ist die Zahl der Coronavirus-Toten weiter stark gestiegen. Gouverneur Andrew Cuomo sieht das Schlimmste jedoch überwunden. Der Überblick.'\t'Mon, 13 Apr 2020 16:58:00 +0200'\t'https://www.spiegel.de/wissenschaft/medizin/coronavirus-news-am-montag-die-wichtigsten-entwicklungen-zu-sars-cov-2-und-covid-19-a-982c966f-3046-455d-b403-1ed1c4befb1e#ref=rss\t\t\n",
            "https://www.spiegel.de/panorama/corona-lockdown-deutsche-sind-immer-mehr-unterwegs-a-c8a6b940-600d-47c5-bf40-2ce4c26b9a7a\t'Corona-Lockdown: Deutsche sind immer mehr unterwegs'\t'Ende März blieben viele Menschen wegen Corona noch brav zu Hause. Doch nun zeigen Handydaten, dass die Bevölkerung von Tag zu Tag mobiler wird - vor allem die ostdeutsche.'\t'Mon, 13 Apr 2020 10:50:06 +0200'\t'https://www.spiegel.de/panorama/corona-lockdown-deutsche-sind-immer-mehr-unterwegs-a-c8a6b940-600d-47c5-bf40-2ce4c26b9a7a#ref=rss\t\t\n",
            "https://www.spiegel.de/wirtschaft/corona-krise-warum-vorhersagen-zu-wirtschaft-und-boerse-kaum-moeglich-sind-a-cfaac091-056f-43fb-af8d-f5de446bc8d1\t'Corona-Krise: Warum Vorhersagen zu Wirtschaft und Börse kaum möglich sind'\t'Die Halbwertzeit von ökonomischen Prognosen ist in der Coronakrise so kurz wie nie. Belastbare Vorhersagen zum Wirtschaftswachstum oder den Börsenkursen sind kaum möglich.'\t'Mon, 13 Apr 2020 16:00:31 +0200'\t'https://www.spiegel.de/wirtschaft/corona-krise-warum-vorhersagen-zu-wirtschaft-und-boerse-kaum-moeglich-sind-a-cfaac091-056f-43fb-af8d-f5de446bc8d1#ref=rss\t\t\n",
            "https://www.spiegel.de/panorama/gesellschaft/corona-alltags-heldin-susanne-rudwill-56-kassiererin-will-nicht-hinter-einer-maske-laecheln-a-721fe6ea-feab-4f3d-a8bc-f3171f9c621b\t'Corona-Alltags-Heldin: Susanne Rudwill, 56, Kassiererin, will nicht hinter einer Maske lächeln'\t'Das öffentliche Leben steht still, doch einige Menschen halten die Gesellschaft am Laufen. Hier kommen sie zu Wort.'\t'Mon, 13 Apr 2020 18:36:33 +0200'\t'https://www.spiegel.de/panorama/gesellschaft/corona-alltags-heldin-susanne-rudwill-56-kassiererin-will-nicht-hinter-einer-maske-laecheln-a-721fe6ea-feab-4f3d-a8bc-f3171f9c621b#ref=rss\t\t\n",
            "https://www.spiegel.de/politik/deutschland/corona-politik-darf-keine-erwartungen-wecken-die-sie-spaeter-enttaeuschen-muss-a-00000000-0002-0001-0000-000170435607\t'Corona: Politik darf keine Erwartungen wecken, die sie später enttäuschen muss'\t'Die Kanzlerin, die Länder haben die schwierige Aufgabe, die Bürger zu schützen: vor dem Virus, aber auch davor, die Nerven zu verlieren.'\t'Fri, 10 Apr 2020 18:00:00 +0200'\t'https://www.spiegel.de/politik/deutschland/corona-politik-darf-keine-erwartungen-wecken-die-sie-spaeter-enttaeuschen-muss-a-00000000-0002-0001-0000-000170435607#ref=rss\t\t\n"
          ],
          "name": "stdout"
        }
      ]
    },
    {
      "cell_type": "code",
      "metadata": {
        "id": "6oxfsJZziIcY"
      },
      "source": [
        "import time\n",
        "import pandas as pd\n",
        "import numpy as np\n",
        "\n",
        "feeds_df = pd.read_csv(\"feeds.tsv\", sep='\\t', header=0,encoding=\"utf-8\")\n",
        "feeds_df.drop(columns=['text'], inplace=True)\n",
        "feeds_df.drop(columns=['time'], inplace=True)\n",
        "feeds_df.drop(columns=['id'], inplace=True)\n",
        "feeds_df.drop(columns=['Unnamed: 5'], inplace=True)\n",
        "feeds_df.drop(columns=['Unnamed: 6'], inplace=True)"
      ],
      "execution_count": 205,
      "outputs": []
    },
    {
      "cell_type": "code",
      "metadata": {
        "colab": {
          "base_uri": "https://localhost:8080/",
          "height": 206
        },
        "id": "RX9LXcMQiUFA",
        "outputId": "3d8f2908-19ee-4bcf-a649-a06aa608f2da"
      },
      "source": [
        "feeds_df.head(5)"
      ],
      "execution_count": 206,
      "outputs": [
        {
          "output_type": "execute_result",
          "data": {
            "text/html": [
              "<div>\n",
              "<style scoped>\n",
              "    .dataframe tbody tr th:only-of-type {\n",
              "        vertical-align: middle;\n",
              "    }\n",
              "\n",
              "    .dataframe tbody tr th {\n",
              "        vertical-align: top;\n",
              "    }\n",
              "\n",
              "    .dataframe thead th {\n",
              "        text-align: right;\n",
              "    }\n",
              "</style>\n",
              "<table border=\"1\" class=\"dataframe\">\n",
              "  <thead>\n",
              "    <tr style=\"text-align: right;\">\n",
              "      <th></th>\n",
              "      <th>title</th>\n",
              "      <th>link</th>\n",
              "    </tr>\n",
              "  </thead>\n",
              "  <tbody>\n",
              "    <tr>\n",
              "      <th>0</th>\n",
              "      <td>'Corona-Krise in Deutschland: Wie kommen wir w...</td>\n",
              "      <td>'https://www.spiegel.de/politik/deutschland/co...</td>\n",
              "    </tr>\n",
              "    <tr>\n",
              "      <th>1</th>\n",
              "      <td>'Leopoldina-Forscher legen konkreten Fahrplan ...</td>\n",
              "      <td>'https://www.spiegel.de/wissenschaft/leopoldin...</td>\n",
              "    </tr>\n",
              "    <tr>\n",
              "      <th>2</th>\n",
              "      <td>'Philosophie Coronavirus-Lockdown: Wir müssen ...</td>\n",
              "      <td>'https://www.spiegel.de/wissenschaft/philosoph...</td>\n",
              "    </tr>\n",
              "    <tr>\n",
              "      <th>3</th>\n",
              "      <td>'Coronavirus in Indonesien: Gefährliche Heimre...</td>\n",
              "      <td>'https://www.spiegel.de/politik/ausland/corona...</td>\n",
              "    </tr>\n",
              "    <tr>\n",
              "      <th>4</th>\n",
              "      <td>'Coronavirus News am Montag: Die wichtigsten E...</td>\n",
              "      <td>'https://www.spiegel.de/wissenschaft/medizin/c...</td>\n",
              "    </tr>\n",
              "  </tbody>\n",
              "</table>\n",
              "</div>"
            ],
            "text/plain": [
              "                                               title                                               link\n",
              "0  'Corona-Krise in Deutschland: Wie kommen wir w...  'https://www.spiegel.de/politik/deutschland/co...\n",
              "1  'Leopoldina-Forscher legen konkreten Fahrplan ...  'https://www.spiegel.de/wissenschaft/leopoldin...\n",
              "2  'Philosophie Coronavirus-Lockdown: Wir müssen ...  'https://www.spiegel.de/wissenschaft/philosoph...\n",
              "3  'Coronavirus in Indonesien: Gefährliche Heimre...  'https://www.spiegel.de/politik/ausland/corona...\n",
              "4  'Coronavirus News am Montag: Die wichtigsten E...  'https://www.spiegel.de/wissenschaft/medizin/c..."
            ]
          },
          "metadata": {
            "tags": []
          },
          "execution_count": 206
        }
      ]
    },
    {
      "cell_type": "code",
      "metadata": {
        "colab": {
          "base_uri": "https://localhost:8080/",
          "height": 363
        },
        "id": "Yw8MGXU-i_h_",
        "outputId": "b6750b02-e9c9-459f-9f58-975cb97c3f4e"
      },
      "source": [
        "# We want to remove the qoutes here in order to get better results.\n",
        "\n",
        "def remove_quotes(text):\n",
        "    return text[1:-1]\n",
        "\n",
        "feeds_df[\"title\"]=feeds_df[\"title\"].map(remove_quotes)\n",
        "feeds_df[\"link\"]=feeds_df[\"link\"].map(remove_quotes)\n",
        "feeds_df.head(10)"
      ],
      "execution_count": 207,
      "outputs": [
        {
          "output_type": "execute_result",
          "data": {
            "text/html": [
              "<div>\n",
              "<style scoped>\n",
              "    .dataframe tbody tr th:only-of-type {\n",
              "        vertical-align: middle;\n",
              "    }\n",
              "\n",
              "    .dataframe tbody tr th {\n",
              "        vertical-align: top;\n",
              "    }\n",
              "\n",
              "    .dataframe thead th {\n",
              "        text-align: right;\n",
              "    }\n",
              "</style>\n",
              "<table border=\"1\" class=\"dataframe\">\n",
              "  <thead>\n",
              "    <tr style=\"text-align: right;\">\n",
              "      <th></th>\n",
              "      <th>title</th>\n",
              "      <th>link</th>\n",
              "    </tr>\n",
              "  </thead>\n",
              "  <tbody>\n",
              "    <tr>\n",
              "      <th>0</th>\n",
              "      <td>Corona-Krise in Deutschland: Wie kommen wir wi...</td>\n",
              "      <td>https://www.spiegel.de/politik/deutschland/cor...</td>\n",
              "    </tr>\n",
              "    <tr>\n",
              "      <th>1</th>\n",
              "      <td>Leopoldina-Forscher legen konkreten Fahrplan f...</td>\n",
              "      <td>https://www.spiegel.de/wissenschaft/leopoldina...</td>\n",
              "    </tr>\n",
              "    <tr>\n",
              "      <th>2</th>\n",
              "      <td>Philosophie Coronavirus-Lockdown: Wir müssen ü...</td>\n",
              "      <td>https://www.spiegel.de/wissenschaft/philosophi...</td>\n",
              "    </tr>\n",
              "    <tr>\n",
              "      <th>3</th>\n",
              "      <td>Coronavirus in Indonesien: Gefährliche Heimreise</td>\n",
              "      <td>https://www.spiegel.de/politik/ausland/coronav...</td>\n",
              "    </tr>\n",
              "    <tr>\n",
              "      <th>4</th>\n",
              "      <td>Coronavirus News am Montag: Die wichtigsten En...</td>\n",
              "      <td>https://www.spiegel.de/wissenschaft/medizin/co...</td>\n",
              "    </tr>\n",
              "    <tr>\n",
              "      <th>5</th>\n",
              "      <td>Corona-Lockdown: Deutsche sind immer mehr unte...</td>\n",
              "      <td>https://www.spiegel.de/panorama/corona-lockdow...</td>\n",
              "    </tr>\n",
              "    <tr>\n",
              "      <th>6</th>\n",
              "      <td>Corona-Krise: Warum Vorhersagen zu Wirtschaft ...</td>\n",
              "      <td>https://www.spiegel.de/wirtschaft/corona-krise...</td>\n",
              "    </tr>\n",
              "    <tr>\n",
              "      <th>7</th>\n",
              "      <td>Corona-Alltags-Heldin: Susanne Rudwill, 56, Ka...</td>\n",
              "      <td>https://www.spiegel.de/panorama/gesellschaft/c...</td>\n",
              "    </tr>\n",
              "    <tr>\n",
              "      <th>8</th>\n",
              "      <td>Corona: Politik darf keine Erwartungen wecken,...</td>\n",
              "      <td>https://www.spiegel.de/politik/deutschland/cor...</td>\n",
              "    </tr>\n",
              "    <tr>\n",
              "      <th>9</th>\n",
              "      <td>Trigema-Chef Grupp kämpft gegen die Corona-Kri...</td>\n",
              "      <td>https://www.spiegel.de/wirtschaft/unternehmen/...</td>\n",
              "    </tr>\n",
              "  </tbody>\n",
              "</table>\n",
              "</div>"
            ],
            "text/plain": [
              "                                               title                                               link\n",
              "0  Corona-Krise in Deutschland: Wie kommen wir wi...  https://www.spiegel.de/politik/deutschland/cor...\n",
              "1  Leopoldina-Forscher legen konkreten Fahrplan f...  https://www.spiegel.de/wissenschaft/leopoldina...\n",
              "2  Philosophie Coronavirus-Lockdown: Wir müssen ü...  https://www.spiegel.de/wissenschaft/philosophi...\n",
              "3   Coronavirus in Indonesien: Gefährliche Heimreise  https://www.spiegel.de/politik/ausland/coronav...\n",
              "4  Coronavirus News am Montag: Die wichtigsten En...  https://www.spiegel.de/wissenschaft/medizin/co...\n",
              "5  Corona-Lockdown: Deutsche sind immer mehr unte...  https://www.spiegel.de/panorama/corona-lockdow...\n",
              "6  Corona-Krise: Warum Vorhersagen zu Wirtschaft ...  https://www.spiegel.de/wirtschaft/corona-krise...\n",
              "7  Corona-Alltags-Heldin: Susanne Rudwill, 56, Ka...  https://www.spiegel.de/panorama/gesellschaft/c...\n",
              "8  Corona: Politik darf keine Erwartungen wecken,...  https://www.spiegel.de/politik/deutschland/cor...\n",
              "9  Trigema-Chef Grupp kämpft gegen die Corona-Kri...  https://www.spiegel.de/wirtschaft/unternehmen/..."
            ]
          },
          "metadata": {
            "tags": []
          },
          "execution_count": 207
        }
      ]
    },
    {
      "cell_type": "code",
      "metadata": {
        "colab": {
          "base_uri": "https://localhost:8080/"
        },
        "id": "s-MJZ01VjdCq",
        "outputId": "68a644ce-5ca9-47ba-bbfd-1bd72027808d"
      },
      "source": [
        "# Number of entries in our data set\n",
        "len(feeds_df)"
      ],
      "execution_count": 208,
      "outputs": [
        {
          "output_type": "execute_result",
          "data": {
            "text/plain": [
              "21257"
            ]
          },
          "metadata": {
            "tags": []
          },
          "execution_count": 208
        }
      ]
    },
    {
      "cell_type": "markdown",
      "metadata": {
        "id": "jXaIkRzjCkz3"
      },
      "source": [
        "## Processing the data"
      ]
    },
    {
      "cell_type": "code",
      "metadata": {
        "id": "rLMbe1CIjvLO"
      },
      "source": [
        "# since 21257 entries would take a lot of time to process, we just load\n",
        "# the first 500 articles here. But you are welcome to experiment with this \n",
        "# parameter. \n",
        "\n",
        "titles = list(feeds_df[\"title\"][:500])\n",
        "links = list(feeds_df[\"link\"][:500])"
      ],
      "execution_count": 209,
      "outputs": []
    },
    {
      "cell_type": "code",
      "metadata": {
        "id": "HSX8L2meCut5"
      },
      "source": [
        "tokens = tokenizer(titles, return_tensors=\"pt\",truncation=True,padding=True)\n",
        "with torch.no_grad():\n",
        "    headline_vectors = model(**tokens)[\"pooler_output\"]  "
      ],
      "execution_count": 210,
      "outputs": []
    },
    {
      "cell_type": "code",
      "metadata": {
        "colab": {
          "base_uri": "https://localhost:8080/"
        },
        "id": "m5nB8MTnDE-I",
        "outputId": "661795da-4683-4de6-ad00-a2bfbc31ff86"
      },
      "source": [
        "headline_vectors.shape"
      ],
      "execution_count": 211,
      "outputs": [
        {
          "output_type": "execute_result",
          "data": {
            "text/plain": [
              "torch.Size([500, 768])"
            ]
          },
          "metadata": {
            "tags": []
          },
          "execution_count": 211
        }
      ]
    },
    {
      "cell_type": "code",
      "metadata": {
        "id": "0c0TROpkMJzP",
        "colab": {
          "base_uri": "https://localhost:8080/"
        },
        "outputId": "0d3ac8e4-9417-4102-fc13-200c1c54175f"
      },
      "source": [
        "tokens = tokenizer(\"Auswirkungen der Corona Pandmie\", return_tensors=\"pt\",truncation=True, padding=True)\n",
        "with torch.no_grad():\n",
        "  query_vector = model(**tokens)[\"pooler_output\"]\n",
        "query_vector.shape"
      ],
      "execution_count": 212,
      "outputs": [
        {
          "output_type": "execute_result",
          "data": {
            "text/plain": [
              "torch.Size([1, 768])"
            ]
          },
          "metadata": {
            "tags": []
          },
          "execution_count": 212
        }
      ]
    },
    {
      "cell_type": "code",
      "metadata": {
        "colab": {
          "base_uri": "https://localhost:8080/"
        },
        "id": "bGn_co3AM4kZ",
        "outputId": "2d0a846f-8b96-4813-c3f3-f7c68c16d896"
      },
      "source": [
        "result = torch.sum(query_vector * headline_vectors,axis=1) \n",
        "result.shape"
      ],
      "execution_count": 213,
      "outputs": [
        {
          "output_type": "execute_result",
          "data": {
            "text/plain": [
              "torch.Size([500])"
            ]
          },
          "metadata": {
            "tags": []
          },
          "execution_count": 213
        }
      ]
    },
    {
      "cell_type": "code",
      "metadata": {
        "colab": {
          "base_uri": "https://localhost:8080/"
        },
        "id": "cLMmM9A-EIcM",
        "outputId": "2bb8f430-082f-422b-d872-d000f10f6c39"
      },
      "source": [
        "result"
      ],
      "execution_count": 214,
      "outputs": [
        {
          "output_type": "execute_result",
          "data": {
            "text/plain": [
              "tensor([434.5861, 427.5778, 417.6656, 425.2582, 443.6272, 444.1003, 429.4274,\n",
              "        443.6042, 434.7585, 450.9636, 441.4206, 438.9923, 457.1965, 420.5591,\n",
              "        434.4346, 440.5258, 439.7144, 447.6839, 438.9429, 443.9311, 451.3104,\n",
              "        435.3569, 443.7168, 443.8405, 452.5818, 442.3846, 447.6673, 435.3538,\n",
              "        411.6184, 433.8081, 441.5355, 438.1096, 437.5651, 450.1714, 439.7906,\n",
              "        429.7813, 443.2680, 423.2501, 435.0064, 445.7311, 421.8165, 438.0741,\n",
              "        416.5206, 425.5953, 444.5760, 431.6331, 439.0455, 454.2089, 386.2811,\n",
              "        444.0154, 441.2814, 437.8051, 440.6770, 431.9468, 413.9568, 444.6879,\n",
              "        445.4962, 434.6720, 421.6457, 424.0478, 439.4895, 419.4149, 429.1205,\n",
              "        441.5368, 435.2282, 438.2585, 433.9427, 428.4285, 417.3004, 438.9912,\n",
              "        422.2676, 422.6285, 437.2614, 453.0658, 446.9125, 430.0360, 435.3096,\n",
              "        440.8641, 432.4124, 437.7288, 444.4147, 415.2664, 452.9628, 433.8447,\n",
              "        416.7220, 450.0892, 445.6443, 440.6169, 426.9055, 444.7993, 448.0431,\n",
              "        433.5669, 422.8795, 425.2449, 437.9989, 447.1384, 429.7292, 436.6313,\n",
              "        430.9173, 434.6084, 432.8671, 442.8904, 436.0084, 432.1196, 433.6075,\n",
              "        449.3467, 433.3180, 427.0597, 434.9688, 444.4854, 442.8297, 421.7941,\n",
              "        425.0344, 436.7944, 426.4072, 449.6587, 444.3975, 433.7348, 438.1680,\n",
              "        423.6844, 446.6844, 448.7368, 423.3635, 431.3843, 439.5126, 439.9011,\n",
              "        431.3083, 417.7664, 425.6723, 436.2635, 440.9865, 449.8626, 442.8511,\n",
              "        436.3418, 425.2736, 363.7227, 452.2954, 433.4684, 440.4413, 437.4503,\n",
              "        450.3712, 445.2585, 442.4253, 454.3520, 453.9844, 436.5376, 433.7018,\n",
              "        448.7094, 436.7948, 429.7041, 426.1182, 440.0866, 443.9504, 430.1042,\n",
              "        437.8879, 435.2681, 444.4450, 433.8193, 446.6543, 439.4739, 437.1906,\n",
              "        438.8991, 438.8817, 395.6297, 443.3632, 448.2576, 398.0888, 428.2484,\n",
              "        443.0070, 448.3468, 436.3629, 442.1552, 441.6715, 440.0324, 442.7939,\n",
              "        451.0958, 410.9902, 434.9760, 435.9375, 448.2568, 454.6101, 429.1455,\n",
              "        420.3759, 450.8607, 431.8327, 434.5052, 442.4189, 453.0188, 446.2719,\n",
              "        440.4214, 428.6666, 426.4025, 410.5114, 441.4728, 432.7072, 443.8152,\n",
              "        445.0756, 446.6366, 429.6810, 438.7892, 437.8693, 434.9146, 425.0480,\n",
              "        435.8231, 420.8170, 436.9763, 438.8107, 430.2634, 409.9101, 443.4112,\n",
              "        424.7384, 448.3517, 430.8520, 439.2165, 414.4898, 435.8452, 443.1432,\n",
              "        439.4437, 445.9822, 439.0606, 435.9161, 442.9267, 438.3599, 436.8188,\n",
              "        438.1940, 440.2162, 438.7476, 431.4249, 444.1624, 442.9263, 434.4862,\n",
              "        429.3210, 441.0563, 449.2583, 445.2757, 424.2922, 440.8217, 439.6390,\n",
              "        447.6757, 438.8127, 452.6138, 409.7959, 436.9319, 451.2218, 434.8930,\n",
              "        444.8194, 415.8809, 443.5397, 433.5745, 434.8000, 441.2029, 446.0645,\n",
              "        435.3726, 447.3196, 429.0922, 445.5944, 444.1047, 443.5721, 445.2703,\n",
              "        435.1052, 443.3802, 446.1826, 446.9915, 435.2303, 433.2612, 446.8598,\n",
              "        433.6550, 428.3174, 433.1892, 443.0679, 432.6197, 437.1420, 424.3645,\n",
              "        434.1130, 443.3732, 433.7443, 410.3112, 433.7680, 449.7407, 444.9548,\n",
              "        404.9027, 441.1639, 438.6301, 441.4515, 412.6384, 421.1747, 442.6059,\n",
              "        430.4765, 421.1105, 454.5966, 433.2424, 428.6080, 436.0581, 439.3195,\n",
              "        430.8804, 451.6207, 440.6987, 451.1193, 448.8069, 430.8897, 396.4971,\n",
              "        436.1878, 444.3175, 395.4779, 442.5556, 424.8076, 426.8360, 406.4652,\n",
              "        435.6408, 439.8974, 437.8485, 451.2082, 437.1693, 421.0526, 435.2685,\n",
              "        438.5606, 431.6856, 400.1554, 440.8099, 443.3678, 437.3556, 449.7849,\n",
              "        437.1337, 404.2109, 413.8330, 435.0452, 450.4079, 442.9185, 435.1630,\n",
              "        439.2973, 425.3762, 439.3400, 444.1490, 433.8716, 434.0056, 434.9896,\n",
              "        426.7294, 436.6786, 433.3843, 448.3062, 454.4232, 434.6290, 443.9227,\n",
              "        422.0956, 449.1064, 431.8106, 437.6960, 426.1647, 412.5076, 417.5771,\n",
              "        415.7726, 444.3174, 446.0696, 423.2569, 436.6625, 434.3197, 442.9983,\n",
              "        439.0894, 449.9882, 441.6348, 440.9174, 433.8409, 419.7646, 458.3764,\n",
              "        442.3532, 445.2224, 436.9009, 444.6331, 444.6291, 442.2353, 434.1233,\n",
              "        407.7034, 435.5810, 377.7636, 434.2286, 448.2238, 426.2550, 435.4667,\n",
              "        436.5042, 444.6444, 442.3727, 449.4510, 449.6673, 445.5625, 435.2436,\n",
              "        429.7728, 439.5689, 444.7983, 433.7647, 434.5318, 441.4167, 430.7998,\n",
              "        432.7809, 424.3688, 441.2110, 444.2764, 444.0851, 440.1567, 436.3123,\n",
              "        443.2732, 450.7574, 424.2997, 424.4946, 445.1721, 438.1482, 432.6598,\n",
              "        441.8673, 449.6599, 397.3811, 444.4634, 438.5014, 439.8683, 437.9724,\n",
              "        442.4601, 433.6436, 442.0087, 443.2128, 436.4401, 443.7773, 440.4411,\n",
              "        437.3808, 428.3193, 437.9421, 435.9434, 448.1414, 437.4799, 448.0590,\n",
              "        428.7319, 443.2023, 437.0673, 441.4588, 418.3206, 401.4688, 446.6022,\n",
              "        440.1009, 442.5034, 444.0354, 444.5584, 438.9084, 449.5381, 442.3481,\n",
              "        442.9819, 431.9015, 436.2384, 437.8188, 438.9302, 445.5789, 438.8453,\n",
              "        437.4113, 450.5679, 446.2110, 450.2846, 448.9061, 443.3369, 429.9092,\n",
              "        439.9380, 435.1392, 439.9041, 444.4677, 395.5086, 430.2085, 445.5246,\n",
              "        446.0964, 444.2857, 417.5573, 446.8695, 435.8531, 405.3823, 425.0228,\n",
              "        448.8201, 438.0622, 438.1243, 444.7742, 431.4190, 441.5333, 431.9499,\n",
              "        439.9026, 435.1238, 416.1297, 447.0639, 434.0254, 433.5847, 438.8497,\n",
              "        438.4018, 441.8609, 451.5082, 442.5115, 431.4777, 441.2087, 447.3434,\n",
              "        443.7897, 448.9810, 436.8051, 446.2666, 443.3822, 439.4711, 420.0013,\n",
              "        437.8372, 442.5304, 447.7998])"
            ]
          },
          "metadata": {
            "tags": []
          },
          "execution_count": 214
        }
      ]
    },
    {
      "cell_type": "markdown",
      "metadata": {
        "id": "ejzb2ld3ENo6"
      },
      "source": [
        "## Ranking the results"
      ]
    },
    {
      "cell_type": "code",
      "metadata": {
        "colab": {
          "base_uri": "https://localhost:8080/"
        },
        "id": "aSmVaBXVN_RD",
        "outputId": "7890db7d-e125-4d71-ed00-07c3702ef582"
      },
      "source": [
        "topk = 10\n",
        "values, indices = torch.topk(result, topk,largest=True)\n",
        "print(values,indices)"
      ],
      "execution_count": 215,
      "outputs": [
        {
          "output_type": "stream",
          "text": [
            "tensor([458.3764, 457.1965, 454.6101, 454.5966, 454.4232, 454.3520, 454.2089,\n",
            "        453.9844, 453.0658, 453.0188]) tensor([363,  12, 180, 289, 340, 143,  47, 144,  73, 187])\n"
          ],
          "name": "stdout"
        }
      ]
    },
    {
      "cell_type": "code",
      "metadata": {
        "colab": {
          "base_uri": "https://localhost:8080/"
        },
        "id": "4JeVfM7BNYtb",
        "outputId": "ad25f3a7-6855-4d42-b4e9-69188eea8e13"
      },
      "source": [
        "for i in range(0,topk):\n",
        "  index = indices[i].item()\n",
        "  value = int(values[i].item())\n",
        "  print(value,titles[index],links[index])\n"
      ],
      "execution_count": 216,
      "outputs": [
        {
          "output_type": "stream",
          "text": [
            "458 Viele Corona-Tote: Durchsuchungen in Altenheimen in Mailand https://www.faz.net/aktuell/gesellschaft/gesundheit/coronavirus/viele-corona-tote-durchsuchungen-in-altenheimen-in-mailand-16724777.htm\n",
            "457 Coronakrise: Condor-Rettung endgültig geplatzt https://www.spiegel.de/wirtschaft/unternehmen/coronakrise-condor-rettung-endgueltig-geplatzt-a-4ebf4558-adc1-48a1-ad52-0c4f5736144a#ref=rs\n",
            "454 USA: Eine Pressekonferenz, wie sie wohl nur Trump geben kann https://www.sueddeutsche.de/politik/coronavirus-usa-trump-1.487579\n",
            "454 Südkorea wählt trotz Corona-Krise https://www.wienerzeitung.at/nachrichten/politik/welt/2057223-Suedkorea-waehlt-trotz-Corona-Krise.htm\n",
            "454 Coronakrise: Shinzo Abe allein zu Haus https://www.sueddeutsche.de/panorama/japan-coronavirus-shinzo-abe-1.487623\n",
            "454 USA: Mindestens 20 Tote durch Stürme https://www.zeit.de/gesellschaft/zeitgeschehen/2020-04/usa-stuerme-tornados-mississippi-tot\n",
            "454 Corona-Berichterstattung: Angesteckt https://www.zeit.de/2020/16/coronavirus-berichterstattung-journalismus-informatio\n",
            "453 Coronavirus: Frankreich verlängert Ausgangssperre bis zum 11. Mai https://www.faz.net/aktuell/politik/ausland/corona-pandemie-frankreich-verlaengert-ausgangssperre-bis-zum-11-mai-16723983.htm\n",
            "453 Eurowings Kreditkarte – die Co-Branding Card von Barclaycard https://www.ftd.de/eurowings-kreditkarte\n",
            "453 Coronakrise: Trump wehrt sich gegen Vorwürfe https://www.faz.net/aktuell/politik/trumps-praesidentschaft/coronakrise-trump-wehrt-sich-gegen-vorwuerfe-16724088.htm\n"
          ],
          "name": "stdout"
        }
      ]
    },
    {
      "cell_type": "markdown",
      "metadata": {
        "id": "3CVJb7KDE4lj"
      },
      "source": [
        "## Let's take a look at the vector space\n",
        "Download the two files and upload them into [Tensorflow Projector](https://projector.tensorflow.org/)."
      ]
    },
    {
      "cell_type": "code",
      "metadata": {
        "id": "WXFl-ZhrXPyD"
      },
      "source": [
        "# export to tf projector\n",
        "x_np = headline_vectors.numpy()\n",
        "x_df = pd.DataFrame(x_np)\n",
        "x_df.to_csv('vectors.tsv',sep=\"\\t\",index=False, header=None,encoding=\"utf-8\")\n",
        "\n",
        "with open('titles.tsv', 'w') as writer:\n",
        "  for title in titles:\n",
        "    writer.write(title[:150]+\"...\\n\")\n"
      ],
      "execution_count": 217,
      "outputs": []
    },
    {
      "cell_type": "markdown",
      "metadata": {
        "id": "gPbfr3P2FKdH"
      },
      "source": [
        "# Your tasks\n",
        "\n",
        "Try to improve the search results. Here are some ideas:\n",
        "\n",
        "* try out different language models\n",
        "* try out different pooling modes \n",
        "  * e.g you can use the mean of the \"last_hidden_state\" tensor\n",
        "* try out sentence transformers like this one: [Language-agnostic BERT Sentence Embedding](https://arxiv.org/abs/2007.01852)\n",
        "\n",
        "Don't forget to check your results with the embedding projector!\n",
        "\n",
        "\n",
        "Bonus:\n",
        "\n",
        "* modify our code and use the gpu\n",
        "* try a clustering like k-nearest neighbors to group news artikels\n"
      ]
    }
  ]
}