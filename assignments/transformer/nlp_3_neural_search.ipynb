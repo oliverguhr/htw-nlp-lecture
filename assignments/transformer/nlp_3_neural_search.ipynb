{
  "nbformat": 4,
  "nbformat_minor": 0,
  "metadata": {
    "colab": {
      "name": "nlp 3 - neural search.ipynb",
      "provenance": [],
      "collapsed_sections": [],
      "authorship_tag": "ABX9TyOCrzvEnA1p1szJTmjSuWK+",
      "include_colab_link": true
    },
    "kernelspec": {
      "name": "python3",
      "display_name": "Python 3"
    },
    "language_info": {
      "name": "python"
    },
    "accelerator": "GPU",
    "widgets": {
      "application/vnd.jupyter.widget-state+json": {
        "049bb7d1cdef49a8a820ea465497c9ed": {
          "model_module": "@jupyter-widgets/controls",
          "model_name": "HBoxModel",
          "state": {
            "_view_name": "HBoxView",
            "_dom_classes": [],
            "_model_name": "HBoxModel",
            "_view_module": "@jupyter-widgets/controls",
            "_model_module_version": "1.5.0",
            "_view_count": null,
            "_view_module_version": "1.5.0",
            "box_style": "",
            "layout": "IPY_MODEL_d7ff3d42bc44471db4066203aaa73227",
            "_model_module": "@jupyter-widgets/controls",
            "children": [
              "IPY_MODEL_f9eb5d29da4d45f8a92a42f3c44c3d20",
              "IPY_MODEL_595662e270d64c8f84815bc933df13ef"
            ]
          }
        },
        "d7ff3d42bc44471db4066203aaa73227": {
          "model_module": "@jupyter-widgets/base",
          "model_name": "LayoutModel",
          "state": {
            "_view_name": "LayoutView",
            "grid_template_rows": null,
            "right": null,
            "justify_content": null,
            "_view_module": "@jupyter-widgets/base",
            "overflow": null,
            "_model_module_version": "1.2.0",
            "_view_count": null,
            "flex_flow": null,
            "width": null,
            "min_width": null,
            "border": null,
            "align_items": null,
            "bottom": null,
            "_model_module": "@jupyter-widgets/base",
            "top": null,
            "grid_column": null,
            "overflow_y": null,
            "overflow_x": null,
            "grid_auto_flow": null,
            "grid_area": null,
            "grid_template_columns": null,
            "flex": null,
            "_model_name": "LayoutModel",
            "justify_items": null,
            "grid_row": null,
            "max_height": null,
            "align_content": null,
            "visibility": null,
            "align_self": null,
            "height": null,
            "min_height": null,
            "padding": null,
            "grid_auto_rows": null,
            "grid_gap": null,
            "max_width": null,
            "order": null,
            "_view_module_version": "1.2.0",
            "grid_template_areas": null,
            "object_position": null,
            "object_fit": null,
            "grid_auto_columns": null,
            "margin": null,
            "display": null,
            "left": null
          }
        },
        "f9eb5d29da4d45f8a92a42f3c44c3d20": {
          "model_module": "@jupyter-widgets/controls",
          "model_name": "FloatProgressModel",
          "state": {
            "_view_name": "ProgressView",
            "style": "IPY_MODEL_08bc2c2c5af54c6787d56efa858a99c6",
            "_dom_classes": [],
            "description": "Downloading: 100%",
            "_model_name": "FloatProgressModel",
            "bar_style": "success",
            "max": 570,
            "_view_module": "@jupyter-widgets/controls",
            "_model_module_version": "1.5.0",
            "value": 570,
            "_view_count": null,
            "_view_module_version": "1.5.0",
            "orientation": "horizontal",
            "min": 0,
            "description_tooltip": null,
            "_model_module": "@jupyter-widgets/controls",
            "layout": "IPY_MODEL_8df4c32b1c3c4aefb11040f70a3e8c11"
          }
        },
        "595662e270d64c8f84815bc933df13ef": {
          "model_module": "@jupyter-widgets/controls",
          "model_name": "HTMLModel",
          "state": {
            "_view_name": "HTMLView",
            "style": "IPY_MODEL_b2a1503474ef4aeebd4a43d30e80b2f7",
            "_dom_classes": [],
            "description": "",
            "_model_name": "HTMLModel",
            "placeholder": "​",
            "_view_module": "@jupyter-widgets/controls",
            "_model_module_version": "1.5.0",
            "value": " 570/570 [00:01&lt;00:00, 328B/s]",
            "_view_count": null,
            "_view_module_version": "1.5.0",
            "description_tooltip": null,
            "_model_module": "@jupyter-widgets/controls",
            "layout": "IPY_MODEL_9d6704cd62a14a39968865cc4d7cb034"
          }
        },
        "08bc2c2c5af54c6787d56efa858a99c6": {
          "model_module": "@jupyter-widgets/controls",
          "model_name": "ProgressStyleModel",
          "state": {
            "_view_name": "StyleView",
            "_model_name": "ProgressStyleModel",
            "description_width": "initial",
            "_view_module": "@jupyter-widgets/base",
            "_model_module_version": "1.5.0",
            "_view_count": null,
            "_view_module_version": "1.2.0",
            "bar_color": null,
            "_model_module": "@jupyter-widgets/controls"
          }
        },
        "8df4c32b1c3c4aefb11040f70a3e8c11": {
          "model_module": "@jupyter-widgets/base",
          "model_name": "LayoutModel",
          "state": {
            "_view_name": "LayoutView",
            "grid_template_rows": null,
            "right": null,
            "justify_content": null,
            "_view_module": "@jupyter-widgets/base",
            "overflow": null,
            "_model_module_version": "1.2.0",
            "_view_count": null,
            "flex_flow": null,
            "width": null,
            "min_width": null,
            "border": null,
            "align_items": null,
            "bottom": null,
            "_model_module": "@jupyter-widgets/base",
            "top": null,
            "grid_column": null,
            "overflow_y": null,
            "overflow_x": null,
            "grid_auto_flow": null,
            "grid_area": null,
            "grid_template_columns": null,
            "flex": null,
            "_model_name": "LayoutModel",
            "justify_items": null,
            "grid_row": null,
            "max_height": null,
            "align_content": null,
            "visibility": null,
            "align_self": null,
            "height": null,
            "min_height": null,
            "padding": null,
            "grid_auto_rows": null,
            "grid_gap": null,
            "max_width": null,
            "order": null,
            "_view_module_version": "1.2.0",
            "grid_template_areas": null,
            "object_position": null,
            "object_fit": null,
            "grid_auto_columns": null,
            "margin": null,
            "display": null,
            "left": null
          }
        },
        "b2a1503474ef4aeebd4a43d30e80b2f7": {
          "model_module": "@jupyter-widgets/controls",
          "model_name": "DescriptionStyleModel",
          "state": {
            "_view_name": "StyleView",
            "_model_name": "DescriptionStyleModel",
            "description_width": "",
            "_view_module": "@jupyter-widgets/base",
            "_model_module_version": "1.5.0",
            "_view_count": null,
            "_view_module_version": "1.2.0",
            "_model_module": "@jupyter-widgets/controls"
          }
        },
        "9d6704cd62a14a39968865cc4d7cb034": {
          "model_module": "@jupyter-widgets/base",
          "model_name": "LayoutModel",
          "state": {
            "_view_name": "LayoutView",
            "grid_template_rows": null,
            "right": null,
            "justify_content": null,
            "_view_module": "@jupyter-widgets/base",
            "overflow": null,
            "_model_module_version": "1.2.0",
            "_view_count": null,
            "flex_flow": null,
            "width": null,
            "min_width": null,
            "border": null,
            "align_items": null,
            "bottom": null,
            "_model_module": "@jupyter-widgets/base",
            "top": null,
            "grid_column": null,
            "overflow_y": null,
            "overflow_x": null,
            "grid_auto_flow": null,
            "grid_area": null,
            "grid_template_columns": null,
            "flex": null,
            "_model_name": "LayoutModel",
            "justify_items": null,
            "grid_row": null,
            "max_height": null,
            "align_content": null,
            "visibility": null,
            "align_self": null,
            "height": null,
            "min_height": null,
            "padding": null,
            "grid_auto_rows": null,
            "grid_gap": null,
            "max_width": null,
            "order": null,
            "_view_module_version": "1.2.0",
            "grid_template_areas": null,
            "object_position": null,
            "object_fit": null,
            "grid_auto_columns": null,
            "margin": null,
            "display": null,
            "left": null
          }
        },
        "9975e6d6f84a4173b8f6103eb35a339d": {
          "model_module": "@jupyter-widgets/controls",
          "model_name": "HBoxModel",
          "state": {
            "_view_name": "HBoxView",
            "_dom_classes": [],
            "_model_name": "HBoxModel",
            "_view_module": "@jupyter-widgets/controls",
            "_model_module_version": "1.5.0",
            "_view_count": null,
            "_view_module_version": "1.5.0",
            "box_style": "",
            "layout": "IPY_MODEL_52a0a9e1129b4b298ad3e04a7634c597",
            "_model_module": "@jupyter-widgets/controls",
            "children": [
              "IPY_MODEL_316a5e6e86fe482fbcc3ef9d6403c303",
              "IPY_MODEL_0ef1ed6b2d6c4fb6a140c61ccf089086"
            ]
          }
        },
        "52a0a9e1129b4b298ad3e04a7634c597": {
          "model_module": "@jupyter-widgets/base",
          "model_name": "LayoutModel",
          "state": {
            "_view_name": "LayoutView",
            "grid_template_rows": null,
            "right": null,
            "justify_content": null,
            "_view_module": "@jupyter-widgets/base",
            "overflow": null,
            "_model_module_version": "1.2.0",
            "_view_count": null,
            "flex_flow": null,
            "width": null,
            "min_width": null,
            "border": null,
            "align_items": null,
            "bottom": null,
            "_model_module": "@jupyter-widgets/base",
            "top": null,
            "grid_column": null,
            "overflow_y": null,
            "overflow_x": null,
            "grid_auto_flow": null,
            "grid_area": null,
            "grid_template_columns": null,
            "flex": null,
            "_model_name": "LayoutModel",
            "justify_items": null,
            "grid_row": null,
            "max_height": null,
            "align_content": null,
            "visibility": null,
            "align_self": null,
            "height": null,
            "min_height": null,
            "padding": null,
            "grid_auto_rows": null,
            "grid_gap": null,
            "max_width": null,
            "order": null,
            "_view_module_version": "1.2.0",
            "grid_template_areas": null,
            "object_position": null,
            "object_fit": null,
            "grid_auto_columns": null,
            "margin": null,
            "display": null,
            "left": null
          }
        },
        "316a5e6e86fe482fbcc3ef9d6403c303": {
          "model_module": "@jupyter-widgets/controls",
          "model_name": "FloatProgressModel",
          "state": {
            "_view_name": "ProgressView",
            "style": "IPY_MODEL_6e3d5904f13f4ed1bba1b9cdaab5c332",
            "_dom_classes": [],
            "description": "Downloading: 100%",
            "_model_name": "FloatProgressModel",
            "bar_style": "success",
            "max": 213450,
            "_view_module": "@jupyter-widgets/controls",
            "_model_module_version": "1.5.0",
            "value": 213450,
            "_view_count": null,
            "_view_module_version": "1.5.0",
            "orientation": "horizontal",
            "min": 0,
            "description_tooltip": null,
            "_model_module": "@jupyter-widgets/controls",
            "layout": "IPY_MODEL_2ca82bc2c8644d95882091497361ed1e"
          }
        },
        "0ef1ed6b2d6c4fb6a140c61ccf089086": {
          "model_module": "@jupyter-widgets/controls",
          "model_name": "HTMLModel",
          "state": {
            "_view_name": "HTMLView",
            "style": "IPY_MODEL_990e4eafa6c342fe9422a388d9e17319",
            "_dom_classes": [],
            "description": "",
            "_model_name": "HTMLModel",
            "placeholder": "​",
            "_view_module": "@jupyter-widgets/controls",
            "_model_module_version": "1.5.0",
            "value": " 213k/213k [00:01&lt;00:00, 162kB/s]",
            "_view_count": null,
            "_view_module_version": "1.5.0",
            "description_tooltip": null,
            "_model_module": "@jupyter-widgets/controls",
            "layout": "IPY_MODEL_a034e0a28ea94cd1960204f8111ba2cb"
          }
        },
        "6e3d5904f13f4ed1bba1b9cdaab5c332": {
          "model_module": "@jupyter-widgets/controls",
          "model_name": "ProgressStyleModel",
          "state": {
            "_view_name": "StyleView",
            "_model_name": "ProgressStyleModel",
            "description_width": "initial",
            "_view_module": "@jupyter-widgets/base",
            "_model_module_version": "1.5.0",
            "_view_count": null,
            "_view_module_version": "1.2.0",
            "bar_color": null,
            "_model_module": "@jupyter-widgets/controls"
          }
        },
        "2ca82bc2c8644d95882091497361ed1e": {
          "model_module": "@jupyter-widgets/base",
          "model_name": "LayoutModel",
          "state": {
            "_view_name": "LayoutView",
            "grid_template_rows": null,
            "right": null,
            "justify_content": null,
            "_view_module": "@jupyter-widgets/base",
            "overflow": null,
            "_model_module_version": "1.2.0",
            "_view_count": null,
            "flex_flow": null,
            "width": null,
            "min_width": null,
            "border": null,
            "align_items": null,
            "bottom": null,
            "_model_module": "@jupyter-widgets/base",
            "top": null,
            "grid_column": null,
            "overflow_y": null,
            "overflow_x": null,
            "grid_auto_flow": null,
            "grid_area": null,
            "grid_template_columns": null,
            "flex": null,
            "_model_name": "LayoutModel",
            "justify_items": null,
            "grid_row": null,
            "max_height": null,
            "align_content": null,
            "visibility": null,
            "align_self": null,
            "height": null,
            "min_height": null,
            "padding": null,
            "grid_auto_rows": null,
            "grid_gap": null,
            "max_width": null,
            "order": null,
            "_view_module_version": "1.2.0",
            "grid_template_areas": null,
            "object_position": null,
            "object_fit": null,
            "grid_auto_columns": null,
            "margin": null,
            "display": null,
            "left": null
          }
        },
        "990e4eafa6c342fe9422a388d9e17319": {
          "model_module": "@jupyter-widgets/controls",
          "model_name": "DescriptionStyleModel",
          "state": {
            "_view_name": "StyleView",
            "_model_name": "DescriptionStyleModel",
            "description_width": "",
            "_view_module": "@jupyter-widgets/base",
            "_model_module_version": "1.5.0",
            "_view_count": null,
            "_view_module_version": "1.2.0",
            "_model_module": "@jupyter-widgets/controls"
          }
        },
        "a034e0a28ea94cd1960204f8111ba2cb": {
          "model_module": "@jupyter-widgets/base",
          "model_name": "LayoutModel",
          "state": {
            "_view_name": "LayoutView",
            "grid_template_rows": null,
            "right": null,
            "justify_content": null,
            "_view_module": "@jupyter-widgets/base",
            "overflow": null,
            "_model_module_version": "1.2.0",
            "_view_count": null,
            "flex_flow": null,
            "width": null,
            "min_width": null,
            "border": null,
            "align_items": null,
            "bottom": null,
            "_model_module": "@jupyter-widgets/base",
            "top": null,
            "grid_column": null,
            "overflow_y": null,
            "overflow_x": null,
            "grid_auto_flow": null,
            "grid_area": null,
            "grid_template_columns": null,
            "flex": null,
            "_model_name": "LayoutModel",
            "justify_items": null,
            "grid_row": null,
            "max_height": null,
            "align_content": null,
            "visibility": null,
            "align_self": null,
            "height": null,
            "min_height": null,
            "padding": null,
            "grid_auto_rows": null,
            "grid_gap": null,
            "max_width": null,
            "order": null,
            "_view_module_version": "1.2.0",
            "grid_template_areas": null,
            "object_position": null,
            "object_fit": null,
            "grid_auto_columns": null,
            "margin": null,
            "display": null,
            "left": null
          }
        },
        "256fdfe06b4d4fb0a1cd290f14468db8": {
          "model_module": "@jupyter-widgets/controls",
          "model_name": "HBoxModel",
          "state": {
            "_view_name": "HBoxView",
            "_dom_classes": [],
            "_model_name": "HBoxModel",
            "_view_module": "@jupyter-widgets/controls",
            "_model_module_version": "1.5.0",
            "_view_count": null,
            "_view_module_version": "1.5.0",
            "box_style": "",
            "layout": "IPY_MODEL_bec37a48a7d74881a38b2086e8e4a276",
            "_model_module": "@jupyter-widgets/controls",
            "children": [
              "IPY_MODEL_7bf31f2a003c4b3eb839d80e9e38649f",
              "IPY_MODEL_851e288def5748a3b98a34e0fbd95d06"
            ]
          }
        },
        "bec37a48a7d74881a38b2086e8e4a276": {
          "model_module": "@jupyter-widgets/base",
          "model_name": "LayoutModel",
          "state": {
            "_view_name": "LayoutView",
            "grid_template_rows": null,
            "right": null,
            "justify_content": null,
            "_view_module": "@jupyter-widgets/base",
            "overflow": null,
            "_model_module_version": "1.2.0",
            "_view_count": null,
            "flex_flow": null,
            "width": null,
            "min_width": null,
            "border": null,
            "align_items": null,
            "bottom": null,
            "_model_module": "@jupyter-widgets/base",
            "top": null,
            "grid_column": null,
            "overflow_y": null,
            "overflow_x": null,
            "grid_auto_flow": null,
            "grid_area": null,
            "grid_template_columns": null,
            "flex": null,
            "_model_name": "LayoutModel",
            "justify_items": null,
            "grid_row": null,
            "max_height": null,
            "align_content": null,
            "visibility": null,
            "align_self": null,
            "height": null,
            "min_height": null,
            "padding": null,
            "grid_auto_rows": null,
            "grid_gap": null,
            "max_width": null,
            "order": null,
            "_view_module_version": "1.2.0",
            "grid_template_areas": null,
            "object_position": null,
            "object_fit": null,
            "grid_auto_columns": null,
            "margin": null,
            "display": null,
            "left": null
          }
        },
        "7bf31f2a003c4b3eb839d80e9e38649f": {
          "model_module": "@jupyter-widgets/controls",
          "model_name": "FloatProgressModel",
          "state": {
            "_view_name": "ProgressView",
            "style": "IPY_MODEL_b90cf3e632d64c37a4944862d9628914",
            "_dom_classes": [],
            "description": "Downloading: 100%",
            "_model_name": "FloatProgressModel",
            "bar_style": "success",
            "max": 435797,
            "_view_module": "@jupyter-widgets/controls",
            "_model_module_version": "1.5.0",
            "value": 435797,
            "_view_count": null,
            "_view_module_version": "1.5.0",
            "orientation": "horizontal",
            "min": 0,
            "description_tooltip": null,
            "_model_module": "@jupyter-widgets/controls",
            "layout": "IPY_MODEL_b94fa2c3b2e84df0bab62b114e5fa01a"
          }
        },
        "851e288def5748a3b98a34e0fbd95d06": {
          "model_module": "@jupyter-widgets/controls",
          "model_name": "HTMLModel",
          "state": {
            "_view_name": "HTMLView",
            "style": "IPY_MODEL_90d5380784b140468850fde644a71e0b",
            "_dom_classes": [],
            "description": "",
            "_model_name": "HTMLModel",
            "placeholder": "​",
            "_view_module": "@jupyter-widgets/controls",
            "_model_module_version": "1.5.0",
            "value": " 436k/436k [00:00&lt;00:00, 503kB/s]",
            "_view_count": null,
            "_view_module_version": "1.5.0",
            "description_tooltip": null,
            "_model_module": "@jupyter-widgets/controls",
            "layout": "IPY_MODEL_fd2328e74362435ab00d9bf25d3a46f8"
          }
        },
        "b90cf3e632d64c37a4944862d9628914": {
          "model_module": "@jupyter-widgets/controls",
          "model_name": "ProgressStyleModel",
          "state": {
            "_view_name": "StyleView",
            "_model_name": "ProgressStyleModel",
            "description_width": "initial",
            "_view_module": "@jupyter-widgets/base",
            "_model_module_version": "1.5.0",
            "_view_count": null,
            "_view_module_version": "1.2.0",
            "bar_color": null,
            "_model_module": "@jupyter-widgets/controls"
          }
        },
        "b94fa2c3b2e84df0bab62b114e5fa01a": {
          "model_module": "@jupyter-widgets/base",
          "model_name": "LayoutModel",
          "state": {
            "_view_name": "LayoutView",
            "grid_template_rows": null,
            "right": null,
            "justify_content": null,
            "_view_module": "@jupyter-widgets/base",
            "overflow": null,
            "_model_module_version": "1.2.0",
            "_view_count": null,
            "flex_flow": null,
            "width": null,
            "min_width": null,
            "border": null,
            "align_items": null,
            "bottom": null,
            "_model_module": "@jupyter-widgets/base",
            "top": null,
            "grid_column": null,
            "overflow_y": null,
            "overflow_x": null,
            "grid_auto_flow": null,
            "grid_area": null,
            "grid_template_columns": null,
            "flex": null,
            "_model_name": "LayoutModel",
            "justify_items": null,
            "grid_row": null,
            "max_height": null,
            "align_content": null,
            "visibility": null,
            "align_self": null,
            "height": null,
            "min_height": null,
            "padding": null,
            "grid_auto_rows": null,
            "grid_gap": null,
            "max_width": null,
            "order": null,
            "_view_module_version": "1.2.0",
            "grid_template_areas": null,
            "object_position": null,
            "object_fit": null,
            "grid_auto_columns": null,
            "margin": null,
            "display": null,
            "left": null
          }
        },
        "90d5380784b140468850fde644a71e0b": {
          "model_module": "@jupyter-widgets/controls",
          "model_name": "DescriptionStyleModel",
          "state": {
            "_view_name": "StyleView",
            "_model_name": "DescriptionStyleModel",
            "description_width": "",
            "_view_module": "@jupyter-widgets/base",
            "_model_module_version": "1.5.0",
            "_view_count": null,
            "_view_module_version": "1.2.0",
            "_model_module": "@jupyter-widgets/controls"
          }
        },
        "fd2328e74362435ab00d9bf25d3a46f8": {
          "model_module": "@jupyter-widgets/base",
          "model_name": "LayoutModel",
          "state": {
            "_view_name": "LayoutView",
            "grid_template_rows": null,
            "right": null,
            "justify_content": null,
            "_view_module": "@jupyter-widgets/base",
            "overflow": null,
            "_model_module_version": "1.2.0",
            "_view_count": null,
            "flex_flow": null,
            "width": null,
            "min_width": null,
            "border": null,
            "align_items": null,
            "bottom": null,
            "_model_module": "@jupyter-widgets/base",
            "top": null,
            "grid_column": null,
            "overflow_y": null,
            "overflow_x": null,
            "grid_auto_flow": null,
            "grid_area": null,
            "grid_template_columns": null,
            "flex": null,
            "_model_name": "LayoutModel",
            "justify_items": null,
            "grid_row": null,
            "max_height": null,
            "align_content": null,
            "visibility": null,
            "align_self": null,
            "height": null,
            "min_height": null,
            "padding": null,
            "grid_auto_rows": null,
            "grid_gap": null,
            "max_width": null,
            "order": null,
            "_view_module_version": "1.2.0",
            "grid_template_areas": null,
            "object_position": null,
            "object_fit": null,
            "grid_auto_columns": null,
            "margin": null,
            "display": null,
            "left": null
          }
        },
        "a228a414c70c4f809b1d822e7e3276eb": {
          "model_module": "@jupyter-widgets/controls",
          "model_name": "HBoxModel",
          "state": {
            "_view_name": "HBoxView",
            "_dom_classes": [],
            "_model_name": "HBoxModel",
            "_view_module": "@jupyter-widgets/controls",
            "_model_module_version": "1.5.0",
            "_view_count": null,
            "_view_module_version": "1.5.0",
            "box_style": "",
            "layout": "IPY_MODEL_3ae7647354694305a447f0060a4fc7fd",
            "_model_module": "@jupyter-widgets/controls",
            "children": [
              "IPY_MODEL_453cf714229345b0bef8b4367f1f083e",
              "IPY_MODEL_2633e23226f642239afb8fda0dc84fa8"
            ]
          }
        },
        "3ae7647354694305a447f0060a4fc7fd": {
          "model_module": "@jupyter-widgets/base",
          "model_name": "LayoutModel",
          "state": {
            "_view_name": "LayoutView",
            "grid_template_rows": null,
            "right": null,
            "justify_content": null,
            "_view_module": "@jupyter-widgets/base",
            "overflow": null,
            "_model_module_version": "1.2.0",
            "_view_count": null,
            "flex_flow": null,
            "width": null,
            "min_width": null,
            "border": null,
            "align_items": null,
            "bottom": null,
            "_model_module": "@jupyter-widgets/base",
            "top": null,
            "grid_column": null,
            "overflow_y": null,
            "overflow_x": null,
            "grid_auto_flow": null,
            "grid_area": null,
            "grid_template_columns": null,
            "flex": null,
            "_model_name": "LayoutModel",
            "justify_items": null,
            "grid_row": null,
            "max_height": null,
            "align_content": null,
            "visibility": null,
            "align_self": null,
            "height": null,
            "min_height": null,
            "padding": null,
            "grid_auto_rows": null,
            "grid_gap": null,
            "max_width": null,
            "order": null,
            "_view_module_version": "1.2.0",
            "grid_template_areas": null,
            "object_position": null,
            "object_fit": null,
            "grid_auto_columns": null,
            "margin": null,
            "display": null,
            "left": null
          }
        },
        "453cf714229345b0bef8b4367f1f083e": {
          "model_module": "@jupyter-widgets/controls",
          "model_name": "FloatProgressModel",
          "state": {
            "_view_name": "ProgressView",
            "style": "IPY_MODEL_449f11eded5440628979e0825f862f75",
            "_dom_classes": [],
            "description": "Downloading: 100%",
            "_model_name": "FloatProgressModel",
            "bar_style": "success",
            "max": 29,
            "_view_module": "@jupyter-widgets/controls",
            "_model_module_version": "1.5.0",
            "value": 29,
            "_view_count": null,
            "_view_module_version": "1.5.0",
            "orientation": "horizontal",
            "min": 0,
            "description_tooltip": null,
            "_model_module": "@jupyter-widgets/controls",
            "layout": "IPY_MODEL_c3269ce796114d69952ed9901989453d"
          }
        },
        "2633e23226f642239afb8fda0dc84fa8": {
          "model_module": "@jupyter-widgets/controls",
          "model_name": "HTMLModel",
          "state": {
            "_view_name": "HTMLView",
            "style": "IPY_MODEL_76fc470ee8b3466abf0669f670959ce7",
            "_dom_classes": [],
            "description": "",
            "_model_name": "HTMLModel",
            "placeholder": "​",
            "_view_module": "@jupyter-widgets/controls",
            "_model_module_version": "1.5.0",
            "value": " 29.0/29.0 [00:00&lt;00:00, 677B/s]",
            "_view_count": null,
            "_view_module_version": "1.5.0",
            "description_tooltip": null,
            "_model_module": "@jupyter-widgets/controls",
            "layout": "IPY_MODEL_62440001cbc24ea48879cef25c615730"
          }
        },
        "449f11eded5440628979e0825f862f75": {
          "model_module": "@jupyter-widgets/controls",
          "model_name": "ProgressStyleModel",
          "state": {
            "_view_name": "StyleView",
            "_model_name": "ProgressStyleModel",
            "description_width": "initial",
            "_view_module": "@jupyter-widgets/base",
            "_model_module_version": "1.5.0",
            "_view_count": null,
            "_view_module_version": "1.2.0",
            "bar_color": null,
            "_model_module": "@jupyter-widgets/controls"
          }
        },
        "c3269ce796114d69952ed9901989453d": {
          "model_module": "@jupyter-widgets/base",
          "model_name": "LayoutModel",
          "state": {
            "_view_name": "LayoutView",
            "grid_template_rows": null,
            "right": null,
            "justify_content": null,
            "_view_module": "@jupyter-widgets/base",
            "overflow": null,
            "_model_module_version": "1.2.0",
            "_view_count": null,
            "flex_flow": null,
            "width": null,
            "min_width": null,
            "border": null,
            "align_items": null,
            "bottom": null,
            "_model_module": "@jupyter-widgets/base",
            "top": null,
            "grid_column": null,
            "overflow_y": null,
            "overflow_x": null,
            "grid_auto_flow": null,
            "grid_area": null,
            "grid_template_columns": null,
            "flex": null,
            "_model_name": "LayoutModel",
            "justify_items": null,
            "grid_row": null,
            "max_height": null,
            "align_content": null,
            "visibility": null,
            "align_self": null,
            "height": null,
            "min_height": null,
            "padding": null,
            "grid_auto_rows": null,
            "grid_gap": null,
            "max_width": null,
            "order": null,
            "_view_module_version": "1.2.0",
            "grid_template_areas": null,
            "object_position": null,
            "object_fit": null,
            "grid_auto_columns": null,
            "margin": null,
            "display": null,
            "left": null
          }
        },
        "76fc470ee8b3466abf0669f670959ce7": {
          "model_module": "@jupyter-widgets/controls",
          "model_name": "DescriptionStyleModel",
          "state": {
            "_view_name": "StyleView",
            "_model_name": "DescriptionStyleModel",
            "description_width": "",
            "_view_module": "@jupyter-widgets/base",
            "_model_module_version": "1.5.0",
            "_view_count": null,
            "_view_module_version": "1.2.0",
            "_model_module": "@jupyter-widgets/controls"
          }
        },
        "62440001cbc24ea48879cef25c615730": {
          "model_module": "@jupyter-widgets/base",
          "model_name": "LayoutModel",
          "state": {
            "_view_name": "LayoutView",
            "grid_template_rows": null,
            "right": null,
            "justify_content": null,
            "_view_module": "@jupyter-widgets/base",
            "overflow": null,
            "_model_module_version": "1.2.0",
            "_view_count": null,
            "flex_flow": null,
            "width": null,
            "min_width": null,
            "border": null,
            "align_items": null,
            "bottom": null,
            "_model_module": "@jupyter-widgets/base",
            "top": null,
            "grid_column": null,
            "overflow_y": null,
            "overflow_x": null,
            "grid_auto_flow": null,
            "grid_area": null,
            "grid_template_columns": null,
            "flex": null,
            "_model_name": "LayoutModel",
            "justify_items": null,
            "grid_row": null,
            "max_height": null,
            "align_content": null,
            "visibility": null,
            "align_self": null,
            "height": null,
            "min_height": null,
            "padding": null,
            "grid_auto_rows": null,
            "grid_gap": null,
            "max_width": null,
            "order": null,
            "_view_module_version": "1.2.0",
            "grid_template_areas": null,
            "object_position": null,
            "object_fit": null,
            "grid_auto_columns": null,
            "margin": null,
            "display": null,
            "left": null
          }
        },
        "51ba9174569f40c88be3fe01a6807c6f": {
          "model_module": "@jupyter-widgets/controls",
          "model_name": "HBoxModel",
          "state": {
            "_view_name": "HBoxView",
            "_dom_classes": [],
            "_model_name": "HBoxModel",
            "_view_module": "@jupyter-widgets/controls",
            "_model_module_version": "1.5.0",
            "_view_count": null,
            "_view_module_version": "1.5.0",
            "box_style": "",
            "layout": "IPY_MODEL_6eab778126d44c85b15660b94acf60aa",
            "_model_module": "@jupyter-widgets/controls",
            "children": [
              "IPY_MODEL_275d3040a6f741fdaa44fd57aaac243a",
              "IPY_MODEL_36dc3ab9c07c4666b97a16ad5f5bf046"
            ]
          }
        },
        "6eab778126d44c85b15660b94acf60aa": {
          "model_module": "@jupyter-widgets/base",
          "model_name": "LayoutModel",
          "state": {
            "_view_name": "LayoutView",
            "grid_template_rows": null,
            "right": null,
            "justify_content": null,
            "_view_module": "@jupyter-widgets/base",
            "overflow": null,
            "_model_module_version": "1.2.0",
            "_view_count": null,
            "flex_flow": null,
            "width": null,
            "min_width": null,
            "border": null,
            "align_items": null,
            "bottom": null,
            "_model_module": "@jupyter-widgets/base",
            "top": null,
            "grid_column": null,
            "overflow_y": null,
            "overflow_x": null,
            "grid_auto_flow": null,
            "grid_area": null,
            "grid_template_columns": null,
            "flex": null,
            "_model_name": "LayoutModel",
            "justify_items": null,
            "grid_row": null,
            "max_height": null,
            "align_content": null,
            "visibility": null,
            "align_self": null,
            "height": null,
            "min_height": null,
            "padding": null,
            "grid_auto_rows": null,
            "grid_gap": null,
            "max_width": null,
            "order": null,
            "_view_module_version": "1.2.0",
            "grid_template_areas": null,
            "object_position": null,
            "object_fit": null,
            "grid_auto_columns": null,
            "margin": null,
            "display": null,
            "left": null
          }
        },
        "275d3040a6f741fdaa44fd57aaac243a": {
          "model_module": "@jupyter-widgets/controls",
          "model_name": "FloatProgressModel",
          "state": {
            "_view_name": "ProgressView",
            "style": "IPY_MODEL_00547714fe144b7990fd0a6138ac8f59",
            "_dom_classes": [],
            "description": "Downloading: 100%",
            "_model_name": "FloatProgressModel",
            "bar_style": "success",
            "max": 435779157,
            "_view_module": "@jupyter-widgets/controls",
            "_model_module_version": "1.5.0",
            "value": 435779157,
            "_view_count": null,
            "_view_module_version": "1.5.0",
            "orientation": "horizontal",
            "min": 0,
            "description_tooltip": null,
            "_model_module": "@jupyter-widgets/controls",
            "layout": "IPY_MODEL_f3b365b5fc28475eab88ddbbfe8e8556"
          }
        },
        "36dc3ab9c07c4666b97a16ad5f5bf046": {
          "model_module": "@jupyter-widgets/controls",
          "model_name": "HTMLModel",
          "state": {
            "_view_name": "HTMLView",
            "style": "IPY_MODEL_ce1f9fff8b6847579e18fae26c68c7bc",
            "_dom_classes": [],
            "description": "",
            "_model_name": "HTMLModel",
            "placeholder": "​",
            "_view_module": "@jupyter-widgets/controls",
            "_model_module_version": "1.5.0",
            "value": " 436M/436M [00:14&lt;00:00, 30.6MB/s]",
            "_view_count": null,
            "_view_module_version": "1.5.0",
            "description_tooltip": null,
            "_model_module": "@jupyter-widgets/controls",
            "layout": "IPY_MODEL_54f292ed1fc74ee099653d7a98623b2c"
          }
        },
        "00547714fe144b7990fd0a6138ac8f59": {
          "model_module": "@jupyter-widgets/controls",
          "model_name": "ProgressStyleModel",
          "state": {
            "_view_name": "StyleView",
            "_model_name": "ProgressStyleModel",
            "description_width": "initial",
            "_view_module": "@jupyter-widgets/base",
            "_model_module_version": "1.5.0",
            "_view_count": null,
            "_view_module_version": "1.2.0",
            "bar_color": null,
            "_model_module": "@jupyter-widgets/controls"
          }
        },
        "f3b365b5fc28475eab88ddbbfe8e8556": {
          "model_module": "@jupyter-widgets/base",
          "model_name": "LayoutModel",
          "state": {
            "_view_name": "LayoutView",
            "grid_template_rows": null,
            "right": null,
            "justify_content": null,
            "_view_module": "@jupyter-widgets/base",
            "overflow": null,
            "_model_module_version": "1.2.0",
            "_view_count": null,
            "flex_flow": null,
            "width": null,
            "min_width": null,
            "border": null,
            "align_items": null,
            "bottom": null,
            "_model_module": "@jupyter-widgets/base",
            "top": null,
            "grid_column": null,
            "overflow_y": null,
            "overflow_x": null,
            "grid_auto_flow": null,
            "grid_area": null,
            "grid_template_columns": null,
            "flex": null,
            "_model_name": "LayoutModel",
            "justify_items": null,
            "grid_row": null,
            "max_height": null,
            "align_content": null,
            "visibility": null,
            "align_self": null,
            "height": null,
            "min_height": null,
            "padding": null,
            "grid_auto_rows": null,
            "grid_gap": null,
            "max_width": null,
            "order": null,
            "_view_module_version": "1.2.0",
            "grid_template_areas": null,
            "object_position": null,
            "object_fit": null,
            "grid_auto_columns": null,
            "margin": null,
            "display": null,
            "left": null
          }
        },
        "ce1f9fff8b6847579e18fae26c68c7bc": {
          "model_module": "@jupyter-widgets/controls",
          "model_name": "DescriptionStyleModel",
          "state": {
            "_view_name": "StyleView",
            "_model_name": "DescriptionStyleModel",
            "description_width": "",
            "_view_module": "@jupyter-widgets/base",
            "_model_module_version": "1.5.0",
            "_view_count": null,
            "_view_module_version": "1.2.0",
            "_model_module": "@jupyter-widgets/controls"
          }
        },
        "54f292ed1fc74ee099653d7a98623b2c": {
          "model_module": "@jupyter-widgets/base",
          "model_name": "LayoutModel",
          "state": {
            "_view_name": "LayoutView",
            "grid_template_rows": null,
            "right": null,
            "justify_content": null,
            "_view_module": "@jupyter-widgets/base",
            "overflow": null,
            "_model_module_version": "1.2.0",
            "_view_count": null,
            "flex_flow": null,
            "width": null,
            "min_width": null,
            "border": null,
            "align_items": null,
            "bottom": null,
            "_model_module": "@jupyter-widgets/base",
            "top": null,
            "grid_column": null,
            "overflow_y": null,
            "overflow_x": null,
            "grid_auto_flow": null,
            "grid_area": null,
            "grid_template_columns": null,
            "flex": null,
            "_model_name": "LayoutModel",
            "justify_items": null,
            "grid_row": null,
            "max_height": null,
            "align_content": null,
            "visibility": null,
            "align_self": null,
            "height": null,
            "min_height": null,
            "padding": null,
            "grid_auto_rows": null,
            "grid_gap": null,
            "max_width": null,
            "order": null,
            "_view_module_version": "1.2.0",
            "grid_template_areas": null,
            "object_position": null,
            "object_fit": null,
            "grid_auto_columns": null,
            "margin": null,
            "display": null,
            "left": null
          }
        }
      }
    }
  },
  "cells": [
    {
      "cell_type": "markdown",
      "metadata": {
        "id": "view-in-github",
        "colab_type": "text"
      },
      "source": [
        "<a href=\"https://colab.research.google.com/github/oliverguhr/htw-nlp-lecture/blob/master/assignments/transformer/nlp_3_neural_search.ipynb\" target=\"_parent\"><img src=\"https://colab.research.google.com/assets/colab-badge.svg\" alt=\"Open In Colab\"/></a>"
      ]
    },
    {
      "cell_type": "markdown",
      "metadata": {
        "id": "3rv87R1Y_Cb1"
      },
      "source": [
        "# Neural search with Transformers\n",
        "\n",
        "## What are we going to do?\n",
        "\n",
        "Instead of searching text by compareing characters and words, \n",
        "we will use the power of transfomer models and compare texts in vector sprace.\n",
        "\n",
        "![](https://media.giphy.com/media/xT0xeJpnrWC4XWblEk/giphy.gif)"
      ]
    },
    {
      "cell_type": "markdown",
      "metadata": {
        "id": "tLW_it_2_MQk"
      },
      "source": [
        "## installing dependencies"
      ]
    },
    {
      "cell_type": "code",
      "metadata": {
        "colab": {
          "base_uri": "https://localhost:8080/"
        },
        "id": "CaGQZ-m8d1ff",
        "outputId": "971efb09-2260-46d3-a130-3844deb1750c"
      },
      "source": [
        "!pip install transformers"
      ],
      "execution_count": null,
      "outputs": [
        {
          "output_type": "stream",
          "text": [
            "Collecting transformers\n",
            "\u001b[?25l  Downloading https://files.pythonhosted.org/packages/d5/43/cfe4ee779bbd6a678ac6a97c5a5cdeb03c35f9eaebbb9720b036680f9a2d/transformers-4.6.1-py3-none-any.whl (2.2MB)\n",
            "\u001b[K     |████████████████████████████████| 2.3MB 3.1MB/s \n",
            "\u001b[?25hCollecting tokenizers<0.11,>=0.10.1\n",
            "\u001b[?25l  Downloading https://files.pythonhosted.org/packages/d4/e2/df3543e8ffdab68f5acc73f613de9c2b155ac47f162e725dcac87c521c11/tokenizers-0.10.3-cp37-cp37m-manylinux_2_5_x86_64.manylinux1_x86_64.manylinux_2_12_x86_64.manylinux2010_x86_64.whl (3.3MB)\n",
            "\u001b[K     |████████████████████████████████| 3.3MB 23.6MB/s \n",
            "\u001b[?25hRequirement already satisfied: importlib-metadata; python_version < \"3.8\" in /usr/local/lib/python3.7/dist-packages (from transformers) (4.0.1)\n",
            "Requirement already satisfied: packaging in /usr/local/lib/python3.7/dist-packages (from transformers) (20.9)\n",
            "Collecting huggingface-hub==0.0.8\n",
            "  Downloading https://files.pythonhosted.org/packages/a1/88/7b1e45720ecf59c6c6737ff332f41c955963090a18e72acbcbeac6b25e86/huggingface_hub-0.0.8-py3-none-any.whl\n",
            "Collecting sacremoses\n",
            "\u001b[?25l  Downloading https://files.pythonhosted.org/packages/75/ee/67241dc87f266093c533a2d4d3d69438e57d7a90abb216fa076e7d475d4a/sacremoses-0.0.45-py3-none-any.whl (895kB)\n",
            "\u001b[K     |████████████████████████████████| 901kB 28.8MB/s \n",
            "\u001b[?25hRequirement already satisfied: regex!=2019.12.17 in /usr/local/lib/python3.7/dist-packages (from transformers) (2019.12.20)\n",
            "Requirement already satisfied: tqdm>=4.27 in /usr/local/lib/python3.7/dist-packages (from transformers) (4.41.1)\n",
            "Requirement already satisfied: requests in /usr/local/lib/python3.7/dist-packages (from transformers) (2.23.0)\n",
            "Requirement already satisfied: filelock in /usr/local/lib/python3.7/dist-packages (from transformers) (3.0.12)\n",
            "Requirement already satisfied: numpy>=1.17 in /usr/local/lib/python3.7/dist-packages (from transformers) (1.19.5)\n",
            "Requirement already satisfied: zipp>=0.5 in /usr/local/lib/python3.7/dist-packages (from importlib-metadata; python_version < \"3.8\"->transformers) (3.4.1)\n",
            "Requirement already satisfied: typing-extensions>=3.6.4; python_version < \"3.8\" in /usr/local/lib/python3.7/dist-packages (from importlib-metadata; python_version < \"3.8\"->transformers) (3.7.4.3)\n",
            "Requirement already satisfied: pyparsing>=2.0.2 in /usr/local/lib/python3.7/dist-packages (from packaging->transformers) (2.4.7)\n",
            "Requirement already satisfied: joblib in /usr/local/lib/python3.7/dist-packages (from sacremoses->transformers) (1.0.1)\n",
            "Requirement already satisfied: six in /usr/local/lib/python3.7/dist-packages (from sacremoses->transformers) (1.15.0)\n",
            "Requirement already satisfied: click in /usr/local/lib/python3.7/dist-packages (from sacremoses->transformers) (7.1.2)\n",
            "Requirement already satisfied: chardet<4,>=3.0.2 in /usr/local/lib/python3.7/dist-packages (from requests->transformers) (3.0.4)\n",
            "Requirement already satisfied: idna<3,>=2.5 in /usr/local/lib/python3.7/dist-packages (from requests->transformers) (2.10)\n",
            "Requirement already satisfied: urllib3!=1.25.0,!=1.25.1,<1.26,>=1.21.1 in /usr/local/lib/python3.7/dist-packages (from requests->transformers) (1.24.3)\n",
            "Requirement already satisfied: certifi>=2017.4.17 in /usr/local/lib/python3.7/dist-packages (from requests->transformers) (2020.12.5)\n",
            "Installing collected packages: tokenizers, huggingface-hub, sacremoses, transformers\n",
            "Successfully installed huggingface-hub-0.0.8 sacremoses-0.0.45 tokenizers-0.10.3 transformers-4.6.1\n"
          ],
          "name": "stdout"
        }
      ]
    },
    {
      "cell_type": "code",
      "metadata": {
        "id": "E9NkZQaPdtbB"
      },
      "source": [
        "from transformers import AutoModel, AutoTokenizer"
      ],
      "execution_count": null,
      "outputs": []
    },
    {
      "cell_type": "markdown",
      "metadata": {
        "id": "3WdMPh99_XRc"
      },
      "source": [
        "## loading a model"
      ]
    },
    {
      "cell_type": "code",
      "metadata": {
        "colab": {
          "base_uri": "https://localhost:8080/",
          "height": 339,
          "referenced_widgets": [
            "049bb7d1cdef49a8a820ea465497c9ed",
            "d7ff3d42bc44471db4066203aaa73227",
            "f9eb5d29da4d45f8a92a42f3c44c3d20",
            "595662e270d64c8f84815bc933df13ef",
            "08bc2c2c5af54c6787d56efa858a99c6",
            "8df4c32b1c3c4aefb11040f70a3e8c11",
            "b2a1503474ef4aeebd4a43d30e80b2f7",
            "9d6704cd62a14a39968865cc4d7cb034",
            "9975e6d6f84a4173b8f6103eb35a339d",
            "52a0a9e1129b4b298ad3e04a7634c597",
            "316a5e6e86fe482fbcc3ef9d6403c303",
            "0ef1ed6b2d6c4fb6a140c61ccf089086",
            "6e3d5904f13f4ed1bba1b9cdaab5c332",
            "2ca82bc2c8644d95882091497361ed1e",
            "990e4eafa6c342fe9422a388d9e17319",
            "a034e0a28ea94cd1960204f8111ba2cb",
            "256fdfe06b4d4fb0a1cd290f14468db8",
            "bec37a48a7d74881a38b2086e8e4a276",
            "7bf31f2a003c4b3eb839d80e9e38649f",
            "851e288def5748a3b98a34e0fbd95d06",
            "b90cf3e632d64c37a4944862d9628914",
            "b94fa2c3b2e84df0bab62b114e5fa01a",
            "90d5380784b140468850fde644a71e0b",
            "fd2328e74362435ab00d9bf25d3a46f8",
            "a228a414c70c4f809b1d822e7e3276eb",
            "3ae7647354694305a447f0060a4fc7fd",
            "453cf714229345b0bef8b4367f1f083e",
            "2633e23226f642239afb8fda0dc84fa8",
            "449f11eded5440628979e0825f862f75",
            "c3269ce796114d69952ed9901989453d",
            "76fc470ee8b3466abf0669f670959ce7",
            "62440001cbc24ea48879cef25c615730",
            "51ba9174569f40c88be3fe01a6807c6f",
            "6eab778126d44c85b15660b94acf60aa",
            "275d3040a6f741fdaa44fd57aaac243a",
            "36dc3ab9c07c4666b97a16ad5f5bf046",
            "00547714fe144b7990fd0a6138ac8f59",
            "f3b365b5fc28475eab88ddbbfe8e8556",
            "ce1f9fff8b6847579e18fae26c68c7bc",
            "54f292ed1fc74ee099653d7a98623b2c"
          ]
        },
        "id": "_bbNxIhsd_OX",
        "outputId": "b89e05db-9ff5-428c-ad50-8373156356fd"
      },
      "source": [
        "model_name = \"bert-base-cased\"\n",
        "tokenizer = AutoTokenizer.from_pretrained(model_name)\n",
        "model = AutoModel.from_pretrained(model_name)\n"
      ],
      "execution_count": null,
      "outputs": [
        {
          "output_type": "display_data",
          "data": {
            "application/vnd.jupyter.widget-view+json": {
              "model_id": "049bb7d1cdef49a8a820ea465497c9ed",
              "version_minor": 0,
              "version_major": 2
            },
            "text/plain": [
              "HBox(children=(FloatProgress(value=0.0, description='Downloading', max=570.0, style=ProgressStyle(description_…"
            ]
          },
          "metadata": {
            "tags": []
          }
        },
        {
          "output_type": "stream",
          "text": [
            "\n"
          ],
          "name": "stdout"
        },
        {
          "output_type": "display_data",
          "data": {
            "application/vnd.jupyter.widget-view+json": {
              "model_id": "9975e6d6f84a4173b8f6103eb35a339d",
              "version_minor": 0,
              "version_major": 2
            },
            "text/plain": [
              "HBox(children=(FloatProgress(value=0.0, description='Downloading', max=213450.0, style=ProgressStyle(descripti…"
            ]
          },
          "metadata": {
            "tags": []
          }
        },
        {
          "output_type": "stream",
          "text": [
            "\n"
          ],
          "name": "stdout"
        },
        {
          "output_type": "display_data",
          "data": {
            "application/vnd.jupyter.widget-view+json": {
              "model_id": "256fdfe06b4d4fb0a1cd290f14468db8",
              "version_minor": 0,
              "version_major": 2
            },
            "text/plain": [
              "HBox(children=(FloatProgress(value=0.0, description='Downloading', max=435797.0, style=ProgressStyle(descripti…"
            ]
          },
          "metadata": {
            "tags": []
          }
        },
        {
          "output_type": "stream",
          "text": [
            "\n"
          ],
          "name": "stdout"
        },
        {
          "output_type": "display_data",
          "data": {
            "application/vnd.jupyter.widget-view+json": {
              "model_id": "a228a414c70c4f809b1d822e7e3276eb",
              "version_minor": 0,
              "version_major": 2
            },
            "text/plain": [
              "HBox(children=(FloatProgress(value=0.0, description='Downloading', max=29.0, style=ProgressStyle(description_w…"
            ]
          },
          "metadata": {
            "tags": []
          }
        },
        {
          "output_type": "stream",
          "text": [
            "\n"
          ],
          "name": "stdout"
        },
        {
          "output_type": "display_data",
          "data": {
            "application/vnd.jupyter.widget-view+json": {
              "model_id": "51ba9174569f40c88be3fe01a6807c6f",
              "version_minor": 0,
              "version_major": 2
            },
            "text/plain": [
              "HBox(children=(FloatProgress(value=0.0, description='Downloading', max=435779157.0, style=ProgressStyle(descri…"
            ]
          },
          "metadata": {
            "tags": []
          }
        },
        {
          "output_type": "stream",
          "text": [
            "\n"
          ],
          "name": "stdout"
        },
        {
          "output_type": "stream",
          "text": [
            "Some weights of the model checkpoint at bert-base-cased were not used when initializing BertModel: ['cls.seq_relationship.weight', 'cls.predictions.transform.LayerNorm.weight', 'cls.predictions.decoder.weight', 'cls.predictions.transform.dense.bias', 'cls.predictions.bias', 'cls.seq_relationship.bias', 'cls.predictions.transform.dense.weight', 'cls.predictions.transform.LayerNorm.bias']\n",
            "- This IS expected if you are initializing BertModel from the checkpoint of a model trained on another task or with another architecture (e.g. initializing a BertForSequenceClassification model from a BertForPreTraining model).\n",
            "- This IS NOT expected if you are initializing BertModel from the checkpoint of a model that you expect to be exactly identical (initializing a BertForSequenceClassification model from a BertForSequenceClassification model).\n"
          ],
          "name": "stderr"
        }
      ]
    },
    {
      "cell_type": "markdown",
      "metadata": {
        "id": "28oCtQjgAtI1"
      },
      "source": [
        "## transforming a text to an vector"
      ]
    },
    {
      "cell_type": "code",
      "metadata": {
        "colab": {
          "base_uri": "https://localhost:8080/"
        },
        "id": "Q097qf1HeVMc",
        "outputId": "93360ee2-d207-4a17-df1c-b4493ea2bc16"
      },
      "source": [
        "inputs = tokenizer(\"Hello world!\", return_tensors=\"pt\")\n",
        "inputs\n"
      ],
      "execution_count": null,
      "outputs": [
        {
          "output_type": "execute_result",
          "data": {
            "text/plain": [
              "{'input_ids': tensor([[ 101, 8667, 1362,  106,  102]]), 'token_type_ids': tensor([[0, 0, 0, 0, 0]]), 'attention_mask': tensor([[1, 1, 1, 1, 1]])}"
            ]
          },
          "metadata": {
            "tags": []
          },
          "execution_count": 4
        }
      ]
    },
    {
      "cell_type": "code",
      "metadata": {
        "colab": {
          "base_uri": "https://localhost:8080/"
        },
        "id": "YPoj357jp4ui",
        "outputId": "4b697c18-f656-42c6-b1c4-fb9b92e7fc12"
      },
      "source": [
        "inputs = tokenizer([\"Hello world!\", \"funny test\"], return_tensors=\"pt\", padding=True,truncation=True)\n",
        "inputs"
      ],
      "execution_count": null,
      "outputs": [
        {
          "output_type": "execute_result",
          "data": {
            "text/plain": [
              "{'input_ids': tensor([[ 101, 8667, 1362,  106,  102],\n",
              "        [ 101, 6276, 2774,  102,    0]]), 'token_type_ids': tensor([[0, 0, 0, 0, 0],\n",
              "        [0, 0, 0, 0, 0]]), 'attention_mask': tensor([[1, 1, 1, 1, 1],\n",
              "        [1, 1, 1, 1, 0]])}"
            ]
          },
          "metadata": {
            "tags": []
          },
          "execution_count": 5
        }
      ]
    },
    {
      "cell_type": "code",
      "metadata": {
        "colab": {
          "base_uri": "https://localhost:8080/"
        },
        "id": "6YGX4KrgeiA2",
        "outputId": "3933626a-b721-4f85-cfa2-b65106840636"
      },
      "source": [
        "outputs = model(**inputs)\n",
        "outputs "
      ],
      "execution_count": null,
      "outputs": [
        {
          "output_type": "execute_result",
          "data": {
            "text/plain": [
              "BaseModelOutputWithPoolingAndCrossAttentions([('last_hidden_state',\n",
              "                                               tensor([[[ 3.7628e-01,  3.6770e-01,  4.9426e-01,  ..., -1.6608e-01,\n",
              "                                                          5.9425e-01, -1.5929e-01],\n",
              "                                                        [ 7.1213e-01, -3.6788e-01,  8.5830e-01,  ..., -2.3904e-01,\n",
              "                                                          5.6956e-01, -8.8592e-02],\n",
              "                                                        [ 6.5599e-01,  4.7040e-01,  4.8593e-01,  ..., -5.6358e-01,\n",
              "                                                         -2.6219e-01, -4.7541e-01],\n",
              "                                                        [ 6.3835e-01,  8.1096e-02,  8.1820e-01,  ...,  2.6849e-01,\n",
              "                                                          3.9201e-01,  1.5533e-01],\n",
              "                                                        [ 7.4092e-01,  5.9099e-01,  3.2814e-01,  ..., -3.2534e-01,\n",
              "                                                          9.7608e-01, -7.4803e-01]],\n",
              "                                               \n",
              "                                                       [[ 2.0786e-01,  1.1155e-02, -4.3242e-03,  ...,  2.6580e-01,\n",
              "                                                          2.2968e-01,  4.5170e-01],\n",
              "                                                        [ 1.3114e-01, -4.6604e-01,  2.7573e-01,  ...,  1.6243e-01,\n",
              "                                                          3.5570e-01,  4.9164e-01],\n",
              "                                                        [ 4.7356e-01, -1.5102e-01,  2.0660e-01,  ...,  1.2106e-01,\n",
              "                                                          2.0522e-01,  4.6269e-01],\n",
              "                                                        [ 1.4245e-05, -9.0695e-02, -7.0643e-01,  ...,  2.9949e-01,\n",
              "                                                          1.2445e+00,  5.3750e-01],\n",
              "                                                        [-1.0884e-01, -2.6226e-01,  2.1580e-02,  ...,  4.1400e-01,\n",
              "                                                          9.7012e-02,  3.0461e-01]]], grad_fn=<NativeLayerNormBackward>)),\n",
              "                                              ('pooler_output',\n",
              "                                               tensor([[-0.7344,  0.5340,  0.9999,  ...,  1.0000, -0.9195,  0.9949],\n",
              "                                                       [-0.6465,  0.4427,  0.9998,  ...,  1.0000, -0.4225,  0.9812]],\n",
              "                                                      grad_fn=<TanhBackward>))])"
            ]
          },
          "metadata": {
            "tags": []
          },
          "execution_count": 6
        }
      ]
    },
    {
      "cell_type": "markdown",
      "metadata": {
        "id": "6kNALuHlfdLm"
      },
      "source": [
        "**last_hidden_state**: Sequence of hidden-states at the output of the last layer of the model."
      ]
    },
    {
      "cell_type": "code",
      "metadata": {
        "colab": {
          "base_uri": "https://localhost:8080/"
        },
        "id": "Dsd2DWh8eq6V",
        "outputId": "e8d45116-d11f-48b2-ffaf-c911d4b1288a"
      },
      "source": [
        "outputs[\"last_hidden_state\"].shape\n"
      ],
      "execution_count": null,
      "outputs": [
        {
          "output_type": "execute_result",
          "data": {
            "text/plain": [
              "torch.Size([2, 5, 768])"
            ]
          },
          "metadata": {
            "tags": []
          },
          "execution_count": 7
        }
      ]
    },
    {
      "cell_type": "markdown",
      "metadata": {
        "id": "qe7sCh-JfTgs"
      },
      "source": [
        "**pooler_output**: Last layer hidden-state of the first token of the sequence (classification token) further processed by a Linear layer and a Tanh activation function. The Linear layer weights are trained from the next sentence prediction (classification) objective during pretraining."
      ]
    },
    {
      "cell_type": "code",
      "metadata": {
        "id": "nkkAAAJSet-T",
        "colab": {
          "base_uri": "https://localhost:8080/"
        },
        "outputId": "42eddc43-d011-4565-f1ed-7b52c7257dd4"
      },
      "source": [
        "outputs[\"pooler_output\"].shape"
      ],
      "execution_count": null,
      "outputs": [
        {
          "output_type": "execute_result",
          "data": {
            "text/plain": [
              "torch.Size([2, 768])"
            ]
          },
          "metadata": {
            "tags": []
          },
          "execution_count": 8
        }
      ]
    },
    {
      "cell_type": "markdown",
      "metadata": {
        "id": "ofeVWrZvBJ2G"
      },
      "source": [
        "## loading data \n",
        "\n",
        "We load a data set of news headlines from german newspapers. This data set contains the headlines and the according article urls.\n",
        "After we loaded the data, we need to convert all headlines into vectors."
      ]
    },
    {
      "cell_type": "code",
      "metadata": {
        "colab": {
          "base_uri": "https://localhost:8080/"
        },
        "id": "QgprWrfBLrkZ",
        "outputId": "92241a26-3f4c-41da-b4bb-e16ac580aece"
      },
      "source": [
        "!curl -O https://www2.htw-dresden.de/~guhr/dist/feeds.tsv \n"
      ],
      "execution_count": null,
      "outputs": [
        {
          "output_type": "stream",
          "text": [
            "  % Total    % Received % Xferd  Average Speed   Time    Time     Time  Current\n",
            "                                 Dload  Upload   Total   Spent    Left  Speed\n",
            "100 10.0M  100 10.0M    0     0  4387k      0  0:00:02  0:00:02 --:--:-- 4387k\n"
          ],
          "name": "stdout"
        }
      ]
    },
    {
      "cell_type": "code",
      "metadata": {
        "colab": {
          "base_uri": "https://localhost:8080/"
        },
        "id": "L-2ljeZdh-E6",
        "outputId": "9e162107-a355-4210-f32d-df071d8e60d3"
      },
      "source": [
        "!head feeds.tsv"
      ],
      "execution_count": null,
      "outputs": [
        {
          "output_type": "stream",
          "text": [
            "id\ttitle\ttext\ttime\tlink\t\t\n",
            "https://www.spiegel.de/politik/deutschland/corona-krise-in-deutschland-wie-kommen-wir-wieder-raus-a-d8099433-e178-46be-957a-f6c779b3f2f5\t'Corona-Krise in Deutschland: Wie kommen wir wieder raus?'\t'Die Bundesregierung will in der kommenden Woche über mögliche Szenarien für den Exit aus dem Lockdown beraten. Schon jetzt warnen Politiker vor einem überhasteten Aussetzen der Maßnahmen. Der Überblick.'\t'Mon, 13 Apr 2020 18:18:00 +0200'\t'https://www.spiegel.de/politik/deutschland/corona-krise-in-deutschland-wie-kommen-wir-wieder-raus-a-d8099433-e178-46be-957a-f6c779b3f2f5#ref=rss\t\t\n",
            "https://www.spiegel.de/wissenschaft/leopoldina-forscher-legen-konkreten-fahrplan-fuer-ende-der-kontaktsperren-vor-a-0cfd0aed-cf48-4dd1-a219-241d818d60ae\t'Leopoldina-Forscher legen konkreten Fahrplan für Ende der Kontaktsperren vor'\t'Die Nationalakademie Leopoldina empfiehlt eine baldige Rückkehr zur Schule. Auch Geschäfte und Behörden sollen schrittweise eröffnen und Reisen erlaubt werden - aber unter Bedingungen, so ein Papier, das dem SPIEGEL vorliegt.'\t'Mon, 13 Apr 2020 12:11:00 +0200'\t'https://www.spiegel.de/wissenschaft/leopoldina-forscher-legen-konkreten-fahrplan-fuer-ende-der-kontaktsperren-vor-a-0cfd0aed-cf48-4dd1-a219-241d818d60ae#ref=rss\t\t\n",
            "https://www.spiegel.de/wissenschaft/philosophie-coronavirus-lockdown-wir-muessen-uebers-sterben-reden-a-9a2617d5-7ff6-455c-967b-b3b0858e7b3f\t'Philosophie Coronavirus-Lockdown: Wir müssen übers Sterben reden'\t\"'\"\"Regulierte Ausbreitung\"\" versus \"\"konsequente Eindämmung\"\" - diese Strategien stehen sich im Kampf gegen Corona gegenüber. Welcher Weg zerstört mehr von dem, was uns wichtig ist im Leben?'\"\t'Mon, 13 Apr 2020 18:05:20 +0200'\t'https://www.spiegel.de/wissenschaft/philosophie-coronavirus-lockdown-wir-muessen-uebers-sterben-reden-a-9a2617d5-7ff6-455c-967b-b3b0858e7b3f#ref=rss\t\t\n",
            "https://www.spiegel.de/politik/ausland/coronavirus-in-indonesien-gefaehrliche-heimreise-a-467488b7-c2d9-4d9e-b83e-091b8da0fbc0\t'Coronavirus in Indonesien: Gefährliche Heimreise'\t'In Indonesien sind bislang mehr Menschen an Covid-19 gestorben als in allen anderen Ländern Asiens - China ausgenommen. Während des Ramadans könnte sich das Virus noch weiter verbreiten.'\t'Mon, 13 Apr 2020 18:37:11 +0200'\t'https://www.spiegel.de/politik/ausland/coronavirus-in-indonesien-gefaehrliche-heimreise-a-467488b7-c2d9-4d9e-b83e-091b8da0fbc0#ref=rss\t\t\n",
            "https://www.spiegel.de/wissenschaft/medizin/coronavirus-news-am-montag-die-wichtigsten-entwicklungen-zu-sars-cov-2-und-covid-19-a-982c966f-3046-455d-b403-1ed1c4befb1e\t'Coronavirus News am Montag: Die wichtigsten Entwicklungen zu Sars-CoV-2 und Covid-19'\t'Im US-Bundesstaat New York ist die Zahl der Coronavirus-Toten weiter stark gestiegen. Gouverneur Andrew Cuomo sieht das Schlimmste jedoch überwunden. Der Überblick.'\t'Mon, 13 Apr 2020 16:58:00 +0200'\t'https://www.spiegel.de/wissenschaft/medizin/coronavirus-news-am-montag-die-wichtigsten-entwicklungen-zu-sars-cov-2-und-covid-19-a-982c966f-3046-455d-b403-1ed1c4befb1e#ref=rss\t\t\n",
            "https://www.spiegel.de/panorama/corona-lockdown-deutsche-sind-immer-mehr-unterwegs-a-c8a6b940-600d-47c5-bf40-2ce4c26b9a7a\t'Corona-Lockdown: Deutsche sind immer mehr unterwegs'\t'Ende März blieben viele Menschen wegen Corona noch brav zu Hause. Doch nun zeigen Handydaten, dass die Bevölkerung von Tag zu Tag mobiler wird - vor allem die ostdeutsche.'\t'Mon, 13 Apr 2020 10:50:06 +0200'\t'https://www.spiegel.de/panorama/corona-lockdown-deutsche-sind-immer-mehr-unterwegs-a-c8a6b940-600d-47c5-bf40-2ce4c26b9a7a#ref=rss\t\t\n",
            "https://www.spiegel.de/wirtschaft/corona-krise-warum-vorhersagen-zu-wirtschaft-und-boerse-kaum-moeglich-sind-a-cfaac091-056f-43fb-af8d-f5de446bc8d1\t'Corona-Krise: Warum Vorhersagen zu Wirtschaft und Börse kaum möglich sind'\t'Die Halbwertzeit von ökonomischen Prognosen ist in der Coronakrise so kurz wie nie. Belastbare Vorhersagen zum Wirtschaftswachstum oder den Börsenkursen sind kaum möglich.'\t'Mon, 13 Apr 2020 16:00:31 +0200'\t'https://www.spiegel.de/wirtschaft/corona-krise-warum-vorhersagen-zu-wirtschaft-und-boerse-kaum-moeglich-sind-a-cfaac091-056f-43fb-af8d-f5de446bc8d1#ref=rss\t\t\n",
            "https://www.spiegel.de/panorama/gesellschaft/corona-alltags-heldin-susanne-rudwill-56-kassiererin-will-nicht-hinter-einer-maske-laecheln-a-721fe6ea-feab-4f3d-a8bc-f3171f9c621b\t'Corona-Alltags-Heldin: Susanne Rudwill, 56, Kassiererin, will nicht hinter einer Maske lächeln'\t'Das öffentliche Leben steht still, doch einige Menschen halten die Gesellschaft am Laufen. Hier kommen sie zu Wort.'\t'Mon, 13 Apr 2020 18:36:33 +0200'\t'https://www.spiegel.de/panorama/gesellschaft/corona-alltags-heldin-susanne-rudwill-56-kassiererin-will-nicht-hinter-einer-maske-laecheln-a-721fe6ea-feab-4f3d-a8bc-f3171f9c621b#ref=rss\t\t\n",
            "https://www.spiegel.de/politik/deutschland/corona-politik-darf-keine-erwartungen-wecken-die-sie-spaeter-enttaeuschen-muss-a-00000000-0002-0001-0000-000170435607\t'Corona: Politik darf keine Erwartungen wecken, die sie später enttäuschen muss'\t'Die Kanzlerin, die Länder haben die schwierige Aufgabe, die Bürger zu schützen: vor dem Virus, aber auch davor, die Nerven zu verlieren.'\t'Fri, 10 Apr 2020 18:00:00 +0200'\t'https://www.spiegel.de/politik/deutschland/corona-politik-darf-keine-erwartungen-wecken-die-sie-spaeter-enttaeuschen-muss-a-00000000-0002-0001-0000-000170435607#ref=rss\t\t\n"
          ],
          "name": "stdout"
        }
      ]
    },
    {
      "cell_type": "code",
      "metadata": {
        "id": "6oxfsJZziIcY"
      },
      "source": [
        "import time\n",
        "import pandas as pd\n",
        "import numpy as np\n",
        "\n",
        "feeds_df = pd.read_csv(\"feeds.tsv\", sep='\\t', header=0,encoding=\"utf-8\")\n",
        "feeds_df.drop(columns=['text'], inplace=True)\n",
        "feeds_df.drop(columns=['time'], inplace=True)\n",
        "feeds_df.drop(columns=['id'], inplace=True)\n",
        "feeds_df.drop(columns=['Unnamed: 5'], inplace=True)\n",
        "feeds_df.drop(columns=['Unnamed: 6'], inplace=True)"
      ],
      "execution_count": null,
      "outputs": []
    },
    {
      "cell_type": "code",
      "metadata": {
        "colab": {
          "base_uri": "https://localhost:8080/",
          "height": 206
        },
        "id": "RX9LXcMQiUFA",
        "outputId": "6ed0c3fb-9211-4f80-c46d-825c468e033c"
      },
      "source": [
        "feeds_df.head(5)"
      ],
      "execution_count": null,
      "outputs": [
        {
          "output_type": "execute_result",
          "data": {
            "text/html": [
              "<div>\n",
              "<style scoped>\n",
              "    .dataframe tbody tr th:only-of-type {\n",
              "        vertical-align: middle;\n",
              "    }\n",
              "\n",
              "    .dataframe tbody tr th {\n",
              "        vertical-align: top;\n",
              "    }\n",
              "\n",
              "    .dataframe thead th {\n",
              "        text-align: right;\n",
              "    }\n",
              "</style>\n",
              "<table border=\"1\" class=\"dataframe\">\n",
              "  <thead>\n",
              "    <tr style=\"text-align: right;\">\n",
              "      <th></th>\n",
              "      <th>title</th>\n",
              "      <th>link</th>\n",
              "    </tr>\n",
              "  </thead>\n",
              "  <tbody>\n",
              "    <tr>\n",
              "      <th>0</th>\n",
              "      <td>'Corona-Krise in Deutschland: Wie kommen wir w...</td>\n",
              "      <td>'https://www.spiegel.de/politik/deutschland/co...</td>\n",
              "    </tr>\n",
              "    <tr>\n",
              "      <th>1</th>\n",
              "      <td>'Leopoldina-Forscher legen konkreten Fahrplan ...</td>\n",
              "      <td>'https://www.spiegel.de/wissenschaft/leopoldin...</td>\n",
              "    </tr>\n",
              "    <tr>\n",
              "      <th>2</th>\n",
              "      <td>'Philosophie Coronavirus-Lockdown: Wir müssen ...</td>\n",
              "      <td>'https://www.spiegel.de/wissenschaft/philosoph...</td>\n",
              "    </tr>\n",
              "    <tr>\n",
              "      <th>3</th>\n",
              "      <td>'Coronavirus in Indonesien: Gefährliche Heimre...</td>\n",
              "      <td>'https://www.spiegel.de/politik/ausland/corona...</td>\n",
              "    </tr>\n",
              "    <tr>\n",
              "      <th>4</th>\n",
              "      <td>'Coronavirus News am Montag: Die wichtigsten E...</td>\n",
              "      <td>'https://www.spiegel.de/wissenschaft/medizin/c...</td>\n",
              "    </tr>\n",
              "  </tbody>\n",
              "</table>\n",
              "</div>"
            ],
            "text/plain": [
              "                                               title                                               link\n",
              "0  'Corona-Krise in Deutschland: Wie kommen wir w...  'https://www.spiegel.de/politik/deutschland/co...\n",
              "1  'Leopoldina-Forscher legen konkreten Fahrplan ...  'https://www.spiegel.de/wissenschaft/leopoldin...\n",
              "2  'Philosophie Coronavirus-Lockdown: Wir müssen ...  'https://www.spiegel.de/wissenschaft/philosoph...\n",
              "3  'Coronavirus in Indonesien: Gefährliche Heimre...  'https://www.spiegel.de/politik/ausland/corona...\n",
              "4  'Coronavirus News am Montag: Die wichtigsten E...  'https://www.spiegel.de/wissenschaft/medizin/c..."
            ]
          },
          "metadata": {
            "tags": []
          },
          "execution_count": 12
        }
      ]
    },
    {
      "cell_type": "code",
      "metadata": {
        "colab": {
          "base_uri": "https://localhost:8080/",
          "height": 363
        },
        "id": "Yw8MGXU-i_h_",
        "outputId": "b9db6cc2-b3f3-4fe1-be9b-1e9fede95015"
      },
      "source": [
        "# We want to remove the qoutes here in order to get better results.\n",
        "\n",
        "def remove_quotes(text):\n",
        "    return text[1:-1]\n",
        "\n",
        "feeds_df[\"title\"]=feeds_df[\"title\"].map(remove_quotes)\n",
        "feeds_df[\"link\"]=feeds_df[\"link\"].map(remove_quotes)\n",
        "feeds_df.head(10)"
      ],
      "execution_count": null,
      "outputs": [
        {
          "output_type": "execute_result",
          "data": {
            "text/html": [
              "<div>\n",
              "<style scoped>\n",
              "    .dataframe tbody tr th:only-of-type {\n",
              "        vertical-align: middle;\n",
              "    }\n",
              "\n",
              "    .dataframe tbody tr th {\n",
              "        vertical-align: top;\n",
              "    }\n",
              "\n",
              "    .dataframe thead th {\n",
              "        text-align: right;\n",
              "    }\n",
              "</style>\n",
              "<table border=\"1\" class=\"dataframe\">\n",
              "  <thead>\n",
              "    <tr style=\"text-align: right;\">\n",
              "      <th></th>\n",
              "      <th>title</th>\n",
              "      <th>link</th>\n",
              "    </tr>\n",
              "  </thead>\n",
              "  <tbody>\n",
              "    <tr>\n",
              "      <th>0</th>\n",
              "      <td>Corona-Krise in Deutschland: Wie kommen wir wi...</td>\n",
              "      <td>https://www.spiegel.de/politik/deutschland/cor...</td>\n",
              "    </tr>\n",
              "    <tr>\n",
              "      <th>1</th>\n",
              "      <td>Leopoldina-Forscher legen konkreten Fahrplan f...</td>\n",
              "      <td>https://www.spiegel.de/wissenschaft/leopoldina...</td>\n",
              "    </tr>\n",
              "    <tr>\n",
              "      <th>2</th>\n",
              "      <td>Philosophie Coronavirus-Lockdown: Wir müssen ü...</td>\n",
              "      <td>https://www.spiegel.de/wissenschaft/philosophi...</td>\n",
              "    </tr>\n",
              "    <tr>\n",
              "      <th>3</th>\n",
              "      <td>Coronavirus in Indonesien: Gefährliche Heimreise</td>\n",
              "      <td>https://www.spiegel.de/politik/ausland/coronav...</td>\n",
              "    </tr>\n",
              "    <tr>\n",
              "      <th>4</th>\n",
              "      <td>Coronavirus News am Montag: Die wichtigsten En...</td>\n",
              "      <td>https://www.spiegel.de/wissenschaft/medizin/co...</td>\n",
              "    </tr>\n",
              "    <tr>\n",
              "      <th>5</th>\n",
              "      <td>Corona-Lockdown: Deutsche sind immer mehr unte...</td>\n",
              "      <td>https://www.spiegel.de/panorama/corona-lockdow...</td>\n",
              "    </tr>\n",
              "    <tr>\n",
              "      <th>6</th>\n",
              "      <td>Corona-Krise: Warum Vorhersagen zu Wirtschaft ...</td>\n",
              "      <td>https://www.spiegel.de/wirtschaft/corona-krise...</td>\n",
              "    </tr>\n",
              "    <tr>\n",
              "      <th>7</th>\n",
              "      <td>Corona-Alltags-Heldin: Susanne Rudwill, 56, Ka...</td>\n",
              "      <td>https://www.spiegel.de/panorama/gesellschaft/c...</td>\n",
              "    </tr>\n",
              "    <tr>\n",
              "      <th>8</th>\n",
              "      <td>Corona: Politik darf keine Erwartungen wecken,...</td>\n",
              "      <td>https://www.spiegel.de/politik/deutschland/cor...</td>\n",
              "    </tr>\n",
              "    <tr>\n",
              "      <th>9</th>\n",
              "      <td>Trigema-Chef Grupp kämpft gegen die Corona-Kri...</td>\n",
              "      <td>https://www.spiegel.de/wirtschaft/unternehmen/...</td>\n",
              "    </tr>\n",
              "  </tbody>\n",
              "</table>\n",
              "</div>"
            ],
            "text/plain": [
              "                                               title                                               link\n",
              "0  Corona-Krise in Deutschland: Wie kommen wir wi...  https://www.spiegel.de/politik/deutschland/cor...\n",
              "1  Leopoldina-Forscher legen konkreten Fahrplan f...  https://www.spiegel.de/wissenschaft/leopoldina...\n",
              "2  Philosophie Coronavirus-Lockdown: Wir müssen ü...  https://www.spiegel.de/wissenschaft/philosophi...\n",
              "3   Coronavirus in Indonesien: Gefährliche Heimreise  https://www.spiegel.de/politik/ausland/coronav...\n",
              "4  Coronavirus News am Montag: Die wichtigsten En...  https://www.spiegel.de/wissenschaft/medizin/co...\n",
              "5  Corona-Lockdown: Deutsche sind immer mehr unte...  https://www.spiegel.de/panorama/corona-lockdow...\n",
              "6  Corona-Krise: Warum Vorhersagen zu Wirtschaft ...  https://www.spiegel.de/wirtschaft/corona-krise...\n",
              "7  Corona-Alltags-Heldin: Susanne Rudwill, 56, Ka...  https://www.spiegel.de/panorama/gesellschaft/c...\n",
              "8  Corona: Politik darf keine Erwartungen wecken,...  https://www.spiegel.de/politik/deutschland/cor...\n",
              "9  Trigema-Chef Grupp kämpft gegen die Corona-Kri...  https://www.spiegel.de/wirtschaft/unternehmen/..."
            ]
          },
          "metadata": {
            "tags": []
          },
          "execution_count": 13
        }
      ]
    },
    {
      "cell_type": "code",
      "metadata": {
        "colab": {
          "base_uri": "https://localhost:8080/"
        },
        "id": "s-MJZ01VjdCq",
        "outputId": "86a1cb5c-8d8a-45bb-d48e-e54467bf3d86"
      },
      "source": [
        "# Number of entries in our data set\n",
        "len(feeds_df)"
      ],
      "execution_count": null,
      "outputs": [
        {
          "output_type": "execute_result",
          "data": {
            "text/plain": [
              "21257"
            ]
          },
          "metadata": {
            "tags": []
          },
          "execution_count": 14
        }
      ]
    },
    {
      "cell_type": "markdown",
      "metadata": {
        "id": "jXaIkRzjCkz3"
      },
      "source": [
        "## Processing the data"
      ]
    },
    {
      "cell_type": "code",
      "metadata": {
        "id": "rLMbe1CIjvLO"
      },
      "source": [
        "# since 21257 entries would take a lot of time to process, we just load\n",
        "# the first 500 articles here. But you are welcome to experiment with this \n",
        "# parameter. \n",
        "\n",
        "titles = list(feeds_df[\"title\"][:500])\n",
        "links = list(feeds_df[\"link\"][:500])"
      ],
      "execution_count": null,
      "outputs": []
    },
    {
      "cell_type": "code",
      "metadata": {
        "id": "HSX8L2meCut5"
      },
      "source": [
        "import torch\n",
        "tokens = tokenizer(titles, return_tensors=\"pt\",truncation=True,padding=True)\n",
        "with torch.no_grad():\n",
        "    headline_vectors = model(**tokens)[\"pooler_output\"]  "
      ],
      "execution_count": null,
      "outputs": []
    },
    {
      "cell_type": "code",
      "metadata": {
        "colab": {
          "base_uri": "https://localhost:8080/"
        },
        "id": "m5nB8MTnDE-I",
        "outputId": "3fd2e44d-7615-4581-e89f-d46a1fa57853"
      },
      "source": [
        "headline_vectors.shape"
      ],
      "execution_count": null,
      "outputs": [
        {
          "output_type": "execute_result",
          "data": {
            "text/plain": [
              "torch.Size([500, 768])"
            ]
          },
          "metadata": {
            "tags": []
          },
          "execution_count": 18
        }
      ]
    },
    {
      "cell_type": "code",
      "metadata": {
        "id": "0c0TROpkMJzP",
        "colab": {
          "base_uri": "https://localhost:8080/"
        },
        "outputId": "1af6683f-ed8e-4e66-e6a8-e3e88cd903d8"
      },
      "source": [
        "tokens = tokenizer(\"Auswirkungen der Corona Pandmie\", return_tensors=\"pt\",truncation=True, padding=True)\n",
        "with torch.no_grad():\n",
        "  query_vector = model(**tokens)[\"pooler_output\"]\n",
        "query_vector.shape"
      ],
      "execution_count": null,
      "outputs": [
        {
          "output_type": "execute_result",
          "data": {
            "text/plain": [
              "torch.Size([1, 768])"
            ]
          },
          "metadata": {
            "tags": []
          },
          "execution_count": 19
        }
      ]
    },
    {
      "cell_type": "code",
      "metadata": {
        "colab": {
          "base_uri": "https://localhost:8080/"
        },
        "id": "bGn_co3AM4kZ",
        "outputId": "404e6e22-1b51-4a9e-9395-2447bfe84728"
      },
      "source": [
        "result = torch.sum(query_vector * headline_vectors,axis=1) \n",
        "result.shape"
      ],
      "execution_count": null,
      "outputs": [
        {
          "output_type": "execute_result",
          "data": {
            "text/plain": [
              "torch.Size([500])"
            ]
          },
          "metadata": {
            "tags": []
          },
          "execution_count": 21
        }
      ]
    },
    {
      "cell_type": "code",
      "metadata": {
        "colab": {
          "base_uri": "https://localhost:8080/"
        },
        "id": "cLMmM9A-EIcM",
        "outputId": "a766c3f4-5256-4b5f-bc3f-5a47c82b702b"
      },
      "source": [
        "result"
      ],
      "execution_count": null,
      "outputs": [
        {
          "output_type": "execute_result",
          "data": {
            "text/plain": [
              "tensor([434.5861, 427.5779, 417.6656, 425.2582, 443.6272, 444.1003, 429.4275,\n",
              "        443.6042, 434.7586, 450.9636, 441.4206, 438.9923, 457.1965, 420.5590,\n",
              "        434.4346, 440.5258, 439.7145, 447.6839, 438.9430, 443.9312, 451.3104,\n",
              "        435.3569, 443.7168, 443.8405, 452.5818, 442.3846, 447.6673, 435.3538,\n",
              "        411.6184, 433.8081, 441.5355, 438.1096, 437.5651, 450.1714, 439.7907,\n",
              "        429.7813, 443.2681, 423.2501, 435.0064, 445.7311, 421.8165, 438.0742,\n",
              "        416.5206, 425.5953, 444.5760, 431.6331, 439.0455, 454.2090, 386.2811,\n",
              "        444.0154, 441.2814, 437.8051, 440.6770, 431.9468, 413.9568, 444.6879,\n",
              "        445.4962, 434.6720, 421.6457, 424.0478, 439.4895, 419.4150, 429.1205,\n",
              "        441.5369, 435.2282, 438.2585, 433.9427, 428.4286, 417.3004, 438.9913,\n",
              "        422.2675, 422.6285, 437.2614, 453.0659, 446.9125, 430.0361, 435.3095,\n",
              "        440.8641, 432.4124, 437.7289, 444.4147, 415.2666, 452.9629, 433.8447,\n",
              "        416.7220, 450.0892, 445.6443, 440.6168, 426.9055, 444.7993, 448.0431,\n",
              "        433.5669, 422.8795, 425.2450, 437.9989, 447.1384, 429.7292, 436.6314,\n",
              "        430.9173, 434.6084, 432.8671, 442.8904, 436.0084, 432.1195, 433.6075,\n",
              "        449.3467, 433.3181, 427.0597, 434.9688, 444.4855, 442.8297, 421.7941,\n",
              "        425.0344, 436.7945, 426.4072, 449.6587, 444.3975, 433.7348, 438.1680,\n",
              "        423.6844, 446.6845, 448.7368, 423.3636, 431.3844, 439.5126, 439.9011,\n",
              "        431.3083, 417.7665, 425.6723, 436.2635, 440.9865, 449.8626, 442.8511,\n",
              "        436.3417, 425.2734, 363.7228, 452.2955, 433.4684, 440.4413, 437.4503,\n",
              "        450.3713, 445.2585, 442.4253, 454.3520, 453.9844, 436.5376, 433.7019,\n",
              "        448.7094, 436.7948, 429.7042, 426.1181, 440.0866, 443.9504, 430.1041,\n",
              "        437.8878, 435.2682, 444.4450, 433.8194, 446.6543, 439.4739, 437.1907,\n",
              "        438.8992, 438.8817, 395.6296, 443.3633, 448.2576, 398.0887, 428.2484,\n",
              "        443.0070, 448.3468, 436.3629, 442.1552, 441.6715, 440.0324, 442.7939,\n",
              "        451.0959, 410.9901, 434.9760, 435.9375, 448.2568, 454.6102, 429.1454,\n",
              "        420.3760, 450.8608, 431.8327, 434.5052, 442.4189, 453.0188, 446.2719,\n",
              "        440.4214, 428.6667, 426.4025, 410.5114, 441.4728, 432.7071, 443.8153,\n",
              "        445.0757, 446.6367, 429.6810, 438.7892, 437.8693, 434.9146, 425.0480,\n",
              "        435.8231, 420.8170, 436.9764, 438.8107, 430.2633, 409.9101, 443.4112,\n",
              "        424.7384, 448.3517, 430.8521, 439.2166, 414.4897, 435.8452, 443.1432,\n",
              "        439.4438, 445.9822, 439.0606, 435.9161, 442.9267, 438.3599, 436.8188,\n",
              "        438.1941, 440.2162, 438.7476, 431.4249, 444.1624, 442.9263, 434.4862,\n",
              "        429.3210, 441.0563, 449.2583, 445.2757, 424.2923, 440.8217, 439.6390,\n",
              "        447.6757, 438.8127, 452.6138, 409.7960, 436.9320, 451.2218, 434.8930,\n",
              "        444.8194, 415.8810, 443.5397, 433.5745, 434.8000, 441.2029, 446.0646,\n",
              "        435.3726, 447.3196, 429.0922, 445.5945, 444.1048, 443.5721, 445.2703,\n",
              "        435.1052, 443.3802, 446.1826, 446.9915, 435.2304, 433.2612, 446.8598,\n",
              "        433.6550, 428.3174, 433.1892, 443.0679, 432.6197, 437.1421, 424.3644,\n",
              "        434.1130, 443.3732, 433.7444, 410.3111, 433.7680, 449.7407, 444.9549,\n",
              "        404.9027, 441.1639, 438.6302, 441.4514, 412.6385, 421.1747, 442.6059,\n",
              "        430.4764, 421.1105, 454.5967, 433.2425, 428.6080, 436.0581, 439.3196,\n",
              "        430.8804, 451.6206, 440.6987, 451.1193, 448.8069, 430.8897, 396.4971,\n",
              "        436.1878, 444.3175, 395.4778, 442.5556, 424.8077, 426.8360, 406.4654,\n",
              "        435.6407, 439.8974, 437.8485, 451.2083, 437.1693, 421.0526, 435.2685,\n",
              "        438.5607, 431.6856, 400.1553, 440.8099, 443.3678, 437.3557, 449.7850,\n",
              "        437.1337, 404.2110, 413.8331, 435.0452, 450.4079, 442.9185, 435.1631,\n",
              "        439.2974, 425.3762, 439.3400, 444.1490, 433.8716, 434.0056, 434.9896,\n",
              "        426.7294, 436.6786, 433.3843, 448.3062, 454.4232, 434.6291, 443.9227,\n",
              "        422.0956, 449.1064, 431.8106, 437.6960, 426.1648, 412.5076, 417.5771,\n",
              "        415.7726, 444.3174, 446.0696, 423.2568, 436.6626, 434.3197, 442.9983,\n",
              "        439.0895, 449.9883, 441.6348, 440.9174, 433.8409, 419.7646, 458.3764,\n",
              "        442.3533, 445.2224, 436.9009, 444.6332, 444.6292, 442.2352, 434.1233,\n",
              "        407.7035, 435.5810, 377.7639, 434.2287, 448.2238, 426.2551, 435.4667,\n",
              "        436.5042, 444.6444, 442.3727, 449.4510, 449.6673, 445.5625, 435.2436,\n",
              "        429.7728, 439.5689, 444.7984, 433.7647, 434.5318, 441.4168, 430.7998,\n",
              "        432.7809, 424.3688, 441.2110, 444.2764, 444.0851, 440.1567, 436.3124,\n",
              "        443.2732, 450.7574, 424.2997, 424.4947, 445.1722, 438.1482, 432.6598,\n",
              "        441.8674, 449.6599, 397.3812, 444.4634, 438.5015, 439.8684, 437.9724,\n",
              "        442.4600, 433.6436, 442.0087, 443.2128, 436.4401, 443.7773, 440.4411,\n",
              "        437.3809, 428.3193, 437.9421, 435.9434, 448.1414, 437.4799, 448.0590,\n",
              "        428.7319, 443.2023, 437.0673, 441.4589, 418.3206, 401.4689, 446.6022,\n",
              "        440.1010, 442.5034, 444.0354, 444.5585, 438.9084, 449.5381, 442.3481,\n",
              "        442.9819, 431.9016, 436.2384, 437.8188, 438.9302, 445.5789, 438.8453,\n",
              "        437.4113, 450.5679, 446.2110, 450.2847, 448.9061, 443.3369, 429.9093,\n",
              "        439.9380, 435.1393, 439.9041, 444.4677, 395.5087, 430.2085, 445.5246,\n",
              "        446.0965, 444.2857, 417.5573, 446.8696, 435.8531, 405.3824, 425.0228,\n",
              "        448.8202, 438.0622, 438.1243, 444.7742, 431.4191, 441.5333, 431.9499,\n",
              "        439.9025, 435.1238, 416.1298, 447.0640, 434.0255, 433.5847, 438.8497,\n",
              "        438.4018, 441.8610, 451.5082, 442.5115, 431.4777, 441.2088, 447.3434,\n",
              "        443.7897, 448.9810, 436.8051, 446.2666, 443.3822, 439.4710, 420.0014,\n",
              "        437.8372, 442.5304, 447.7998])"
            ]
          },
          "metadata": {
            "tags": []
          },
          "execution_count": 22
        }
      ]
    },
    {
      "cell_type": "markdown",
      "metadata": {
        "id": "ejzb2ld3ENo6"
      },
      "source": [
        "## Ranking the results"
      ]
    },
    {
      "cell_type": "code",
      "metadata": {
        "colab": {
          "base_uri": "https://localhost:8080/"
        },
        "id": "aSmVaBXVN_RD",
        "outputId": "c7010480-e9f1-4098-aa74-2db44b12e35f"
      },
      "source": [
        "topk = 10\n",
        "values, indices = torch.topk(result, topk,largest=True)\n",
        "print(values,indices)"
      ],
      "execution_count": null,
      "outputs": [
        {
          "output_type": "stream",
          "text": [
            "tensor([458.3764, 457.1965, 454.6102, 454.5967, 454.4232, 454.3520, 454.2090,\n",
            "        453.9844, 453.0659, 453.0188]) tensor([363,  12, 180, 289, 340, 143,  47, 144,  73, 187])\n"
          ],
          "name": "stdout"
        }
      ]
    },
    {
      "cell_type": "code",
      "metadata": {
        "colab": {
          "base_uri": "https://localhost:8080/"
        },
        "id": "4JeVfM7BNYtb",
        "outputId": "dc65924c-c819-4fd8-bfa9-02f7cbc7d0c7"
      },
      "source": [
        "for i in range(0,topk):\n",
        "  index = indices[i].item()\n",
        "  value = int(values[i].item())\n",
        "  print(value,titles[index],links[index])\n"
      ],
      "execution_count": null,
      "outputs": [
        {
          "output_type": "stream",
          "text": [
            "458 Viele Corona-Tote: Durchsuchungen in Altenheimen in Mailand https://www.faz.net/aktuell/gesellschaft/gesundheit/coronavirus/viele-corona-tote-durchsuchungen-in-altenheimen-in-mailand-16724777.htm\n",
            "457 Coronakrise: Condor-Rettung endgültig geplatzt https://www.spiegel.de/wirtschaft/unternehmen/coronakrise-condor-rettung-endgueltig-geplatzt-a-4ebf4558-adc1-48a1-ad52-0c4f5736144a#ref=rs\n",
            "454 USA: Eine Pressekonferenz, wie sie wohl nur Trump geben kann https://www.sueddeutsche.de/politik/coronavirus-usa-trump-1.487579\n",
            "454 Südkorea wählt trotz Corona-Krise https://www.wienerzeitung.at/nachrichten/politik/welt/2057223-Suedkorea-waehlt-trotz-Corona-Krise.htm\n",
            "454 Coronakrise: Shinzo Abe allein zu Haus https://www.sueddeutsche.de/panorama/japan-coronavirus-shinzo-abe-1.487623\n",
            "454 USA: Mindestens 20 Tote durch Stürme https://www.zeit.de/gesellschaft/zeitgeschehen/2020-04/usa-stuerme-tornados-mississippi-tot\n",
            "454 Corona-Berichterstattung: Angesteckt https://www.zeit.de/2020/16/coronavirus-berichterstattung-journalismus-informatio\n",
            "453 Coronavirus: Frankreich verlängert Ausgangssperre bis zum 11. Mai https://www.faz.net/aktuell/politik/ausland/corona-pandemie-frankreich-verlaengert-ausgangssperre-bis-zum-11-mai-16723983.htm\n",
            "453 Eurowings Kreditkarte – die Co-Branding Card von Barclaycard https://www.ftd.de/eurowings-kreditkarte\n",
            "453 Coronakrise: Trump wehrt sich gegen Vorwürfe https://www.faz.net/aktuell/politik/trumps-praesidentschaft/coronakrise-trump-wehrt-sich-gegen-vorwuerfe-16724088.htm\n"
          ],
          "name": "stdout"
        }
      ]
    },
    {
      "cell_type": "markdown",
      "metadata": {
        "id": "3CVJb7KDE4lj"
      },
      "source": [
        "## Let's take a look at the vector space\n",
        "Download the two files and upload them into [Tensorflow Projector](https://projector.tensorflow.org/)."
      ]
    },
    {
      "cell_type": "code",
      "metadata": {
        "id": "WXFl-ZhrXPyD"
      },
      "source": [
        "# export to tf projector\n",
        "x_np = headline_vectors.numpy()\n",
        "x_df = pd.DataFrame(x_np)\n",
        "x_df.to_csv('vectors.tsv',sep=\"\\t\",index=False, header=None,encoding=\"utf-8\")\n",
        "\n",
        "with open('titles.tsv', 'w') as writer:\n",
        "  for title in titles:\n",
        "    writer.write(title[:150]+\"...\\n\")\n"
      ],
      "execution_count": null,
      "outputs": []
    },
    {
      "cell_type": "markdown",
      "metadata": {
        "id": "gPbfr3P2FKdH"
      },
      "source": [
        "# Your tasks\n",
        "\n",
        "Try to improve the search results. Here are some ideas:\n",
        "\n",
        "* try out different language models\n",
        "* try out different pooling modes \n",
        "  * e.g you can use the mean of the \"last_hidden_state\" tensor\n",
        "* try out sentence transformers like this one: [Language-agnostic BERT Sentence Embedding](https://arxiv.org/abs/2007.01852)\n",
        "\n",
        "Don't forget to check your results with the embedding projector!\n",
        "\n",
        "\n",
        "Bonus:\n",
        "\n",
        "* modify our code and use the gpu\n",
        "* try a clustering like k-nearest neighbors to group news artikels\n"
      ]
    }
  ]
}