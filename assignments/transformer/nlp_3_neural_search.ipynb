{
  "nbformat": 4,
  "nbformat_minor": 0,
  "metadata": {
    "colab": {
      "name": "nlp 3 - neural search.ipynb",
      "provenance": [],
      "collapsed_sections": [],
      "authorship_tag": "ABX9TyPhAR5tNPa4fmgrbjRW00CH",
      "include_colab_link": true
    },
    "kernelspec": {
      "name": "python3",
      "display_name": "Python 3"
    },
    "language_info": {
      "name": "python"
    },
    "accelerator": "GPU",
    "widgets": {
      "application/vnd.jupyter.widget-state+json": {
        "e8361bbb04f747609e1ee7647799d0a8": {
          "model_module": "@jupyter-widgets/controls",
          "model_name": "HBoxModel",
          "model_module_version": "1.5.0",
          "state": {
            "_dom_classes": [],
            "_model_module": "@jupyter-widgets/controls",
            "_model_module_version": "1.5.0",
            "_model_name": "HBoxModel",
            "_view_count": null,
            "_view_module": "@jupyter-widgets/controls",
            "_view_module_version": "1.5.0",
            "_view_name": "HBoxView",
            "box_style": "",
            "children": [
              "IPY_MODEL_ccee33d37eec42528b1f9833f697300b",
              "IPY_MODEL_130b54410f784ae4ab678032c76fb2e6",
              "IPY_MODEL_ddb523f857914b4e8bccf55270ee7fe0"
            ],
            "layout": "IPY_MODEL_42acbfbd6abe4d62b18aa21fe6fec087"
          }
        },
        "ccee33d37eec42528b1f9833f697300b": {
          "model_module": "@jupyter-widgets/controls",
          "model_name": "HTMLModel",
          "model_module_version": "1.5.0",
          "state": {
            "_dom_classes": [],
            "_model_module": "@jupyter-widgets/controls",
            "_model_module_version": "1.5.0",
            "_model_name": "HTMLModel",
            "_view_count": null,
            "_view_module": "@jupyter-widgets/controls",
            "_view_module_version": "1.5.0",
            "_view_name": "HTMLView",
            "description": "",
            "description_tooltip": null,
            "layout": "IPY_MODEL_b7ce156d968143a8b818a40a9b63f5ba",
            "placeholder": "​",
            "style": "IPY_MODEL_408ecd8664584a55b32169e8fd9f64fd",
            "value": "Downloading: 100%"
          }
        },
        "130b54410f784ae4ab678032c76fb2e6": {
          "model_module": "@jupyter-widgets/controls",
          "model_name": "FloatProgressModel",
          "model_module_version": "1.5.0",
          "state": {
            "_dom_classes": [],
            "_model_module": "@jupyter-widgets/controls",
            "_model_module_version": "1.5.0",
            "_model_name": "FloatProgressModel",
            "_view_count": null,
            "_view_module": "@jupyter-widgets/controls",
            "_view_module_version": "1.5.0",
            "_view_name": "ProgressView",
            "bar_style": "success",
            "description": "",
            "description_tooltip": null,
            "layout": "IPY_MODEL_59de0ab9cdf2448dbe7293bbdd59a39b",
            "max": 59,
            "min": 0,
            "orientation": "horizontal",
            "style": "IPY_MODEL_f9128f9aeeb14de4b79a27416c94f09b",
            "value": 59
          }
        },
        "ddb523f857914b4e8bccf55270ee7fe0": {
          "model_module": "@jupyter-widgets/controls",
          "model_name": "HTMLModel",
          "model_module_version": "1.5.0",
          "state": {
            "_dom_classes": [],
            "_model_module": "@jupyter-widgets/controls",
            "_model_module_version": "1.5.0",
            "_model_name": "HTMLModel",
            "_view_count": null,
            "_view_module": "@jupyter-widgets/controls",
            "_view_module_version": "1.5.0",
            "_view_name": "HTMLView",
            "description": "",
            "description_tooltip": null,
            "layout": "IPY_MODEL_bb0cfd2f1bf043c4bbb472b3461c7d2d",
            "placeholder": "​",
            "style": "IPY_MODEL_63070dbda4e74ba187df1383b198c3ea",
            "value": " 59.0/59.0 [00:00&lt;00:00, 623B/s]"
          }
        },
        "42acbfbd6abe4d62b18aa21fe6fec087": {
          "model_module": "@jupyter-widgets/base",
          "model_name": "LayoutModel",
          "model_module_version": "1.2.0",
          "state": {
            "_model_module": "@jupyter-widgets/base",
            "_model_module_version": "1.2.0",
            "_model_name": "LayoutModel",
            "_view_count": null,
            "_view_module": "@jupyter-widgets/base",
            "_view_module_version": "1.2.0",
            "_view_name": "LayoutView",
            "align_content": null,
            "align_items": null,
            "align_self": null,
            "border": null,
            "bottom": null,
            "display": null,
            "flex": null,
            "flex_flow": null,
            "grid_area": null,
            "grid_auto_columns": null,
            "grid_auto_flow": null,
            "grid_auto_rows": null,
            "grid_column": null,
            "grid_gap": null,
            "grid_row": null,
            "grid_template_areas": null,
            "grid_template_columns": null,
            "grid_template_rows": null,
            "height": null,
            "justify_content": null,
            "justify_items": null,
            "left": null,
            "margin": null,
            "max_height": null,
            "max_width": null,
            "min_height": null,
            "min_width": null,
            "object_fit": null,
            "object_position": null,
            "order": null,
            "overflow": null,
            "overflow_x": null,
            "overflow_y": null,
            "padding": null,
            "right": null,
            "top": null,
            "visibility": null,
            "width": null
          }
        },
        "b7ce156d968143a8b818a40a9b63f5ba": {
          "model_module": "@jupyter-widgets/base",
          "model_name": "LayoutModel",
          "model_module_version": "1.2.0",
          "state": {
            "_model_module": "@jupyter-widgets/base",
            "_model_module_version": "1.2.0",
            "_model_name": "LayoutModel",
            "_view_count": null,
            "_view_module": "@jupyter-widgets/base",
            "_view_module_version": "1.2.0",
            "_view_name": "LayoutView",
            "align_content": null,
            "align_items": null,
            "align_self": null,
            "border": null,
            "bottom": null,
            "display": null,
            "flex": null,
            "flex_flow": null,
            "grid_area": null,
            "grid_auto_columns": null,
            "grid_auto_flow": null,
            "grid_auto_rows": null,
            "grid_column": null,
            "grid_gap": null,
            "grid_row": null,
            "grid_template_areas": null,
            "grid_template_columns": null,
            "grid_template_rows": null,
            "height": null,
            "justify_content": null,
            "justify_items": null,
            "left": null,
            "margin": null,
            "max_height": null,
            "max_width": null,
            "min_height": null,
            "min_width": null,
            "object_fit": null,
            "object_position": null,
            "order": null,
            "overflow": null,
            "overflow_x": null,
            "overflow_y": null,
            "padding": null,
            "right": null,
            "top": null,
            "visibility": null,
            "width": null
          }
        },
        "408ecd8664584a55b32169e8fd9f64fd": {
          "model_module": "@jupyter-widgets/controls",
          "model_name": "DescriptionStyleModel",
          "model_module_version": "1.5.0",
          "state": {
            "_model_module": "@jupyter-widgets/controls",
            "_model_module_version": "1.5.0",
            "_model_name": "DescriptionStyleModel",
            "_view_count": null,
            "_view_module": "@jupyter-widgets/base",
            "_view_module_version": "1.2.0",
            "_view_name": "StyleView",
            "description_width": ""
          }
        },
        "59de0ab9cdf2448dbe7293bbdd59a39b": {
          "model_module": "@jupyter-widgets/base",
          "model_name": "LayoutModel",
          "model_module_version": "1.2.0",
          "state": {
            "_model_module": "@jupyter-widgets/base",
            "_model_module_version": "1.2.0",
            "_model_name": "LayoutModel",
            "_view_count": null,
            "_view_module": "@jupyter-widgets/base",
            "_view_module_version": "1.2.0",
            "_view_name": "LayoutView",
            "align_content": null,
            "align_items": null,
            "align_self": null,
            "border": null,
            "bottom": null,
            "display": null,
            "flex": null,
            "flex_flow": null,
            "grid_area": null,
            "grid_auto_columns": null,
            "grid_auto_flow": null,
            "grid_auto_rows": null,
            "grid_column": null,
            "grid_gap": null,
            "grid_row": null,
            "grid_template_areas": null,
            "grid_template_columns": null,
            "grid_template_rows": null,
            "height": null,
            "justify_content": null,
            "justify_items": null,
            "left": null,
            "margin": null,
            "max_height": null,
            "max_width": null,
            "min_height": null,
            "min_width": null,
            "object_fit": null,
            "object_position": null,
            "order": null,
            "overflow": null,
            "overflow_x": null,
            "overflow_y": null,
            "padding": null,
            "right": null,
            "top": null,
            "visibility": null,
            "width": null
          }
        },
        "f9128f9aeeb14de4b79a27416c94f09b": {
          "model_module": "@jupyter-widgets/controls",
          "model_name": "ProgressStyleModel",
          "model_module_version": "1.5.0",
          "state": {
            "_model_module": "@jupyter-widgets/controls",
            "_model_module_version": "1.5.0",
            "_model_name": "ProgressStyleModel",
            "_view_count": null,
            "_view_module": "@jupyter-widgets/base",
            "_view_module_version": "1.2.0",
            "_view_name": "StyleView",
            "bar_color": null,
            "description_width": ""
          }
        },
        "bb0cfd2f1bf043c4bbb472b3461c7d2d": {
          "model_module": "@jupyter-widgets/base",
          "model_name": "LayoutModel",
          "model_module_version": "1.2.0",
          "state": {
            "_model_module": "@jupyter-widgets/base",
            "_model_module_version": "1.2.0",
            "_model_name": "LayoutModel",
            "_view_count": null,
            "_view_module": "@jupyter-widgets/base",
            "_view_module_version": "1.2.0",
            "_view_name": "LayoutView",
            "align_content": null,
            "align_items": null,
            "align_self": null,
            "border": null,
            "bottom": null,
            "display": null,
            "flex": null,
            "flex_flow": null,
            "grid_area": null,
            "grid_auto_columns": null,
            "grid_auto_flow": null,
            "grid_auto_rows": null,
            "grid_column": null,
            "grid_gap": null,
            "grid_row": null,
            "grid_template_areas": null,
            "grid_template_columns": null,
            "grid_template_rows": null,
            "height": null,
            "justify_content": null,
            "justify_items": null,
            "left": null,
            "margin": null,
            "max_height": null,
            "max_width": null,
            "min_height": null,
            "min_width": null,
            "object_fit": null,
            "object_position": null,
            "order": null,
            "overflow": null,
            "overflow_x": null,
            "overflow_y": null,
            "padding": null,
            "right": null,
            "top": null,
            "visibility": null,
            "width": null
          }
        },
        "63070dbda4e74ba187df1383b198c3ea": {
          "model_module": "@jupyter-widgets/controls",
          "model_name": "DescriptionStyleModel",
          "model_module_version": "1.5.0",
          "state": {
            "_model_module": "@jupyter-widgets/controls",
            "_model_module_version": "1.5.0",
            "_model_name": "DescriptionStyleModel",
            "_view_count": null,
            "_view_module": "@jupyter-widgets/base",
            "_view_module_version": "1.2.0",
            "_view_name": "StyleView",
            "description_width": ""
          }
        },
        "cc77c9d95d4a4f0fac05c9701b4a698c": {
          "model_module": "@jupyter-widgets/controls",
          "model_name": "HBoxModel",
          "model_module_version": "1.5.0",
          "state": {
            "_dom_classes": [],
            "_model_module": "@jupyter-widgets/controls",
            "_model_module_version": "1.5.0",
            "_model_name": "HBoxModel",
            "_view_count": null,
            "_view_module": "@jupyter-widgets/controls",
            "_view_module_version": "1.5.0",
            "_view_name": "HBoxView",
            "box_style": "",
            "children": [
              "IPY_MODEL_e32b8c4835454303ad4239b4f68ce0cb",
              "IPY_MODEL_e664b3c8f4e147f9a65c2d4b889fedbc",
              "IPY_MODEL_ca1e877ec1b0493d8239f92b24396810"
            ],
            "layout": "IPY_MODEL_b773c688ae4e4a5d927e097a81891d46"
          }
        },
        "e32b8c4835454303ad4239b4f68ce0cb": {
          "model_module": "@jupyter-widgets/controls",
          "model_name": "HTMLModel",
          "model_module_version": "1.5.0",
          "state": {
            "_dom_classes": [],
            "_model_module": "@jupyter-widgets/controls",
            "_model_module_version": "1.5.0",
            "_model_name": "HTMLModel",
            "_view_count": null,
            "_view_module": "@jupyter-widgets/controls",
            "_view_module_version": "1.5.0",
            "_view_name": "HTMLView",
            "description": "",
            "description_tooltip": null,
            "layout": "IPY_MODEL_15ef256e38314210b6c0b49adc6f4404",
            "placeholder": "​",
            "style": "IPY_MODEL_66c485595f334521b7d076d2046109c5",
            "value": "Downloading: 100%"
          }
        },
        "e664b3c8f4e147f9a65c2d4b889fedbc": {
          "model_module": "@jupyter-widgets/controls",
          "model_name": "FloatProgressModel",
          "model_module_version": "1.5.0",
          "state": {
            "_dom_classes": [],
            "_model_module": "@jupyter-widgets/controls",
            "_model_module_version": "1.5.0",
            "_model_name": "FloatProgressModel",
            "_view_count": null,
            "_view_module": "@jupyter-widgets/controls",
            "_view_module_version": "1.5.0",
            "_view_name": "ProgressView",
            "bar_style": "success",
            "description": "",
            "description_tooltip": null,
            "layout": "IPY_MODEL_5c41912d76534b248dea2b61bf8892ee",
            "max": 456,
            "min": 0,
            "orientation": "horizontal",
            "style": "IPY_MODEL_b3402d3347bc4102af743b43ef6fd496",
            "value": 456
          }
        },
        "ca1e877ec1b0493d8239f92b24396810": {
          "model_module": "@jupyter-widgets/controls",
          "model_name": "HTMLModel",
          "model_module_version": "1.5.0",
          "state": {
            "_dom_classes": [],
            "_model_module": "@jupyter-widgets/controls",
            "_model_module_version": "1.5.0",
            "_model_name": "HTMLModel",
            "_view_count": null,
            "_view_module": "@jupyter-widgets/controls",
            "_view_module_version": "1.5.0",
            "_view_name": "HTMLView",
            "description": "",
            "description_tooltip": null,
            "layout": "IPY_MODEL_c4c6572e7e014f41b2a1777a510e3d3b",
            "placeholder": "​",
            "style": "IPY_MODEL_8fab3025454240308d08291fd2c9a3c8",
            "value": " 456/456 [00:00&lt;00:00, 4.79kB/s]"
          }
        },
        "b773c688ae4e4a5d927e097a81891d46": {
          "model_module": "@jupyter-widgets/base",
          "model_name": "LayoutModel",
          "model_module_version": "1.2.0",
          "state": {
            "_model_module": "@jupyter-widgets/base",
            "_model_module_version": "1.2.0",
            "_model_name": "LayoutModel",
            "_view_count": null,
            "_view_module": "@jupyter-widgets/base",
            "_view_module_version": "1.2.0",
            "_view_name": "LayoutView",
            "align_content": null,
            "align_items": null,
            "align_self": null,
            "border": null,
            "bottom": null,
            "display": null,
            "flex": null,
            "flex_flow": null,
            "grid_area": null,
            "grid_auto_columns": null,
            "grid_auto_flow": null,
            "grid_auto_rows": null,
            "grid_column": null,
            "grid_gap": null,
            "grid_row": null,
            "grid_template_areas": null,
            "grid_template_columns": null,
            "grid_template_rows": null,
            "height": null,
            "justify_content": null,
            "justify_items": null,
            "left": null,
            "margin": null,
            "max_height": null,
            "max_width": null,
            "min_height": null,
            "min_width": null,
            "object_fit": null,
            "object_position": null,
            "order": null,
            "overflow": null,
            "overflow_x": null,
            "overflow_y": null,
            "padding": null,
            "right": null,
            "top": null,
            "visibility": null,
            "width": null
          }
        },
        "15ef256e38314210b6c0b49adc6f4404": {
          "model_module": "@jupyter-widgets/base",
          "model_name": "LayoutModel",
          "model_module_version": "1.2.0",
          "state": {
            "_model_module": "@jupyter-widgets/base",
            "_model_module_version": "1.2.0",
            "_model_name": "LayoutModel",
            "_view_count": null,
            "_view_module": "@jupyter-widgets/base",
            "_view_module_version": "1.2.0",
            "_view_name": "LayoutView",
            "align_content": null,
            "align_items": null,
            "align_self": null,
            "border": null,
            "bottom": null,
            "display": null,
            "flex": null,
            "flex_flow": null,
            "grid_area": null,
            "grid_auto_columns": null,
            "grid_auto_flow": null,
            "grid_auto_rows": null,
            "grid_column": null,
            "grid_gap": null,
            "grid_row": null,
            "grid_template_areas": null,
            "grid_template_columns": null,
            "grid_template_rows": null,
            "height": null,
            "justify_content": null,
            "justify_items": null,
            "left": null,
            "margin": null,
            "max_height": null,
            "max_width": null,
            "min_height": null,
            "min_width": null,
            "object_fit": null,
            "object_position": null,
            "order": null,
            "overflow": null,
            "overflow_x": null,
            "overflow_y": null,
            "padding": null,
            "right": null,
            "top": null,
            "visibility": null,
            "width": null
          }
        },
        "66c485595f334521b7d076d2046109c5": {
          "model_module": "@jupyter-widgets/controls",
          "model_name": "DescriptionStyleModel",
          "model_module_version": "1.5.0",
          "state": {
            "_model_module": "@jupyter-widgets/controls",
            "_model_module_version": "1.5.0",
            "_model_name": "DescriptionStyleModel",
            "_view_count": null,
            "_view_module": "@jupyter-widgets/base",
            "_view_module_version": "1.2.0",
            "_view_name": "StyleView",
            "description_width": ""
          }
        },
        "5c41912d76534b248dea2b61bf8892ee": {
          "model_module": "@jupyter-widgets/base",
          "model_name": "LayoutModel",
          "model_module_version": "1.2.0",
          "state": {
            "_model_module": "@jupyter-widgets/base",
            "_model_module_version": "1.2.0",
            "_model_name": "LayoutModel",
            "_view_count": null,
            "_view_module": "@jupyter-widgets/base",
            "_view_module_version": "1.2.0",
            "_view_name": "LayoutView",
            "align_content": null,
            "align_items": null,
            "align_self": null,
            "border": null,
            "bottom": null,
            "display": null,
            "flex": null,
            "flex_flow": null,
            "grid_area": null,
            "grid_auto_columns": null,
            "grid_auto_flow": null,
            "grid_auto_rows": null,
            "grid_column": null,
            "grid_gap": null,
            "grid_row": null,
            "grid_template_areas": null,
            "grid_template_columns": null,
            "grid_template_rows": null,
            "height": null,
            "justify_content": null,
            "justify_items": null,
            "left": null,
            "margin": null,
            "max_height": null,
            "max_width": null,
            "min_height": null,
            "min_width": null,
            "object_fit": null,
            "object_position": null,
            "order": null,
            "overflow": null,
            "overflow_x": null,
            "overflow_y": null,
            "padding": null,
            "right": null,
            "top": null,
            "visibility": null,
            "width": null
          }
        },
        "b3402d3347bc4102af743b43ef6fd496": {
          "model_module": "@jupyter-widgets/controls",
          "model_name": "ProgressStyleModel",
          "model_module_version": "1.5.0",
          "state": {
            "_model_module": "@jupyter-widgets/controls",
            "_model_module_version": "1.5.0",
            "_model_name": "ProgressStyleModel",
            "_view_count": null,
            "_view_module": "@jupyter-widgets/base",
            "_view_module_version": "1.2.0",
            "_view_name": "StyleView",
            "bar_color": null,
            "description_width": ""
          }
        },
        "c4c6572e7e014f41b2a1777a510e3d3b": {
          "model_module": "@jupyter-widgets/base",
          "model_name": "LayoutModel",
          "model_module_version": "1.2.0",
          "state": {
            "_model_module": "@jupyter-widgets/base",
            "_model_module_version": "1.2.0",
            "_model_name": "LayoutModel",
            "_view_count": null,
            "_view_module": "@jupyter-widgets/base",
            "_view_module_version": "1.2.0",
            "_view_name": "LayoutView",
            "align_content": null,
            "align_items": null,
            "align_self": null,
            "border": null,
            "bottom": null,
            "display": null,
            "flex": null,
            "flex_flow": null,
            "grid_area": null,
            "grid_auto_columns": null,
            "grid_auto_flow": null,
            "grid_auto_rows": null,
            "grid_column": null,
            "grid_gap": null,
            "grid_row": null,
            "grid_template_areas": null,
            "grid_template_columns": null,
            "grid_template_rows": null,
            "height": null,
            "justify_content": null,
            "justify_items": null,
            "left": null,
            "margin": null,
            "max_height": null,
            "max_width": null,
            "min_height": null,
            "min_width": null,
            "object_fit": null,
            "object_position": null,
            "order": null,
            "overflow": null,
            "overflow_x": null,
            "overflow_y": null,
            "padding": null,
            "right": null,
            "top": null,
            "visibility": null,
            "width": null
          }
        },
        "8fab3025454240308d08291fd2c9a3c8": {
          "model_module": "@jupyter-widgets/controls",
          "model_name": "DescriptionStyleModel",
          "model_module_version": "1.5.0",
          "state": {
            "_model_module": "@jupyter-widgets/controls",
            "_model_module_version": "1.5.0",
            "_model_name": "DescriptionStyleModel",
            "_view_count": null,
            "_view_module": "@jupyter-widgets/base",
            "_view_module_version": "1.2.0",
            "_view_name": "StyleView",
            "description_width": ""
          }
        },
        "62b9fe89fe894bd197dc0902d8037ea0": {
          "model_module": "@jupyter-widgets/controls",
          "model_name": "HBoxModel",
          "model_module_version": "1.5.0",
          "state": {
            "_dom_classes": [],
            "_model_module": "@jupyter-widgets/controls",
            "_model_module_version": "1.5.0",
            "_model_name": "HBoxModel",
            "_view_count": null,
            "_view_module": "@jupyter-widgets/controls",
            "_view_module_version": "1.5.0",
            "_view_name": "HBoxView",
            "box_style": "",
            "children": [
              "IPY_MODEL_888248b2e4824427a07da10946c784e8",
              "IPY_MODEL_ab256ce34c0346afaaecffd53e296592",
              "IPY_MODEL_796f3d2ce13043a8af3777650453f6cd"
            ],
            "layout": "IPY_MODEL_489090f26a3d46f99d15535e5f9224aa"
          }
        },
        "888248b2e4824427a07da10946c784e8": {
          "model_module": "@jupyter-widgets/controls",
          "model_name": "HTMLModel",
          "model_module_version": "1.5.0",
          "state": {
            "_dom_classes": [],
            "_model_module": "@jupyter-widgets/controls",
            "_model_module_version": "1.5.0",
            "_model_name": "HTMLModel",
            "_view_count": null,
            "_view_module": "@jupyter-widgets/controls",
            "_view_module_version": "1.5.0",
            "_view_name": "HTMLView",
            "description": "",
            "description_tooltip": null,
            "layout": "IPY_MODEL_f29ade790a494c30ba100177365efa64",
            "placeholder": "​",
            "style": "IPY_MODEL_34f5db476c904c5db29a13fff255dbf1",
            "value": "Downloading: 100%"
          }
        },
        "ab256ce34c0346afaaecffd53e296592": {
          "model_module": "@jupyter-widgets/controls",
          "model_name": "FloatProgressModel",
          "model_module_version": "1.5.0",
          "state": {
            "_dom_classes": [],
            "_model_module": "@jupyter-widgets/controls",
            "_model_module_version": "1.5.0",
            "_model_name": "FloatProgressModel",
            "_view_count": null,
            "_view_module": "@jupyter-widgets/controls",
            "_view_module_version": "1.5.0",
            "_view_name": "ProgressView",
            "bar_style": "success",
            "description": "",
            "description_tooltip": null,
            "layout": "IPY_MODEL_2989ddb452d54162bd388f24d2d36d39",
            "max": 239836,
            "min": 0,
            "orientation": "horizontal",
            "style": "IPY_MODEL_3a765cfacf6f468b9c528b79ba6146ec",
            "value": 239836
          }
        },
        "796f3d2ce13043a8af3777650453f6cd": {
          "model_module": "@jupyter-widgets/controls",
          "model_name": "HTMLModel",
          "model_module_version": "1.5.0",
          "state": {
            "_dom_classes": [],
            "_model_module": "@jupyter-widgets/controls",
            "_model_module_version": "1.5.0",
            "_model_name": "HTMLModel",
            "_view_count": null,
            "_view_module": "@jupyter-widgets/controls",
            "_view_module_version": "1.5.0",
            "_view_name": "HTMLView",
            "description": "",
            "description_tooltip": null,
            "layout": "IPY_MODEL_8ca680c4eb0543c88f3d61617b3dc8e7",
            "placeholder": "​",
            "style": "IPY_MODEL_ea37919197644e70adba9b75edb4bcdc",
            "value": " 234k/234k [00:00&lt;00:00, 6.12kB/s]"
          }
        },
        "489090f26a3d46f99d15535e5f9224aa": {
          "model_module": "@jupyter-widgets/base",
          "model_name": "LayoutModel",
          "model_module_version": "1.2.0",
          "state": {
            "_model_module": "@jupyter-widgets/base",
            "_model_module_version": "1.2.0",
            "_model_name": "LayoutModel",
            "_view_count": null,
            "_view_module": "@jupyter-widgets/base",
            "_view_module_version": "1.2.0",
            "_view_name": "LayoutView",
            "align_content": null,
            "align_items": null,
            "align_self": null,
            "border": null,
            "bottom": null,
            "display": null,
            "flex": null,
            "flex_flow": null,
            "grid_area": null,
            "grid_auto_columns": null,
            "grid_auto_flow": null,
            "grid_auto_rows": null,
            "grid_column": null,
            "grid_gap": null,
            "grid_row": null,
            "grid_template_areas": null,
            "grid_template_columns": null,
            "grid_template_rows": null,
            "height": null,
            "justify_content": null,
            "justify_items": null,
            "left": null,
            "margin": null,
            "max_height": null,
            "max_width": null,
            "min_height": null,
            "min_width": null,
            "object_fit": null,
            "object_position": null,
            "order": null,
            "overflow": null,
            "overflow_x": null,
            "overflow_y": null,
            "padding": null,
            "right": null,
            "top": null,
            "visibility": null,
            "width": null
          }
        },
        "f29ade790a494c30ba100177365efa64": {
          "model_module": "@jupyter-widgets/base",
          "model_name": "LayoutModel",
          "model_module_version": "1.2.0",
          "state": {
            "_model_module": "@jupyter-widgets/base",
            "_model_module_version": "1.2.0",
            "_model_name": "LayoutModel",
            "_view_count": null,
            "_view_module": "@jupyter-widgets/base",
            "_view_module_version": "1.2.0",
            "_view_name": "LayoutView",
            "align_content": null,
            "align_items": null,
            "align_self": null,
            "border": null,
            "bottom": null,
            "display": null,
            "flex": null,
            "flex_flow": null,
            "grid_area": null,
            "grid_auto_columns": null,
            "grid_auto_flow": null,
            "grid_auto_rows": null,
            "grid_column": null,
            "grid_gap": null,
            "grid_row": null,
            "grid_template_areas": null,
            "grid_template_columns": null,
            "grid_template_rows": null,
            "height": null,
            "justify_content": null,
            "justify_items": null,
            "left": null,
            "margin": null,
            "max_height": null,
            "max_width": null,
            "min_height": null,
            "min_width": null,
            "object_fit": null,
            "object_position": null,
            "order": null,
            "overflow": null,
            "overflow_x": null,
            "overflow_y": null,
            "padding": null,
            "right": null,
            "top": null,
            "visibility": null,
            "width": null
          }
        },
        "34f5db476c904c5db29a13fff255dbf1": {
          "model_module": "@jupyter-widgets/controls",
          "model_name": "DescriptionStyleModel",
          "model_module_version": "1.5.0",
          "state": {
            "_model_module": "@jupyter-widgets/controls",
            "_model_module_version": "1.5.0",
            "_model_name": "DescriptionStyleModel",
            "_view_count": null,
            "_view_module": "@jupyter-widgets/base",
            "_view_module_version": "1.2.0",
            "_view_name": "StyleView",
            "description_width": ""
          }
        },
        "2989ddb452d54162bd388f24d2d36d39": {
          "model_module": "@jupyter-widgets/base",
          "model_name": "LayoutModel",
          "model_module_version": "1.2.0",
          "state": {
            "_model_module": "@jupyter-widgets/base",
            "_model_module_version": "1.2.0",
            "_model_name": "LayoutModel",
            "_view_count": null,
            "_view_module": "@jupyter-widgets/base",
            "_view_module_version": "1.2.0",
            "_view_name": "LayoutView",
            "align_content": null,
            "align_items": null,
            "align_self": null,
            "border": null,
            "bottom": null,
            "display": null,
            "flex": null,
            "flex_flow": null,
            "grid_area": null,
            "grid_auto_columns": null,
            "grid_auto_flow": null,
            "grid_auto_rows": null,
            "grid_column": null,
            "grid_gap": null,
            "grid_row": null,
            "grid_template_areas": null,
            "grid_template_columns": null,
            "grid_template_rows": null,
            "height": null,
            "justify_content": null,
            "justify_items": null,
            "left": null,
            "margin": null,
            "max_height": null,
            "max_width": null,
            "min_height": null,
            "min_width": null,
            "object_fit": null,
            "object_position": null,
            "order": null,
            "overflow": null,
            "overflow_x": null,
            "overflow_y": null,
            "padding": null,
            "right": null,
            "top": null,
            "visibility": null,
            "width": null
          }
        },
        "3a765cfacf6f468b9c528b79ba6146ec": {
          "model_module": "@jupyter-widgets/controls",
          "model_name": "ProgressStyleModel",
          "model_module_version": "1.5.0",
          "state": {
            "_model_module": "@jupyter-widgets/controls",
            "_model_module_version": "1.5.0",
            "_model_name": "ProgressStyleModel",
            "_view_count": null,
            "_view_module": "@jupyter-widgets/base",
            "_view_module_version": "1.2.0",
            "_view_name": "StyleView",
            "bar_color": null,
            "description_width": ""
          }
        },
        "8ca680c4eb0543c88f3d61617b3dc8e7": {
          "model_module": "@jupyter-widgets/base",
          "model_name": "LayoutModel",
          "model_module_version": "1.2.0",
          "state": {
            "_model_module": "@jupyter-widgets/base",
            "_model_module_version": "1.2.0",
            "_model_name": "LayoutModel",
            "_view_count": null,
            "_view_module": "@jupyter-widgets/base",
            "_view_module_version": "1.2.0",
            "_view_name": "LayoutView",
            "align_content": null,
            "align_items": null,
            "align_self": null,
            "border": null,
            "bottom": null,
            "display": null,
            "flex": null,
            "flex_flow": null,
            "grid_area": null,
            "grid_auto_columns": null,
            "grid_auto_flow": null,
            "grid_auto_rows": null,
            "grid_column": null,
            "grid_gap": null,
            "grid_row": null,
            "grid_template_areas": null,
            "grid_template_columns": null,
            "grid_template_rows": null,
            "height": null,
            "justify_content": null,
            "justify_items": null,
            "left": null,
            "margin": null,
            "max_height": null,
            "max_width": null,
            "min_height": null,
            "min_width": null,
            "object_fit": null,
            "object_position": null,
            "order": null,
            "overflow": null,
            "overflow_x": null,
            "overflow_y": null,
            "padding": null,
            "right": null,
            "top": null,
            "visibility": null,
            "width": null
          }
        },
        "ea37919197644e70adba9b75edb4bcdc": {
          "model_module": "@jupyter-widgets/controls",
          "model_name": "DescriptionStyleModel",
          "model_module_version": "1.5.0",
          "state": {
            "_model_module": "@jupyter-widgets/controls",
            "_model_module_version": "1.5.0",
            "_model_name": "DescriptionStyleModel",
            "_view_count": null,
            "_view_module": "@jupyter-widgets/base",
            "_view_module_version": "1.2.0",
            "_view_name": "StyleView",
            "description_width": ""
          }
        },
        "6abaf711a7c6452b920e0285ea47ac83": {
          "model_module": "@jupyter-widgets/controls",
          "model_name": "HBoxModel",
          "model_module_version": "1.5.0",
          "state": {
            "_dom_classes": [],
            "_model_module": "@jupyter-widgets/controls",
            "_model_module_version": "1.5.0",
            "_model_name": "HBoxModel",
            "_view_count": null,
            "_view_module": "@jupyter-widgets/controls",
            "_view_module_version": "1.5.0",
            "_view_name": "HBoxView",
            "box_style": "",
            "children": [
              "IPY_MODEL_c7629666297a425da833c018721e7800",
              "IPY_MODEL_4ac43700bbb04a60aa9ec30c01d13c17",
              "IPY_MODEL_6fa8d3bae6484f5da71ecfcf6475da33"
            ],
            "layout": "IPY_MODEL_5a9da0c1ff0e4349ae487f6a8fa87c63"
          }
        },
        "c7629666297a425da833c018721e7800": {
          "model_module": "@jupyter-widgets/controls",
          "model_name": "HTMLModel",
          "model_module_version": "1.5.0",
          "state": {
            "_dom_classes": [],
            "_model_module": "@jupyter-widgets/controls",
            "_model_module_version": "1.5.0",
            "_model_name": "HTMLModel",
            "_view_count": null,
            "_view_module": "@jupyter-widgets/controls",
            "_view_module_version": "1.5.0",
            "_view_name": "HTMLView",
            "description": "",
            "description_tooltip": null,
            "layout": "IPY_MODEL_50128eca68704067afb78627e07462db",
            "placeholder": "​",
            "style": "IPY_MODEL_3872b46dd62a4a40b2a05399be0f6741",
            "value": "Downloading: 100%"
          }
        },
        "4ac43700bbb04a60aa9ec30c01d13c17": {
          "model_module": "@jupyter-widgets/controls",
          "model_name": "FloatProgressModel",
          "model_module_version": "1.5.0",
          "state": {
            "_dom_classes": [],
            "_model_module": "@jupyter-widgets/controls",
            "_model_module_version": "1.5.0",
            "_model_name": "FloatProgressModel",
            "_view_count": null,
            "_view_module": "@jupyter-widgets/controls",
            "_view_module_version": "1.5.0",
            "_view_name": "ProgressView",
            "bar_style": "success",
            "description": "",
            "description_tooltip": null,
            "layout": "IPY_MODEL_1135fdda413d4b3191e5cace49ffa1c4",
            "max": 442252390,
            "min": 0,
            "orientation": "horizontal",
            "style": "IPY_MODEL_31c281ffc15b44e39ef98a0bd2d366df",
            "value": 442252390
          }
        },
        "6fa8d3bae6484f5da71ecfcf6475da33": {
          "model_module": "@jupyter-widgets/controls",
          "model_name": "HTMLModel",
          "model_module_version": "1.5.0",
          "state": {
            "_dom_classes": [],
            "_model_module": "@jupyter-widgets/controls",
            "_model_module_version": "1.5.0",
            "_model_name": "HTMLModel",
            "_view_count": null,
            "_view_module": "@jupyter-widgets/controls",
            "_view_module_version": "1.5.0",
            "_view_name": "HTMLView",
            "description": "",
            "description_tooltip": null,
            "layout": "IPY_MODEL_66d149f5238c42cdb16efa197f88fbcf",
            "placeholder": "​",
            "style": "IPY_MODEL_1d5a30e7f49245b59b3e8d44400ffefc",
            "value": " 422M/422M [00:13&lt;00:00, 58.8MB/s]"
          }
        },
        "5a9da0c1ff0e4349ae487f6a8fa87c63": {
          "model_module": "@jupyter-widgets/base",
          "model_name": "LayoutModel",
          "model_module_version": "1.2.0",
          "state": {
            "_model_module": "@jupyter-widgets/base",
            "_model_module_version": "1.2.0",
            "_model_name": "LayoutModel",
            "_view_count": null,
            "_view_module": "@jupyter-widgets/base",
            "_view_module_version": "1.2.0",
            "_view_name": "LayoutView",
            "align_content": null,
            "align_items": null,
            "align_self": null,
            "border": null,
            "bottom": null,
            "display": null,
            "flex": null,
            "flex_flow": null,
            "grid_area": null,
            "grid_auto_columns": null,
            "grid_auto_flow": null,
            "grid_auto_rows": null,
            "grid_column": null,
            "grid_gap": null,
            "grid_row": null,
            "grid_template_areas": null,
            "grid_template_columns": null,
            "grid_template_rows": null,
            "height": null,
            "justify_content": null,
            "justify_items": null,
            "left": null,
            "margin": null,
            "max_height": null,
            "max_width": null,
            "min_height": null,
            "min_width": null,
            "object_fit": null,
            "object_position": null,
            "order": null,
            "overflow": null,
            "overflow_x": null,
            "overflow_y": null,
            "padding": null,
            "right": null,
            "top": null,
            "visibility": null,
            "width": null
          }
        },
        "50128eca68704067afb78627e07462db": {
          "model_module": "@jupyter-widgets/base",
          "model_name": "LayoutModel",
          "model_module_version": "1.2.0",
          "state": {
            "_model_module": "@jupyter-widgets/base",
            "_model_module_version": "1.2.0",
            "_model_name": "LayoutModel",
            "_view_count": null,
            "_view_module": "@jupyter-widgets/base",
            "_view_module_version": "1.2.0",
            "_view_name": "LayoutView",
            "align_content": null,
            "align_items": null,
            "align_self": null,
            "border": null,
            "bottom": null,
            "display": null,
            "flex": null,
            "flex_flow": null,
            "grid_area": null,
            "grid_auto_columns": null,
            "grid_auto_flow": null,
            "grid_auto_rows": null,
            "grid_column": null,
            "grid_gap": null,
            "grid_row": null,
            "grid_template_areas": null,
            "grid_template_columns": null,
            "grid_template_rows": null,
            "height": null,
            "justify_content": null,
            "justify_items": null,
            "left": null,
            "margin": null,
            "max_height": null,
            "max_width": null,
            "min_height": null,
            "min_width": null,
            "object_fit": null,
            "object_position": null,
            "order": null,
            "overflow": null,
            "overflow_x": null,
            "overflow_y": null,
            "padding": null,
            "right": null,
            "top": null,
            "visibility": null,
            "width": null
          }
        },
        "3872b46dd62a4a40b2a05399be0f6741": {
          "model_module": "@jupyter-widgets/controls",
          "model_name": "DescriptionStyleModel",
          "model_module_version": "1.5.0",
          "state": {
            "_model_module": "@jupyter-widgets/controls",
            "_model_module_version": "1.5.0",
            "_model_name": "DescriptionStyleModel",
            "_view_count": null,
            "_view_module": "@jupyter-widgets/base",
            "_view_module_version": "1.2.0",
            "_view_name": "StyleView",
            "description_width": ""
          }
        },
        "1135fdda413d4b3191e5cace49ffa1c4": {
          "model_module": "@jupyter-widgets/base",
          "model_name": "LayoutModel",
          "model_module_version": "1.2.0",
          "state": {
            "_model_module": "@jupyter-widgets/base",
            "_model_module_version": "1.2.0",
            "_model_name": "LayoutModel",
            "_view_count": null,
            "_view_module": "@jupyter-widgets/base",
            "_view_module_version": "1.2.0",
            "_view_name": "LayoutView",
            "align_content": null,
            "align_items": null,
            "align_self": null,
            "border": null,
            "bottom": null,
            "display": null,
            "flex": null,
            "flex_flow": null,
            "grid_area": null,
            "grid_auto_columns": null,
            "grid_auto_flow": null,
            "grid_auto_rows": null,
            "grid_column": null,
            "grid_gap": null,
            "grid_row": null,
            "grid_template_areas": null,
            "grid_template_columns": null,
            "grid_template_rows": null,
            "height": null,
            "justify_content": null,
            "justify_items": null,
            "left": null,
            "margin": null,
            "max_height": null,
            "max_width": null,
            "min_height": null,
            "min_width": null,
            "object_fit": null,
            "object_position": null,
            "order": null,
            "overflow": null,
            "overflow_x": null,
            "overflow_y": null,
            "padding": null,
            "right": null,
            "top": null,
            "visibility": null,
            "width": null
          }
        },
        "31c281ffc15b44e39ef98a0bd2d366df": {
          "model_module": "@jupyter-widgets/controls",
          "model_name": "ProgressStyleModel",
          "model_module_version": "1.5.0",
          "state": {
            "_model_module": "@jupyter-widgets/controls",
            "_model_module_version": "1.5.0",
            "_model_name": "ProgressStyleModel",
            "_view_count": null,
            "_view_module": "@jupyter-widgets/base",
            "_view_module_version": "1.2.0",
            "_view_name": "StyleView",
            "bar_color": null,
            "description_width": ""
          }
        },
        "66d149f5238c42cdb16efa197f88fbcf": {
          "model_module": "@jupyter-widgets/base",
          "model_name": "LayoutModel",
          "model_module_version": "1.2.0",
          "state": {
            "_model_module": "@jupyter-widgets/base",
            "_model_module_version": "1.2.0",
            "_model_name": "LayoutModel",
            "_view_count": null,
            "_view_module": "@jupyter-widgets/base",
            "_view_module_version": "1.2.0",
            "_view_name": "LayoutView",
            "align_content": null,
            "align_items": null,
            "align_self": null,
            "border": null,
            "bottom": null,
            "display": null,
            "flex": null,
            "flex_flow": null,
            "grid_area": null,
            "grid_auto_columns": null,
            "grid_auto_flow": null,
            "grid_auto_rows": null,
            "grid_column": null,
            "grid_gap": null,
            "grid_row": null,
            "grid_template_areas": null,
            "grid_template_columns": null,
            "grid_template_rows": null,
            "height": null,
            "justify_content": null,
            "justify_items": null,
            "left": null,
            "margin": null,
            "max_height": null,
            "max_width": null,
            "min_height": null,
            "min_width": null,
            "object_fit": null,
            "object_position": null,
            "order": null,
            "overflow": null,
            "overflow_x": null,
            "overflow_y": null,
            "padding": null,
            "right": null,
            "top": null,
            "visibility": null,
            "width": null
          }
        },
        "1d5a30e7f49245b59b3e8d44400ffefc": {
          "model_module": "@jupyter-widgets/controls",
          "model_name": "DescriptionStyleModel",
          "model_module_version": "1.5.0",
          "state": {
            "_model_module": "@jupyter-widgets/controls",
            "_model_module_version": "1.5.0",
            "_model_name": "DescriptionStyleModel",
            "_view_count": null,
            "_view_module": "@jupyter-widgets/base",
            "_view_module_version": "1.2.0",
            "_view_name": "StyleView",
            "description_width": ""
          }
        }
      }
    }
  },
  "cells": [
    {
      "cell_type": "markdown",
      "metadata": {
        "id": "view-in-github",
        "colab_type": "text"
      },
      "source": [
        "<a href=\"https://colab.research.google.com/github/oliverguhr/htw-nlp-lecture/blob/master/assignments/transformer/nlp_3_neural_search.ipynb\" target=\"_parent\"><img src=\"https://colab.research.google.com/assets/colab-badge.svg\" alt=\"Open In Colab\"/></a>"
      ]
    },
    {
      "cell_type": "markdown",
      "metadata": {
        "id": "3rv87R1Y_Cb1"
      },
      "source": [
        "# Neural search with Transformers\n",
        "\n",
        "## What are we going to do?\n",
        "\n",
        "Instead of searching text by compareing characters and words, \n",
        "we will use the power of transfomer models and compare texts in vector sprace.\n",
        "\n",
        "![](https://media.giphy.com/media/xT0xeJpnrWC4XWblEk/giphy.gif)"
      ]
    },
    {
      "cell_type": "markdown",
      "metadata": {
        "id": "tLW_it_2_MQk"
      },
      "source": [
        "## installing dependencies"
      ]
    },
    {
      "cell_type": "code",
      "metadata": {
        "colab": {
          "base_uri": "https://localhost:8080/"
        },
        "id": "CaGQZ-m8d1ff",
        "outputId": "0c39d2a8-9dae-4d50-9016-c5c5b09c3674"
      },
      "source": [
        "!pip install transformers"
      ],
      "execution_count": 65,
      "outputs": [
        {
          "output_type": "stream",
          "name": "stdout",
          "text": [
            "Looking in indexes: https://pypi.org/simple, https://us-python.pkg.dev/colab-wheels/public/simple/\n",
            "Requirement already satisfied: transformers in /usr/local/lib/python3.7/dist-packages (4.19.2)\n",
            "Requirement already satisfied: importlib-metadata in /usr/local/lib/python3.7/dist-packages (from transformers) (4.11.3)\n",
            "Requirement already satisfied: filelock in /usr/local/lib/python3.7/dist-packages (from transformers) (3.7.0)\n",
            "Requirement already satisfied: tokenizers!=0.11.3,<0.13,>=0.11.1 in /usr/local/lib/python3.7/dist-packages (from transformers) (0.12.1)\n",
            "Requirement already satisfied: tqdm>=4.27 in /usr/local/lib/python3.7/dist-packages (from transformers) (4.64.0)\n",
            "Requirement already satisfied: huggingface-hub<1.0,>=0.1.0 in /usr/local/lib/python3.7/dist-packages (from transformers) (0.6.0)\n",
            "Requirement already satisfied: pyyaml>=5.1 in /usr/local/lib/python3.7/dist-packages (from transformers) (6.0)\n",
            "Requirement already satisfied: regex!=2019.12.17 in /usr/local/lib/python3.7/dist-packages (from transformers) (2019.12.20)\n",
            "Requirement already satisfied: packaging>=20.0 in /usr/local/lib/python3.7/dist-packages (from transformers) (21.3)\n",
            "Requirement already satisfied: numpy>=1.17 in /usr/local/lib/python3.7/dist-packages (from transformers) (1.21.6)\n",
            "Requirement already satisfied: requests in /usr/local/lib/python3.7/dist-packages (from transformers) (2.23.0)\n",
            "Requirement already satisfied: typing-extensions>=3.7.4.3 in /usr/local/lib/python3.7/dist-packages (from huggingface-hub<1.0,>=0.1.0->transformers) (4.2.0)\n",
            "Requirement already satisfied: pyparsing!=3.0.5,>=2.0.2 in /usr/local/lib/python3.7/dist-packages (from packaging>=20.0->transformers) (3.0.9)\n",
            "Requirement already satisfied: zipp>=0.5 in /usr/local/lib/python3.7/dist-packages (from importlib-metadata->transformers) (3.8.0)\n",
            "Requirement already satisfied: certifi>=2017.4.17 in /usr/local/lib/python3.7/dist-packages (from requests->transformers) (2022.5.18.1)\n",
            "Requirement already satisfied: urllib3!=1.25.0,!=1.25.1,<1.26,>=1.21.1 in /usr/local/lib/python3.7/dist-packages (from requests->transformers) (1.24.3)\n",
            "Requirement already satisfied: idna<3,>=2.5 in /usr/local/lib/python3.7/dist-packages (from requests->transformers) (2.10)\n",
            "Requirement already satisfied: chardet<4,>=3.0.2 in /usr/local/lib/python3.7/dist-packages (from requests->transformers) (3.0.4)\n"
          ]
        }
      ]
    },
    {
      "cell_type": "code",
      "metadata": {
        "id": "E9NkZQaPdtbB"
      },
      "source": [
        "from transformers import AutoModel, AutoTokenizer"
      ],
      "execution_count": 66,
      "outputs": []
    },
    {
      "cell_type": "markdown",
      "metadata": {
        "id": "3WdMPh99_XRc"
      },
      "source": [
        "## loading a model"
      ]
    },
    {
      "cell_type": "code",
      "metadata": {
        "colab": {
          "base_uri": "https://localhost:8080/",
          "height": 218,
          "referenced_widgets": [
            "e8361bbb04f747609e1ee7647799d0a8",
            "ccee33d37eec42528b1f9833f697300b",
            "130b54410f784ae4ab678032c76fb2e6",
            "ddb523f857914b4e8bccf55270ee7fe0",
            "42acbfbd6abe4d62b18aa21fe6fec087",
            "b7ce156d968143a8b818a40a9b63f5ba",
            "408ecd8664584a55b32169e8fd9f64fd",
            "59de0ab9cdf2448dbe7293bbdd59a39b",
            "f9128f9aeeb14de4b79a27416c94f09b",
            "bb0cfd2f1bf043c4bbb472b3461c7d2d",
            "63070dbda4e74ba187df1383b198c3ea",
            "cc77c9d95d4a4f0fac05c9701b4a698c",
            "e32b8c4835454303ad4239b4f68ce0cb",
            "e664b3c8f4e147f9a65c2d4b889fedbc",
            "ca1e877ec1b0493d8239f92b24396810",
            "b773c688ae4e4a5d927e097a81891d46",
            "15ef256e38314210b6c0b49adc6f4404",
            "66c485595f334521b7d076d2046109c5",
            "5c41912d76534b248dea2b61bf8892ee",
            "b3402d3347bc4102af743b43ef6fd496",
            "c4c6572e7e014f41b2a1777a510e3d3b",
            "8fab3025454240308d08291fd2c9a3c8",
            "62b9fe89fe894bd197dc0902d8037ea0",
            "888248b2e4824427a07da10946c784e8",
            "ab256ce34c0346afaaecffd53e296592",
            "796f3d2ce13043a8af3777650453f6cd",
            "489090f26a3d46f99d15535e5f9224aa",
            "f29ade790a494c30ba100177365efa64",
            "34f5db476c904c5db29a13fff255dbf1",
            "2989ddb452d54162bd388f24d2d36d39",
            "3a765cfacf6f468b9c528b79ba6146ec",
            "8ca680c4eb0543c88f3d61617b3dc8e7",
            "ea37919197644e70adba9b75edb4bcdc",
            "6abaf711a7c6452b920e0285ea47ac83",
            "c7629666297a425da833c018721e7800",
            "4ac43700bbb04a60aa9ec30c01d13c17",
            "6fa8d3bae6484f5da71ecfcf6475da33",
            "5a9da0c1ff0e4349ae487f6a8fa87c63",
            "50128eca68704067afb78627e07462db",
            "3872b46dd62a4a40b2a05399be0f6741",
            "1135fdda413d4b3191e5cace49ffa1c4",
            "31c281ffc15b44e39ef98a0bd2d366df",
            "66d149f5238c42cdb16efa197f88fbcf",
            "1d5a30e7f49245b59b3e8d44400ffefc"
          ]
        },
        "id": "_bbNxIhsd_OX",
        "outputId": "89c9f7a6-3982-4a54-8005-94561031ec59"
      },
      "source": [
        "model_name = \"dbmdz/bert-base-german-cased\"\n",
        "tokenizer = AutoTokenizer.from_pretrained(model_name)\n",
        "model = AutoModel.from_pretrained(model_name)\n"
      ],
      "execution_count": 68,
      "outputs": [
        {
          "output_type": "display_data",
          "data": {
            "text/plain": [
              "Downloading:   0%|          | 0.00/59.0 [00:00<?, ?B/s]"
            ],
            "application/vnd.jupyter.widget-view+json": {
              "version_major": 2,
              "version_minor": 0,
              "model_id": "e8361bbb04f747609e1ee7647799d0a8"
            }
          },
          "metadata": {}
        },
        {
          "output_type": "display_data",
          "data": {
            "text/plain": [
              "Downloading:   0%|          | 0.00/456 [00:00<?, ?B/s]"
            ],
            "application/vnd.jupyter.widget-view+json": {
              "version_major": 2,
              "version_minor": 0,
              "model_id": "cc77c9d95d4a4f0fac05c9701b4a698c"
            }
          },
          "metadata": {}
        },
        {
          "output_type": "display_data",
          "data": {
            "text/plain": [
              "Downloading:   0%|          | 0.00/234k [00:00<?, ?B/s]"
            ],
            "application/vnd.jupyter.widget-view+json": {
              "version_major": 2,
              "version_minor": 0,
              "model_id": "62b9fe89fe894bd197dc0902d8037ea0"
            }
          },
          "metadata": {}
        },
        {
          "output_type": "display_data",
          "data": {
            "text/plain": [
              "Downloading:   0%|          | 0.00/422M [00:00<?, ?B/s]"
            ],
            "application/vnd.jupyter.widget-view+json": {
              "version_major": 2,
              "version_minor": 0,
              "model_id": "6abaf711a7c6452b920e0285ea47ac83"
            }
          },
          "metadata": {}
        },
        {
          "output_type": "stream",
          "name": "stderr",
          "text": [
            "Some weights of the model checkpoint at dbmdz/bert-base-german-cased were not used when initializing BertModel: ['cls.predictions.transform.dense.weight', 'cls.predictions.bias', 'cls.predictions.transform.dense.bias', 'cls.predictions.transform.LayerNorm.bias', 'cls.predictions.transform.LayerNorm.weight', 'cls.predictions.decoder.weight']\n",
            "- This IS expected if you are initializing BertModel from the checkpoint of a model trained on another task or with another architecture (e.g. initializing a BertForSequenceClassification model from a BertForPreTraining model).\n",
            "- This IS NOT expected if you are initializing BertModel from the checkpoint of a model that you expect to be exactly identical (initializing a BertForSequenceClassification model from a BertForSequenceClassification model).\n"
          ]
        }
      ]
    },
    {
      "cell_type": "markdown",
      "metadata": {
        "id": "28oCtQjgAtI1"
      },
      "source": [
        "## transforming a text to an vector"
      ]
    },
    {
      "cell_type": "code",
      "metadata": {
        "colab": {
          "base_uri": "https://localhost:8080/"
        },
        "id": "Q097qf1HeVMc",
        "outputId": "4de02ce0-9ab3-4fd1-c6b7-344a112bffee"
      },
      "source": [
        "inputs = tokenizer(\"Hallo Welt!\", return_tensors=\"pt\")\n",
        "inputs\n"
      ],
      "execution_count": 69,
      "outputs": [
        {
          "output_type": "execute_result",
          "data": {
            "text/plain": [
              "{'input_ids': tensor([[  102, 10373, 30892, 24135,  3330,   103]]), 'token_type_ids': tensor([[0, 0, 0, 0, 0, 0]]), 'attention_mask': tensor([[1, 1, 1, 1, 1, 1]])}"
            ]
          },
          "metadata": {},
          "execution_count": 69
        }
      ]
    },
    {
      "cell_type": "code",
      "metadata": {
        "colab": {
          "base_uri": "https://localhost:8080/"
        },
        "id": "YPoj357jp4ui",
        "outputId": "c2ae6b84-df7f-4d83-dce0-b7cbe79854f1"
      },
      "source": [
        "inputs = tokenizer([\"Hallo Welt!\", \"ein toller Test\"], return_tensors=\"pt\", padding=True,truncation=True)\n",
        "inputs"
      ],
      "execution_count": 74,
      "outputs": [
        {
          "output_type": "execute_result",
          "data": {
            "text/plain": [
              "{'input_ids': tensor([[  102,  4485,   866,  3330,   103,     0],\n",
              "        [  102,   143, 13837, 30884,  4369,   103]]), 'token_type_ids': tensor([[0, 0, 0, 0, 0, 0],\n",
              "        [0, 0, 0, 0, 0, 0]]), 'attention_mask': tensor([[1, 1, 1, 1, 1, 0],\n",
              "        [1, 1, 1, 1, 1, 1]])}"
            ]
          },
          "metadata": {},
          "execution_count": 74
        }
      ]
    },
    {
      "cell_type": "code",
      "metadata": {
        "colab": {
          "base_uri": "https://localhost:8080/"
        },
        "id": "6YGX4KrgeiA2",
        "outputId": "45772e94-58ec-430e-b43c-3f1d07e4f8d6"
      },
      "source": [
        "outputs = model(**inputs)\n",
        "outputs "
      ],
      "execution_count": 75,
      "outputs": [
        {
          "output_type": "execute_result",
          "data": {
            "text/plain": [
              "BaseModelOutputWithPoolingAndCrossAttentions([('last_hidden_state',\n",
              "                                               tensor([[[ 0.2415,  0.6428, -0.5918,  ...,  0.7404,  0.1338, -0.2779],\n",
              "                                                        [ 0.2890,  0.7354, -0.9872,  ...,  0.7438, -0.6845, -0.1892],\n",
              "                                                        [ 0.2164,  0.8085, -0.6320,  ...,  0.6260, -0.6735,  0.2411],\n",
              "                                                        [-0.2210,  0.8246, -0.6606,  ...,  0.8001, -0.1529,  0.0831],\n",
              "                                                        [-0.0573,  1.1134, -0.8065,  ...,  0.5099, -0.2104, -0.0108],\n",
              "                                                        [ 0.2753,  1.0079, -0.7109,  ...,  0.3392,  0.1056,  0.1083]],\n",
              "                                               \n",
              "                                                       [[ 0.1849,  0.7584, -0.2930,  ...,  0.7572,  0.9876, -0.3735],\n",
              "                                                        [-0.1126,  0.4629,  0.1694,  ...,  0.6890,  1.0042,  0.1605],\n",
              "                                                        [ 0.2347,  0.6738,  0.0666,  ...,  1.5162,  1.0815, -0.3996],\n",
              "                                                        [ 0.3617,  0.5564, -0.1379,  ...,  1.5741,  0.1379, -0.6182],\n",
              "                                                        [ 0.3491,  1.1313, -0.5140,  ...,  1.0632,  0.8066,  0.0784],\n",
              "                                                        [-0.0343,  0.9834, -0.1314,  ...,  0.2654,  0.5890,  0.3733]]],\n",
              "                                                      grad_fn=<NativeLayerNormBackward0>)),\n",
              "                                              ('pooler_output',\n",
              "                                               tensor([[ 0.1831,  0.9974, -0.3264,  ...,  0.1962, -0.9460,  0.8864],\n",
              "                                                       [-0.1651,  0.9568, -0.3200,  ...,  0.3317, -0.6284,  0.8523]],\n",
              "                                                      grad_fn=<TanhBackward0>))])"
            ]
          },
          "metadata": {},
          "execution_count": 75
        }
      ]
    },
    {
      "cell_type": "markdown",
      "metadata": {
        "id": "6kNALuHlfdLm"
      },
      "source": [
        "**last_hidden_state**: Sequence of hidden-states at the output of the last layer of the model."
      ]
    },
    {
      "cell_type": "code",
      "metadata": {
        "colab": {
          "base_uri": "https://localhost:8080/"
        },
        "id": "Dsd2DWh8eq6V",
        "outputId": "9cf32a95-f23a-4eb4-f9cb-4062c5b0eec2"
      },
      "source": [
        "outputs[\"last_hidden_state\"].shape\n"
      ],
      "execution_count": 76,
      "outputs": [
        {
          "output_type": "execute_result",
          "data": {
            "text/plain": [
              "torch.Size([2, 6, 768])"
            ]
          },
          "metadata": {},
          "execution_count": 76
        }
      ]
    },
    {
      "cell_type": "markdown",
      "metadata": {
        "id": "qe7sCh-JfTgs"
      },
      "source": [
        "**pooler_output**: Last layer hidden-state of the first token of the sequence (classification token) further processed by a Linear layer and a Tanh activation function. The Linear layer weights are trained from the next sentence prediction (classification) objective during pretraining."
      ]
    },
    {
      "cell_type": "code",
      "metadata": {
        "id": "nkkAAAJSet-T",
        "colab": {
          "base_uri": "https://localhost:8080/"
        },
        "outputId": "a6cb027e-48ae-48d9-aad7-0363fd89d6ab"
      },
      "source": [
        "outputs[\"pooler_output\"].shape"
      ],
      "execution_count": 77,
      "outputs": [
        {
          "output_type": "execute_result",
          "data": {
            "text/plain": [
              "torch.Size([2, 768])"
            ]
          },
          "metadata": {},
          "execution_count": 77
        }
      ]
    },
    {
      "cell_type": "markdown",
      "metadata": {
        "id": "ofeVWrZvBJ2G"
      },
      "source": [
        "## loading data \n",
        "\n",
        "We load a data set of news headlines from german newspapers. This data set contains the headlines and the according article urls.\n",
        "After we loaded the data, we need to convert all headlines into vectors."
      ]
    },
    {
      "cell_type": "code",
      "metadata": {
        "colab": {
          "base_uri": "https://localhost:8080/"
        },
        "id": "QgprWrfBLrkZ",
        "outputId": "014ca1de-bc45-4ed6-f278-e8b38d3de305"
      },
      "source": [
        "!curl -O https://www2.htw-dresden.de/~guhr/dist/feeds.tsv \n"
      ],
      "execution_count": 78,
      "outputs": [
        {
          "output_type": "stream",
          "name": "stdout",
          "text": [
            "  % Total    % Received % Xferd  Average Speed   Time    Time     Time  Current\n",
            "                                 Dload  Upload   Total   Spent    Left  Speed\n",
            "100 10.0M  100 10.0M    0     0  4613k      0  0:00:02  0:00:02 --:--:-- 4613k\n"
          ]
        }
      ]
    },
    {
      "cell_type": "code",
      "metadata": {
        "colab": {
          "base_uri": "https://localhost:8080/"
        },
        "id": "L-2ljeZdh-E6",
        "outputId": "089f27ff-b572-46e6-bacf-2978dc6a3bda"
      },
      "source": [
        "!head feeds.tsv"
      ],
      "execution_count": 79,
      "outputs": [
        {
          "output_type": "stream",
          "name": "stdout",
          "text": [
            "id\ttitle\ttext\ttime\tlink\t\t\n",
            "https://www.spiegel.de/politik/deutschland/corona-krise-in-deutschland-wie-kommen-wir-wieder-raus-a-d8099433-e178-46be-957a-f6c779b3f2f5\t'Corona-Krise in Deutschland: Wie kommen wir wieder raus?'\t'Die Bundesregierung will in der kommenden Woche über mögliche Szenarien für den Exit aus dem Lockdown beraten. Schon jetzt warnen Politiker vor einem überhasteten Aussetzen der Maßnahmen. Der Überblick.'\t'Mon, 13 Apr 2020 18:18:00 +0200'\t'https://www.spiegel.de/politik/deutschland/corona-krise-in-deutschland-wie-kommen-wir-wieder-raus-a-d8099433-e178-46be-957a-f6c779b3f2f5#ref=rss\t\t\n",
            "https://www.spiegel.de/wissenschaft/leopoldina-forscher-legen-konkreten-fahrplan-fuer-ende-der-kontaktsperren-vor-a-0cfd0aed-cf48-4dd1-a219-241d818d60ae\t'Leopoldina-Forscher legen konkreten Fahrplan für Ende der Kontaktsperren vor'\t'Die Nationalakademie Leopoldina empfiehlt eine baldige Rückkehr zur Schule. Auch Geschäfte und Behörden sollen schrittweise eröffnen und Reisen erlaubt werden - aber unter Bedingungen, so ein Papier, das dem SPIEGEL vorliegt.'\t'Mon, 13 Apr 2020 12:11:00 +0200'\t'https://www.spiegel.de/wissenschaft/leopoldina-forscher-legen-konkreten-fahrplan-fuer-ende-der-kontaktsperren-vor-a-0cfd0aed-cf48-4dd1-a219-241d818d60ae#ref=rss\t\t\n",
            "https://www.spiegel.de/wissenschaft/philosophie-coronavirus-lockdown-wir-muessen-uebers-sterben-reden-a-9a2617d5-7ff6-455c-967b-b3b0858e7b3f\t'Philosophie Coronavirus-Lockdown: Wir müssen übers Sterben reden'\t\"'\"\"Regulierte Ausbreitung\"\" versus \"\"konsequente Eindämmung\"\" - diese Strategien stehen sich im Kampf gegen Corona gegenüber. Welcher Weg zerstört mehr von dem, was uns wichtig ist im Leben?'\"\t'Mon, 13 Apr 2020 18:05:20 +0200'\t'https://www.spiegel.de/wissenschaft/philosophie-coronavirus-lockdown-wir-muessen-uebers-sterben-reden-a-9a2617d5-7ff6-455c-967b-b3b0858e7b3f#ref=rss\t\t\n",
            "https://www.spiegel.de/politik/ausland/coronavirus-in-indonesien-gefaehrliche-heimreise-a-467488b7-c2d9-4d9e-b83e-091b8da0fbc0\t'Coronavirus in Indonesien: Gefährliche Heimreise'\t'In Indonesien sind bislang mehr Menschen an Covid-19 gestorben als in allen anderen Ländern Asiens - China ausgenommen. Während des Ramadans könnte sich das Virus noch weiter verbreiten.'\t'Mon, 13 Apr 2020 18:37:11 +0200'\t'https://www.spiegel.de/politik/ausland/coronavirus-in-indonesien-gefaehrliche-heimreise-a-467488b7-c2d9-4d9e-b83e-091b8da0fbc0#ref=rss\t\t\n",
            "https://www.spiegel.de/wissenschaft/medizin/coronavirus-news-am-montag-die-wichtigsten-entwicklungen-zu-sars-cov-2-und-covid-19-a-982c966f-3046-455d-b403-1ed1c4befb1e\t'Coronavirus News am Montag: Die wichtigsten Entwicklungen zu Sars-CoV-2 und Covid-19'\t'Im US-Bundesstaat New York ist die Zahl der Coronavirus-Toten weiter stark gestiegen. Gouverneur Andrew Cuomo sieht das Schlimmste jedoch überwunden. Der Überblick.'\t'Mon, 13 Apr 2020 16:58:00 +0200'\t'https://www.spiegel.de/wissenschaft/medizin/coronavirus-news-am-montag-die-wichtigsten-entwicklungen-zu-sars-cov-2-und-covid-19-a-982c966f-3046-455d-b403-1ed1c4befb1e#ref=rss\t\t\n",
            "https://www.spiegel.de/panorama/corona-lockdown-deutsche-sind-immer-mehr-unterwegs-a-c8a6b940-600d-47c5-bf40-2ce4c26b9a7a\t'Corona-Lockdown: Deutsche sind immer mehr unterwegs'\t'Ende März blieben viele Menschen wegen Corona noch brav zu Hause. Doch nun zeigen Handydaten, dass die Bevölkerung von Tag zu Tag mobiler wird - vor allem die ostdeutsche.'\t'Mon, 13 Apr 2020 10:50:06 +0200'\t'https://www.spiegel.de/panorama/corona-lockdown-deutsche-sind-immer-mehr-unterwegs-a-c8a6b940-600d-47c5-bf40-2ce4c26b9a7a#ref=rss\t\t\n",
            "https://www.spiegel.de/wirtschaft/corona-krise-warum-vorhersagen-zu-wirtschaft-und-boerse-kaum-moeglich-sind-a-cfaac091-056f-43fb-af8d-f5de446bc8d1\t'Corona-Krise: Warum Vorhersagen zu Wirtschaft und Börse kaum möglich sind'\t'Die Halbwertzeit von ökonomischen Prognosen ist in der Coronakrise so kurz wie nie. Belastbare Vorhersagen zum Wirtschaftswachstum oder den Börsenkursen sind kaum möglich.'\t'Mon, 13 Apr 2020 16:00:31 +0200'\t'https://www.spiegel.de/wirtschaft/corona-krise-warum-vorhersagen-zu-wirtschaft-und-boerse-kaum-moeglich-sind-a-cfaac091-056f-43fb-af8d-f5de446bc8d1#ref=rss\t\t\n",
            "https://www.spiegel.de/panorama/gesellschaft/corona-alltags-heldin-susanne-rudwill-56-kassiererin-will-nicht-hinter-einer-maske-laecheln-a-721fe6ea-feab-4f3d-a8bc-f3171f9c621b\t'Corona-Alltags-Heldin: Susanne Rudwill, 56, Kassiererin, will nicht hinter einer Maske lächeln'\t'Das öffentliche Leben steht still, doch einige Menschen halten die Gesellschaft am Laufen. Hier kommen sie zu Wort.'\t'Mon, 13 Apr 2020 18:36:33 +0200'\t'https://www.spiegel.de/panorama/gesellschaft/corona-alltags-heldin-susanne-rudwill-56-kassiererin-will-nicht-hinter-einer-maske-laecheln-a-721fe6ea-feab-4f3d-a8bc-f3171f9c621b#ref=rss\t\t\n",
            "https://www.spiegel.de/politik/deutschland/corona-politik-darf-keine-erwartungen-wecken-die-sie-spaeter-enttaeuschen-muss-a-00000000-0002-0001-0000-000170435607\t'Corona: Politik darf keine Erwartungen wecken, die sie später enttäuschen muss'\t'Die Kanzlerin, die Länder haben die schwierige Aufgabe, die Bürger zu schützen: vor dem Virus, aber auch davor, die Nerven zu verlieren.'\t'Fri, 10 Apr 2020 18:00:00 +0200'\t'https://www.spiegel.de/politik/deutschland/corona-politik-darf-keine-erwartungen-wecken-die-sie-spaeter-enttaeuschen-muss-a-00000000-0002-0001-0000-000170435607#ref=rss\t\t\n"
          ]
        }
      ]
    },
    {
      "cell_type": "code",
      "metadata": {
        "id": "6oxfsJZziIcY"
      },
      "source": [
        "import time\n",
        "import pandas as pd\n",
        "import numpy as np\n",
        "\n",
        "feeds_df = pd.read_csv(\"feeds.tsv\", sep='\\t', header=0,encoding=\"utf-8\")\n",
        "feeds_df.drop(columns=['text'], inplace=True)\n",
        "feeds_df.drop(columns=['time'], inplace=True)\n",
        "feeds_df.drop(columns=['id'], inplace=True)\n",
        "feeds_df.drop(columns=['Unnamed: 5'], inplace=True)\n",
        "feeds_df.drop(columns=['Unnamed: 6'], inplace=True)"
      ],
      "execution_count": 80,
      "outputs": []
    },
    {
      "cell_type": "code",
      "metadata": {
        "colab": {
          "base_uri": "https://localhost:8080/",
          "height": 206
        },
        "id": "RX9LXcMQiUFA",
        "outputId": "0353ec8c-de5c-47f2-df8b-1e49aeaeda81"
      },
      "source": [
        "feeds_df.head(5)"
      ],
      "execution_count": 81,
      "outputs": [
        {
          "output_type": "execute_result",
          "data": {
            "text/plain": [
              "                                               title  \\\n",
              "0  'Corona-Krise in Deutschland: Wie kommen wir w...   \n",
              "1  'Leopoldina-Forscher legen konkreten Fahrplan ...   \n",
              "2  'Philosophie Coronavirus-Lockdown: Wir müssen ...   \n",
              "3  'Coronavirus in Indonesien: Gefährliche Heimre...   \n",
              "4  'Coronavirus News am Montag: Die wichtigsten E...   \n",
              "\n",
              "                                                link  \n",
              "0  'https://www.spiegel.de/politik/deutschland/co...  \n",
              "1  'https://www.spiegel.de/wissenschaft/leopoldin...  \n",
              "2  'https://www.spiegel.de/wissenschaft/philosoph...  \n",
              "3  'https://www.spiegel.de/politik/ausland/corona...  \n",
              "4  'https://www.spiegel.de/wissenschaft/medizin/c...  "
            ],
            "text/html": [
              "\n",
              "  <div id=\"df-a9b7810f-26ea-4573-be05-1832e477fab6\">\n",
              "    <div class=\"colab-df-container\">\n",
              "      <div>\n",
              "<style scoped>\n",
              "    .dataframe tbody tr th:only-of-type {\n",
              "        vertical-align: middle;\n",
              "    }\n",
              "\n",
              "    .dataframe tbody tr th {\n",
              "        vertical-align: top;\n",
              "    }\n",
              "\n",
              "    .dataframe thead th {\n",
              "        text-align: right;\n",
              "    }\n",
              "</style>\n",
              "<table border=\"1\" class=\"dataframe\">\n",
              "  <thead>\n",
              "    <tr style=\"text-align: right;\">\n",
              "      <th></th>\n",
              "      <th>title</th>\n",
              "      <th>link</th>\n",
              "    </tr>\n",
              "  </thead>\n",
              "  <tbody>\n",
              "    <tr>\n",
              "      <th>0</th>\n",
              "      <td>'Corona-Krise in Deutschland: Wie kommen wir w...</td>\n",
              "      <td>'https://www.spiegel.de/politik/deutschland/co...</td>\n",
              "    </tr>\n",
              "    <tr>\n",
              "      <th>1</th>\n",
              "      <td>'Leopoldina-Forscher legen konkreten Fahrplan ...</td>\n",
              "      <td>'https://www.spiegel.de/wissenschaft/leopoldin...</td>\n",
              "    </tr>\n",
              "    <tr>\n",
              "      <th>2</th>\n",
              "      <td>'Philosophie Coronavirus-Lockdown: Wir müssen ...</td>\n",
              "      <td>'https://www.spiegel.de/wissenschaft/philosoph...</td>\n",
              "    </tr>\n",
              "    <tr>\n",
              "      <th>3</th>\n",
              "      <td>'Coronavirus in Indonesien: Gefährliche Heimre...</td>\n",
              "      <td>'https://www.spiegel.de/politik/ausland/corona...</td>\n",
              "    </tr>\n",
              "    <tr>\n",
              "      <th>4</th>\n",
              "      <td>'Coronavirus News am Montag: Die wichtigsten E...</td>\n",
              "      <td>'https://www.spiegel.de/wissenschaft/medizin/c...</td>\n",
              "    </tr>\n",
              "  </tbody>\n",
              "</table>\n",
              "</div>\n",
              "      <button class=\"colab-df-convert\" onclick=\"convertToInteractive('df-a9b7810f-26ea-4573-be05-1832e477fab6')\"\n",
              "              title=\"Convert this dataframe to an interactive table.\"\n",
              "              style=\"display:none;\">\n",
              "        \n",
              "  <svg xmlns=\"http://www.w3.org/2000/svg\" height=\"24px\"viewBox=\"0 0 24 24\"\n",
              "       width=\"24px\">\n",
              "    <path d=\"M0 0h24v24H0V0z\" fill=\"none\"/>\n",
              "    <path d=\"M18.56 5.44l.94 2.06.94-2.06 2.06-.94-2.06-.94-.94-2.06-.94 2.06-2.06.94zm-11 1L8.5 8.5l.94-2.06 2.06-.94-2.06-.94L8.5 2.5l-.94 2.06-2.06.94zm10 10l.94 2.06.94-2.06 2.06-.94-2.06-.94-.94-2.06-.94 2.06-2.06.94z\"/><path d=\"M17.41 7.96l-1.37-1.37c-.4-.4-.92-.59-1.43-.59-.52 0-1.04.2-1.43.59L10.3 9.45l-7.72 7.72c-.78.78-.78 2.05 0 2.83L4 21.41c.39.39.9.59 1.41.59.51 0 1.02-.2 1.41-.59l7.78-7.78 2.81-2.81c.8-.78.8-2.07 0-2.86zM5.41 20L4 18.59l7.72-7.72 1.47 1.35L5.41 20z\"/>\n",
              "  </svg>\n",
              "      </button>\n",
              "      \n",
              "  <style>\n",
              "    .colab-df-container {\n",
              "      display:flex;\n",
              "      flex-wrap:wrap;\n",
              "      gap: 12px;\n",
              "    }\n",
              "\n",
              "    .colab-df-convert {\n",
              "      background-color: #E8F0FE;\n",
              "      border: none;\n",
              "      border-radius: 50%;\n",
              "      cursor: pointer;\n",
              "      display: none;\n",
              "      fill: #1967D2;\n",
              "      height: 32px;\n",
              "      padding: 0 0 0 0;\n",
              "      width: 32px;\n",
              "    }\n",
              "\n",
              "    .colab-df-convert:hover {\n",
              "      background-color: #E2EBFA;\n",
              "      box-shadow: 0px 1px 2px rgba(60, 64, 67, 0.3), 0px 1px 3px 1px rgba(60, 64, 67, 0.15);\n",
              "      fill: #174EA6;\n",
              "    }\n",
              "\n",
              "    [theme=dark] .colab-df-convert {\n",
              "      background-color: #3B4455;\n",
              "      fill: #D2E3FC;\n",
              "    }\n",
              "\n",
              "    [theme=dark] .colab-df-convert:hover {\n",
              "      background-color: #434B5C;\n",
              "      box-shadow: 0px 1px 3px 1px rgba(0, 0, 0, 0.15);\n",
              "      filter: drop-shadow(0px 1px 2px rgba(0, 0, 0, 0.3));\n",
              "      fill: #FFFFFF;\n",
              "    }\n",
              "  </style>\n",
              "\n",
              "      <script>\n",
              "        const buttonEl =\n",
              "          document.querySelector('#df-a9b7810f-26ea-4573-be05-1832e477fab6 button.colab-df-convert');\n",
              "        buttonEl.style.display =\n",
              "          google.colab.kernel.accessAllowed ? 'block' : 'none';\n",
              "\n",
              "        async function convertToInteractive(key) {\n",
              "          const element = document.querySelector('#df-a9b7810f-26ea-4573-be05-1832e477fab6');\n",
              "          const dataTable =\n",
              "            await google.colab.kernel.invokeFunction('convertToInteractive',\n",
              "                                                     [key], {});\n",
              "          if (!dataTable) return;\n",
              "\n",
              "          const docLinkHtml = 'Like what you see? Visit the ' +\n",
              "            '<a target=\"_blank\" href=https://colab.research.google.com/notebooks/data_table.ipynb>data table notebook</a>'\n",
              "            + ' to learn more about interactive tables.';\n",
              "          element.innerHTML = '';\n",
              "          dataTable['output_type'] = 'display_data';\n",
              "          await google.colab.output.renderOutput(dataTable, element);\n",
              "          const docLink = document.createElement('div');\n",
              "          docLink.innerHTML = docLinkHtml;\n",
              "          element.appendChild(docLink);\n",
              "        }\n",
              "      </script>\n",
              "    </div>\n",
              "  </div>\n",
              "  "
            ]
          },
          "metadata": {},
          "execution_count": 81
        }
      ]
    },
    {
      "cell_type": "code",
      "metadata": {
        "colab": {
          "base_uri": "https://localhost:8080/",
          "height": 363
        },
        "id": "Yw8MGXU-i_h_",
        "outputId": "4844f0a4-674d-4a66-b236-a14bc066f31d"
      },
      "source": [
        "# We want to remove the qoutes here in order to get better results.\n",
        "\n",
        "def remove_quotes(text):\n",
        "    return text[1:-1]\n",
        "\n",
        "feeds_df[\"title\"]=feeds_df[\"title\"].map(remove_quotes)\n",
        "feeds_df[\"link\"]=feeds_df[\"link\"].map(remove_quotes)\n",
        "feeds_df.head(10)"
      ],
      "execution_count": 82,
      "outputs": [
        {
          "output_type": "execute_result",
          "data": {
            "text/plain": [
              "                                               title  \\\n",
              "0  Corona-Krise in Deutschland: Wie kommen wir wi...   \n",
              "1  Leopoldina-Forscher legen konkreten Fahrplan f...   \n",
              "2  Philosophie Coronavirus-Lockdown: Wir müssen ü...   \n",
              "3   Coronavirus in Indonesien: Gefährliche Heimreise   \n",
              "4  Coronavirus News am Montag: Die wichtigsten En...   \n",
              "5  Corona-Lockdown: Deutsche sind immer mehr unte...   \n",
              "6  Corona-Krise: Warum Vorhersagen zu Wirtschaft ...   \n",
              "7  Corona-Alltags-Heldin: Susanne Rudwill, 56, Ka...   \n",
              "8  Corona: Politik darf keine Erwartungen wecken,...   \n",
              "9  Trigema-Chef Grupp kämpft gegen die Corona-Kri...   \n",
              "\n",
              "                                                link  \n",
              "0  https://www.spiegel.de/politik/deutschland/cor...  \n",
              "1  https://www.spiegel.de/wissenschaft/leopoldina...  \n",
              "2  https://www.spiegel.de/wissenschaft/philosophi...  \n",
              "3  https://www.spiegel.de/politik/ausland/coronav...  \n",
              "4  https://www.spiegel.de/wissenschaft/medizin/co...  \n",
              "5  https://www.spiegel.de/panorama/corona-lockdow...  \n",
              "6  https://www.spiegel.de/wirtschaft/corona-krise...  \n",
              "7  https://www.spiegel.de/panorama/gesellschaft/c...  \n",
              "8  https://www.spiegel.de/politik/deutschland/cor...  \n",
              "9  https://www.spiegel.de/wirtschaft/unternehmen/...  "
            ],
            "text/html": [
              "\n",
              "  <div id=\"df-21156bdc-61a0-4b67-b5ad-1cec269ec81b\">\n",
              "    <div class=\"colab-df-container\">\n",
              "      <div>\n",
              "<style scoped>\n",
              "    .dataframe tbody tr th:only-of-type {\n",
              "        vertical-align: middle;\n",
              "    }\n",
              "\n",
              "    .dataframe tbody tr th {\n",
              "        vertical-align: top;\n",
              "    }\n",
              "\n",
              "    .dataframe thead th {\n",
              "        text-align: right;\n",
              "    }\n",
              "</style>\n",
              "<table border=\"1\" class=\"dataframe\">\n",
              "  <thead>\n",
              "    <tr style=\"text-align: right;\">\n",
              "      <th></th>\n",
              "      <th>title</th>\n",
              "      <th>link</th>\n",
              "    </tr>\n",
              "  </thead>\n",
              "  <tbody>\n",
              "    <tr>\n",
              "      <th>0</th>\n",
              "      <td>Corona-Krise in Deutschland: Wie kommen wir wi...</td>\n",
              "      <td>https://www.spiegel.de/politik/deutschland/cor...</td>\n",
              "    </tr>\n",
              "    <tr>\n",
              "      <th>1</th>\n",
              "      <td>Leopoldina-Forscher legen konkreten Fahrplan f...</td>\n",
              "      <td>https://www.spiegel.de/wissenschaft/leopoldina...</td>\n",
              "    </tr>\n",
              "    <tr>\n",
              "      <th>2</th>\n",
              "      <td>Philosophie Coronavirus-Lockdown: Wir müssen ü...</td>\n",
              "      <td>https://www.spiegel.de/wissenschaft/philosophi...</td>\n",
              "    </tr>\n",
              "    <tr>\n",
              "      <th>3</th>\n",
              "      <td>Coronavirus in Indonesien: Gefährliche Heimreise</td>\n",
              "      <td>https://www.spiegel.de/politik/ausland/coronav...</td>\n",
              "    </tr>\n",
              "    <tr>\n",
              "      <th>4</th>\n",
              "      <td>Coronavirus News am Montag: Die wichtigsten En...</td>\n",
              "      <td>https://www.spiegel.de/wissenschaft/medizin/co...</td>\n",
              "    </tr>\n",
              "    <tr>\n",
              "      <th>5</th>\n",
              "      <td>Corona-Lockdown: Deutsche sind immer mehr unte...</td>\n",
              "      <td>https://www.spiegel.de/panorama/corona-lockdow...</td>\n",
              "    </tr>\n",
              "    <tr>\n",
              "      <th>6</th>\n",
              "      <td>Corona-Krise: Warum Vorhersagen zu Wirtschaft ...</td>\n",
              "      <td>https://www.spiegel.de/wirtschaft/corona-krise...</td>\n",
              "    </tr>\n",
              "    <tr>\n",
              "      <th>7</th>\n",
              "      <td>Corona-Alltags-Heldin: Susanne Rudwill, 56, Ka...</td>\n",
              "      <td>https://www.spiegel.de/panorama/gesellschaft/c...</td>\n",
              "    </tr>\n",
              "    <tr>\n",
              "      <th>8</th>\n",
              "      <td>Corona: Politik darf keine Erwartungen wecken,...</td>\n",
              "      <td>https://www.spiegel.de/politik/deutschland/cor...</td>\n",
              "    </tr>\n",
              "    <tr>\n",
              "      <th>9</th>\n",
              "      <td>Trigema-Chef Grupp kämpft gegen die Corona-Kri...</td>\n",
              "      <td>https://www.spiegel.de/wirtschaft/unternehmen/...</td>\n",
              "    </tr>\n",
              "  </tbody>\n",
              "</table>\n",
              "</div>\n",
              "      <button class=\"colab-df-convert\" onclick=\"convertToInteractive('df-21156bdc-61a0-4b67-b5ad-1cec269ec81b')\"\n",
              "              title=\"Convert this dataframe to an interactive table.\"\n",
              "              style=\"display:none;\">\n",
              "        \n",
              "  <svg xmlns=\"http://www.w3.org/2000/svg\" height=\"24px\"viewBox=\"0 0 24 24\"\n",
              "       width=\"24px\">\n",
              "    <path d=\"M0 0h24v24H0V0z\" fill=\"none\"/>\n",
              "    <path d=\"M18.56 5.44l.94 2.06.94-2.06 2.06-.94-2.06-.94-.94-2.06-.94 2.06-2.06.94zm-11 1L8.5 8.5l.94-2.06 2.06-.94-2.06-.94L8.5 2.5l-.94 2.06-2.06.94zm10 10l.94 2.06.94-2.06 2.06-.94-2.06-.94-.94-2.06-.94 2.06-2.06.94z\"/><path d=\"M17.41 7.96l-1.37-1.37c-.4-.4-.92-.59-1.43-.59-.52 0-1.04.2-1.43.59L10.3 9.45l-7.72 7.72c-.78.78-.78 2.05 0 2.83L4 21.41c.39.39.9.59 1.41.59.51 0 1.02-.2 1.41-.59l7.78-7.78 2.81-2.81c.8-.78.8-2.07 0-2.86zM5.41 20L4 18.59l7.72-7.72 1.47 1.35L5.41 20z\"/>\n",
              "  </svg>\n",
              "      </button>\n",
              "      \n",
              "  <style>\n",
              "    .colab-df-container {\n",
              "      display:flex;\n",
              "      flex-wrap:wrap;\n",
              "      gap: 12px;\n",
              "    }\n",
              "\n",
              "    .colab-df-convert {\n",
              "      background-color: #E8F0FE;\n",
              "      border: none;\n",
              "      border-radius: 50%;\n",
              "      cursor: pointer;\n",
              "      display: none;\n",
              "      fill: #1967D2;\n",
              "      height: 32px;\n",
              "      padding: 0 0 0 0;\n",
              "      width: 32px;\n",
              "    }\n",
              "\n",
              "    .colab-df-convert:hover {\n",
              "      background-color: #E2EBFA;\n",
              "      box-shadow: 0px 1px 2px rgba(60, 64, 67, 0.3), 0px 1px 3px 1px rgba(60, 64, 67, 0.15);\n",
              "      fill: #174EA6;\n",
              "    }\n",
              "\n",
              "    [theme=dark] .colab-df-convert {\n",
              "      background-color: #3B4455;\n",
              "      fill: #D2E3FC;\n",
              "    }\n",
              "\n",
              "    [theme=dark] .colab-df-convert:hover {\n",
              "      background-color: #434B5C;\n",
              "      box-shadow: 0px 1px 3px 1px rgba(0, 0, 0, 0.15);\n",
              "      filter: drop-shadow(0px 1px 2px rgba(0, 0, 0, 0.3));\n",
              "      fill: #FFFFFF;\n",
              "    }\n",
              "  </style>\n",
              "\n",
              "      <script>\n",
              "        const buttonEl =\n",
              "          document.querySelector('#df-21156bdc-61a0-4b67-b5ad-1cec269ec81b button.colab-df-convert');\n",
              "        buttonEl.style.display =\n",
              "          google.colab.kernel.accessAllowed ? 'block' : 'none';\n",
              "\n",
              "        async function convertToInteractive(key) {\n",
              "          const element = document.querySelector('#df-21156bdc-61a0-4b67-b5ad-1cec269ec81b');\n",
              "          const dataTable =\n",
              "            await google.colab.kernel.invokeFunction('convertToInteractive',\n",
              "                                                     [key], {});\n",
              "          if (!dataTable) return;\n",
              "\n",
              "          const docLinkHtml = 'Like what you see? Visit the ' +\n",
              "            '<a target=\"_blank\" href=https://colab.research.google.com/notebooks/data_table.ipynb>data table notebook</a>'\n",
              "            + ' to learn more about interactive tables.';\n",
              "          element.innerHTML = '';\n",
              "          dataTable['output_type'] = 'display_data';\n",
              "          await google.colab.output.renderOutput(dataTable, element);\n",
              "          const docLink = document.createElement('div');\n",
              "          docLink.innerHTML = docLinkHtml;\n",
              "          element.appendChild(docLink);\n",
              "        }\n",
              "      </script>\n",
              "    </div>\n",
              "  </div>\n",
              "  "
            ]
          },
          "metadata": {},
          "execution_count": 82
        }
      ]
    },
    {
      "cell_type": "code",
      "metadata": {
        "colab": {
          "base_uri": "https://localhost:8080/"
        },
        "id": "s-MJZ01VjdCq",
        "outputId": "5f4a0c6e-fb3f-4995-db99-b3cdd08f24d0"
      },
      "source": [
        "# Number of entries in our data set\n",
        "len(feeds_df)"
      ],
      "execution_count": 83,
      "outputs": [
        {
          "output_type": "execute_result",
          "data": {
            "text/plain": [
              "21257"
            ]
          },
          "metadata": {},
          "execution_count": 83
        }
      ]
    },
    {
      "cell_type": "markdown",
      "metadata": {
        "id": "jXaIkRzjCkz3"
      },
      "source": [
        "## Processing the data"
      ]
    },
    {
      "cell_type": "code",
      "metadata": {
        "id": "rLMbe1CIjvLO"
      },
      "source": [
        "# since 21257 entries would take a lot of time to process, we just load\n",
        "# the first 3000 articles here. But you are welcome to experiment with this \n",
        "# parameter. \n",
        "\n",
        "titles = list(feeds_df[\"title\"][:3000])\n",
        "links = list(feeds_df[\"link\"][:3000])"
      ],
      "execution_count": null,
      "outputs": []
    },
    {
      "cell_type": "code",
      "metadata": {
        "id": "HSX8L2meCut5"
      },
      "source": [
        "import torch\n",
        "model.to(\"cuda\")\n",
        "tokens = tokenizer(titles, return_tensors=\"pt\",truncation=True,padding=True)\n",
        "tokens.to(\"cuda\")\n",
        "with torch.no_grad():\n",
        "    headline_vectors = model(**tokens)[\"pooler_output\"]  "
      ],
      "execution_count": 84,
      "outputs": []
    },
    {
      "cell_type": "code",
      "metadata": {
        "colab": {
          "base_uri": "https://localhost:8080/"
        },
        "id": "m5nB8MTnDE-I",
        "outputId": "3100c70b-eda7-4b87-9c2b-9ddad72777ce"
      },
      "source": [
        "headline_vectors.shape"
      ],
      "execution_count": 85,
      "outputs": [
        {
          "output_type": "execute_result",
          "data": {
            "text/plain": [
              "torch.Size([3000, 768])"
            ]
          },
          "metadata": {},
          "execution_count": 85
        }
      ]
    },
    {
      "cell_type": "code",
      "metadata": {
        "id": "0c0TROpkMJzP",
        "colab": {
          "base_uri": "https://localhost:8080/"
        },
        "outputId": "ad67127b-b287-4428-daa5-90255a6758e5"
      },
      "source": [
        "tokens = tokenizer(\"Auswirkungen der Corona Pandmie\", return_tensors=\"pt\",truncation=True, padding=True)\n",
        "tokens.to(\"cuda\")\n",
        "with torch.no_grad():\n",
        "  query_vector = model(**tokens)[\"pooler_output\"]\n",
        "query_vector.shape"
      ],
      "execution_count": 98,
      "outputs": [
        {
          "output_type": "execute_result",
          "data": {
            "text/plain": [
              "torch.Size([1, 768])"
            ]
          },
          "metadata": {},
          "execution_count": 98
        }
      ]
    },
    {
      "cell_type": "code",
      "metadata": {
        "colab": {
          "base_uri": "https://localhost:8080/"
        },
        "id": "bGn_co3AM4kZ",
        "outputId": "423ae222-5e79-4d5b-9958-df556a6c7d32"
      },
      "source": [
        "# calculate the dot product\n",
        "result = torch.sum(query_vector * headline_vectors,axis=1) \n",
        "result.shape"
      ],
      "execution_count": 100,
      "outputs": [
        {
          "output_type": "execute_result",
          "data": {
            "text/plain": [
              "torch.Size([3000])"
            ]
          },
          "metadata": {},
          "execution_count": 100
        }
      ]
    },
    {
      "cell_type": "code",
      "metadata": {
        "colab": {
          "base_uri": "https://localhost:8080/"
        },
        "id": "cLMmM9A-EIcM",
        "outputId": "29691c74-f08e-4e38-94b5-9e24c01f9c4c"
      },
      "source": [
        "result"
      ],
      "execution_count": 101,
      "outputs": [
        {
          "output_type": "execute_result",
          "data": {
            "text/plain": [
              "tensor([199.0725, 189.0664, 184.6973,  ..., 191.6362, 163.9664, 201.1741],\n",
              "       device='cuda:0')"
            ]
          },
          "metadata": {},
          "execution_count": 101
        }
      ]
    },
    {
      "cell_type": "markdown",
      "metadata": {
        "id": "ejzb2ld3ENo6"
      },
      "source": [
        "## Ranking the results"
      ]
    },
    {
      "cell_type": "code",
      "metadata": {
        "colab": {
          "base_uri": "https://localhost:8080/"
        },
        "id": "aSmVaBXVN_RD",
        "outputId": "987750ad-5044-4444-8640-492a361423ae"
      },
      "source": [
        "topk = 20\n",
        "values, indices = torch.topk(result, topk,largest=True)\n",
        "print(values,indices)"
      ],
      "execution_count": 106,
      "outputs": [
        {
          "output_type": "stream",
          "name": "stdout",
          "text": [
            "tensor([210.6873, 209.8775, 209.4633, 209.4478, 209.4223, 209.3386, 209.1796,\n",
            "        209.1045, 209.0961, 209.0785, 209.0172, 208.9439, 208.9334, 208.8723,\n",
            "        208.8566, 208.8131, 208.5761, 208.5325, 208.4820, 208.4820],\n",
            "       device='cuda:0') tensor([1043, 2657,  101, 1997, 1162, 1494, 1603, 2802, 2402, 1538, 2761, 1146,\n",
            "        1971, 2386, 1502, 2905, 2046, 2514, 1416, 1409], device='cuda:0')\n"
          ]
        }
      ]
    },
    {
      "cell_type": "code",
      "metadata": {
        "colab": {
          "base_uri": "https://localhost:8080/"
        },
        "id": "4JeVfM7BNYtb",
        "outputId": "5952a440-ae5c-4d43-9eda-578a8952a281"
      },
      "source": [
        "for i in range(0,topk):\n",
        "  index = indices[i].item()\n",
        "  value = int(values[i].item())\n",
        "  print(value,titles[index],links[index])\n"
      ],
      "execution_count": 107,
      "outputs": [
        {
          "output_type": "stream",
          "name": "stdout",
          "text": [
            "210 Corona-Beschlüsse: Erste Schritte aus dem Lockdown https://www.spiegel.de/politik/deutschland/corona-beschluesse-erste-schritte-aus-dem-lockdown-a-affb6f1d-7f4a-452e-8087-ff6ea23b69a8#ref=rs\n",
            "209 Corona-Sicherheitsmaßnahmen: Die große Stunde der Egoisten https://www.faz.net/aktuell/feuilleton/debatten/weshalb-so-wenige-menschen-im-alltag-masken-tragen-16733712.htm\n",
            "209 Coronavirus: Mit Vorsicht zurück in den Alltag https://www.sueddeutsche.de/politik/leopoldina-coronavirus-walter-borjans-1.487550\n",
            "209 CDU in der Corona-Krise: Plötzlich populär https://www.spiegel.de/politik/deutschland/cdu-in-der-corona-krise-ploetzlich-populaer-a-b48d2cc8-32db-44b2-b58e-e3ef8e7358b8#ref=rs\n",
            "209 Corona-Schäden: Versicherer rufen nach staatlicher Hilfe https://www.handelsblatt.com/finanzen/immobilien/corona-schaeden-versicherer-rufen-nach-staatlicher-hilfe/25746022.htm\n",
            "209 IT-Sicherheit: Der größte Risikofaktor sitzt vor dem Rechner https://www.sueddeutsche.de/digital/it-sicherheit-schulungen-corona-1.487601\n",
            "209 Corona-Krise: Wie die Finanzämter Unternehmen retten wollen https://www.spiegel.de/wirtschaft/corona-krise-wie-die-finanzaemter-unternehmen-retten-wollen-a-00000000-0002-0001-0000-000170518580#ref=rs\n",
            "209 Intensivstationen: Diese Angst in den Augen https://www.zeit.de/hamburg/2020-04/intensivstationen-anaesthesisten-arbeitsbedingungen-aerzte-krankenhaus-coronaviru\n",
            "209 Coronakrise: Wie hoch ist der Preis des Lebens? https://www.zeit.de/wirtschaft/2020-04/coronakrise-kosten-wirtschaft-ethi\n",
            "209 Corona-Krise: Schwedens Sonderweg https://www.spiegel.de/politik/ausland/corona-krise-schwedens-sonderweg-a-19da0d16-c2ce-44ed-93f9-4be81b383c18#ref=rs\n",
            "209 Berater von Mesut Özil kritisiert Klubs beim Thema Gehaltsverzicht https://www.faz.net/aktuell/sport/fussball/corona-mesut-oezil-berater-kritisiert-klubs-bei-gehaltsverzicht-16735504.htm\n",
            "208 Popmusik auf 400 Jahre alten Instrumenten: Es groovt https://www.spiegel.de/kultur/musik/popmusik-auf-400-jahre-alten-instrumenten-es-groovt-a-1c1b9297-e188-4b1e-9a6e-d36890a3ecf7#ref=rs\n",
            "208 Maskenpflicht: Die Milliarden-Frage https://www.sueddeutsche.de/politik/coronavirus-maskenpflicht-bundeslaender-1.488156\n",
            "208 Bis zu 20 Prozent: Fachleute erwarten höhere EEG-Kosten https://www.faz.net/aktuell/wirtschaft/klima-energie-und-umwelt/bis-zu-20-prozent-fachleute-erwarten-hoehere-eeg-kosten-16733661.htm\n",
            "208 Gastkommentar: Der große amerikanische Selbstbetrug https://www.handelsblatt.com/meinung/gastbeitraege/gastkommentar-der-grosse-amerikanische-selbstbetrug/25748480.htm\n",
            "208 Kommentar zur Absage des Oktoberfests: Ein Weckruf https://www.faz.net/aktuell/politik/inland/oktoberfest-abgesagt-menetekel-oder-weckruf-16735592.htm\n",
            "208 Schlafmangel: Die übermüdete Gesellschaft https://www.sueddeutsche.de/gesundheit/schlafen-schlafmangel-folgen-1.487670\n",
            "208 Pflegekräfte: Sie sollen schweigen https://www.zeit.de/arbeit/2020-04/pflegekraefte-corona-krise-einschuechterungen-drohunge\n",
            "208 Spahn: \"Erste Corona-Welle gut bewältigt\" https://www.spiegel.de/wissenschaft/medizin/spahn-erste-corona-welle-gut-bewaeltigt-a-98e2640e-eb0b-4909-9699-d450fb15be3c#ref=rs\n",
            "208 Spahn: \"Erste Corona-Welle gut bewältigt\" https://www.spiegel.de/wissenschaft/mensch/spahn-erste-corona-welle-gut-bewaeltigt-a-98e2640e-eb0b-4909-9699-d450fb15be3c#ref=rs\n"
          ]
        }
      ]
    },
    {
      "cell_type": "markdown",
      "metadata": {
        "id": "3CVJb7KDE4lj"
      },
      "source": [
        "## Let's take a look at the vector space\n",
        "Download the two files and upload them into [Tensorflow Projector](https://projector.tensorflow.org/)."
      ]
    },
    {
      "cell_type": "code",
      "metadata": {
        "id": "WXFl-ZhrXPyD"
      },
      "source": [
        "# export to tf projector\n",
        "x_np = headline_vectors.cpu().numpy()\n",
        "x_df = pd.DataFrame(x_np)\n",
        "x_df.to_csv('vectors.tsv',sep=\"\\t\",index=False, header=None,encoding=\"utf-8\")\n",
        "\n",
        "with open('titles.tsv', 'w') as writer:\n",
        "  for title in titles:\n",
        "    writer.write(title[:150]+\"...\\n\")\n"
      ],
      "execution_count": 108,
      "outputs": []
    },
    {
      "cell_type": "markdown",
      "metadata": {
        "id": "gPbfr3P2FKdH"
      },
      "source": [
        "# Your tasks\n",
        "\n",
        "Try to improve the search results. Here are some ideas:\n",
        "\n",
        "* try out sentence transformers like this one: [Language-agnostic BERT Sentence Embedding](https://arxiv.org/abs/2007.01852)\n",
        "* try to adapt the sample code from [sentence transformers project.](https://huggingface.co/sentence-transformers/paraphrase-multilingual-MiniLM-L12-v2)\n",
        "\n",
        "Check your results with the embedding projector and compare them. What do you see?\n",
        "\n",
        "\n",
        "Bonus:\n",
        "\n",
        "* try a clustering like k-nearest neighbors to group news artikels\n"
      ]
    },
    {
      "cell_type": "code",
      "source": [
        ""
      ],
      "metadata": {
        "id": "dr8RLHxKl2BY"
      },
      "execution_count": null,
      "outputs": []
    }
  ]
}