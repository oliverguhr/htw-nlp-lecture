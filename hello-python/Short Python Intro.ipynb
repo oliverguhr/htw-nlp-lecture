{
 "cells": [
  {
   "cell_type": "code",
   "execution_count": 1,
   "metadata": {},
   "outputs": [
    {
     "name": "stdout",
     "output_type": "stream",
     "text": [
      "hello world\n"
     ]
    }
   ],
   "source": [
    "print(\"hello world\")"
   ]
  },
  {
   "cell_type": "code",
   "execution_count": 2,
   "metadata": {},
   "outputs": [
    {
     "name": "stdout",
     "output_type": "stream",
     "text": [
      "10\n"
     ]
    }
   ],
   "source": [
    "a = 10\n",
    "print(a)"
   ]
  },
  {
   "cell_type": "code",
   "execution_count": 3,
   "metadata": {},
   "outputs": [
    {
     "data": {
      "text/plain": [
       "100"
      ]
     },
     "execution_count": 3,
     "metadata": {},
     "output_type": "execute_result"
    }
   ],
   "source": [
    "b = 10 * a\n",
    "# jupyter will automatically print the last value in the block\n",
    "# and by the way: this is how a comment looks. \n",
    "b"
   ]
  },
  {
   "cell_type": "code",
   "execution_count": 4,
   "metadata": {},
   "outputs": [
    {
     "name": "stdout",
     "output_type": "stream",
     "text": [
      "b is greater than 50\n"
     ]
    }
   ],
   "source": [
    "if b > 50:\n",
    "    print(\"b is greater than 50\") "
   ]
  },
  {
   "cell_type": "markdown",
   "metadata": {},
   "source": [
    "Python can handle numbers of arbitrary length :)\n",
    "\n",
    "What's actually $2^{2048}$?"
   ]
  },
  {
   "cell_type": "code",
   "execution_count": 5,
   "metadata": {
    "scrolled": true
   },
   "outputs": [
    {
     "data": {
      "text/plain": [
       "32317006071311007300714876688669951960444102669715484032130345427524655138867890893197201411522913463688717960921898019494119559150490921095088152386448283120630877367300996091750197750389652106796057638384067568276792218642619756161838094338476170470581645852036305042887575891541065808607552399123930385521914333389668342420684974786564569494856176035326322058077805659331026192708460314150258592864177116725943603718461857357598351152301645904403697613233287231227125684710820209725157101726931323469678542580656697935045997268352998638215525166389437335543602135433229604645318478604952148193555853611059596230656"
      ]
     },
     "execution_count": 5,
     "metadata": {},
     "output_type": "execute_result"
    }
   ],
   "source": [
    "2**2048"
   ]
  },
  {
   "cell_type": "markdown",
   "metadata": {},
   "source": [
    "## define a function"
   ]
  },
  {
   "cell_type": "code",
   "execution_count": 6,
   "metadata": {},
   "outputs": [
    {
     "name": "stdout",
     "output_type": "stream",
     "text": [
      "square(10) is 100\n",
      "qubic(10) is 1000\n"
     ]
    }
   ],
   "source": [
    "def square(x):\n",
    "    return x * x\n",
    "\n",
    "print(f\"square(10) is {square(10)}\")\n",
    "\n",
    "# or as lambda statement \n",
    "\n",
    "qubic = lambda x: x * x * x\n",
    "print(f\"qubic(10) is {qubic(10)}\")\n"
   ]
  },
  {
   "cell_type": "markdown",
   "metadata": {},
   "source": [
    "## loops and formated strings"
   ]
  },
  {
   "cell_type": "code",
   "execution_count": 7,
   "metadata": {},
   "outputs": [
    {
     "name": "stdout",
     "output_type": "stream",
     "text": [
      "square(1) = 1\n",
      "square(2) = 4\n",
      "square(3) = 9\n",
      "square(4) = 16\n",
      "square(5) = 25\n",
      "square(6) = 36\n",
      "square(7) = 49\n",
      "square(8) = 64\n",
      "square(9) = 81\n"
     ]
    }
   ],
   "source": [
    "for i in range(1,10):\n",
    "    print(f\"square({i}) = {square(i)}\")"
   ]
  },
  {
   "cell_type": "markdown",
   "metadata": {},
   "source": [
    "## Which numbers appear in both a and b?"
   ]
  },
  {
   "cell_type": "code",
   "execution_count": 8,
   "metadata": {},
   "outputs": [],
   "source": [
    "a = [1,2,3,4,5]\n",
    "b = [4,5,6,7,8]"
   ]
  },
  {
   "cell_type": "code",
   "execution_count": 9,
   "metadata": {},
   "outputs": [
    {
     "data": {
      "text/plain": [
       "[4, 5]"
      ]
     },
     "execution_count": 9,
     "metadata": {},
     "output_type": "execute_result"
    }
   ],
   "source": [
    "result = []\n",
    "for number in a:\n",
    "    if number in b:\n",
    "        result.append(number)\n",
    "        \n",
    "result"
   ]
  },
  {
   "cell_type": "markdown",
   "metadata": {},
   "source": [
    "## and more a more compact version with list comprehensions"
   ]
  },
  {
   "cell_type": "code",
   "execution_count": 10,
   "metadata": {},
   "outputs": [
    {
     "data": {
      "text/plain": [
       "[4, 5]"
      ]
     },
     "execution_count": 10,
     "metadata": {},
     "output_type": "execute_result"
    }
   ],
   "source": [
    "[number for number in a if number in b]"
   ]
  },
  {
   "cell_type": "markdown",
   "metadata": {
    "scrolled": true
   },
   "source": [
    "how does this work?"
   ]
  },
  {
   "cell_type": "code",
   "execution_count": 11,
   "metadata": {},
   "outputs": [
    {
     "data": {
      "text/plain": [
       "[1, 2, 3, 4, 5, 6, 7, 8, 9]"
      ]
     },
     "execution_count": 11,
     "metadata": {},
     "output_type": "execute_result"
    }
   ],
   "source": [
    "[i for i in range(1,10)]"
   ]
  },
  {
   "cell_type": "code",
   "execution_count": null,
   "metadata": {},
   "outputs": [],
   "source": []
  },
  {
   "cell_type": "code",
   "execution_count": 12,
   "metadata": {},
   "outputs": [
    {
     "data": {
      "text/plain": [
       "[1, 4, 9, 16, 25, 36, 49, 64, 81]"
      ]
     },
     "execution_count": 12,
     "metadata": {},
     "output_type": "execute_result"
    }
   ],
   "source": [
    "[square(i) for i in range(1,10)]"
   ]
  },
  {
   "cell_type": "code",
   "execution_count": null,
   "metadata": {},
   "outputs": [],
   "source": []
  },
  {
   "cell_type": "code",
   "execution_count": 13,
   "metadata": {},
   "outputs": [
    {
     "data": {
      "text/plain": [
       "[1, 4, 9, 16, 25, 36, 49, 64, 81]"
      ]
     },
     "execution_count": 13,
     "metadata": {},
     "output_type": "execute_result"
    }
   ],
   "source": [
    "# this will produce the same output\n",
    "\n",
    "list(map(square,range(1,10)))\n",
    "\n",
    "# map applies the function (square) to every element of a sequence (numbers 1 to 10)"
   ]
  },
  {
   "cell_type": "code",
   "execution_count": null,
   "metadata": {},
   "outputs": [],
   "source": []
  },
  {
   "cell_type": "markdown",
   "metadata": {},
   "source": [
    "and this works for strings too"
   ]
  },
  {
   "cell_type": "code",
   "execution_count": 14,
   "metadata": {},
   "outputs": [
    {
     "data": {
      "text/plain": [
       "['h', 'e', 'l', 'l', 'o', ' ', 'w', 'o', 'r', 'l', 'd']"
      ]
     },
     "execution_count": 14,
     "metadata": {},
     "output_type": "execute_result"
    }
   ],
   "source": [
    "[char for char in \"hello world\"]"
   ]
  },
  {
   "cell_type": "markdown",
   "metadata": {},
   "source": [
    "## let's plot something\n",
    "\n",
    "To plot a graph, we need to import matplotlib\n"
   ]
  },
  {
   "cell_type": "code",
   "execution_count": 25,
   "metadata": {},
   "outputs": [],
   "source": [
    "%matplotlib inline\n",
    "import matplotlib.pyplot as plt\n",
    "plt.rcParams[\"figure.figsize\"] = (12, 9)"
   ]
  },
  {
   "cell_type": "code",
   "execution_count": 102,
   "metadata": {},
   "outputs": [
    {
     "data": {
      "image/png": "[encoded data removed]",
      "text/plain": [
       "<Figure size 864x648 with 1 Axes>"
      ]
     },
     "metadata": {
      "needs_background": "light"
     },
     "output_type": "display_data"
    }
   ],
   "source": [
    "data = [square(i) for i in range(1,100)]\n",
    "\n",
    "l = plt.plot(data, 'ro')\n",
    "plt.show()"
   ]
  },
  {
   "cell_type": "code",
   "execution_count": 27,
   "metadata": {},
   "outputs": [
    {
     "data": {
      "image/png": "[encoded data removed]",
      "text/plain": [
       "<Figure size 864x648 with 1 Axes>"
      ]
     },
     "metadata": {
      "needs_background": "light"
     },
     "output_type": "display_data"
    }
   ],
   "source": [
    "cat = [\"bored\", \"happy\", \"bored\", \"bored\", \"happy\", \"bored\"]\n",
    "dog = [\"happy\", \"happy\", \"happy\", \"happy\", \"bored\", \"bored\"]\n",
    "activity = [\"combing\", \"drinking\", \"feeding\", \"napping\", \"playing\", \"washing\"]\n",
    "\n",
    "fig, ax = plt.subplots()\n",
    "ax.plot(activity, dog, label=\"dog\")\n",
    "ax.plot(activity, cat, label=\"cat\")\n",
    "ax.legend()\n",
    "\n",
    "plt.show()"
   ]
  },
  {
   "cell_type": "markdown",
   "metadata": {},
   "source": [
    "# Classes and Objects\n",
    "\n",
    "Python supports object-oriented programming. Packing your code into classes will help you to keep your code organized, maintainable and it also improves the reusability. You can read about classes in the [Python Docs](https://docs.python.org/3/tutorial/classes.html).\n",
    "\n",
    "Ok, let's define a simple example class for a data loader. Since all deep learning models need data, data loader are very common and you'll find them in various forms. "
   ]
  },
  {
   "cell_type": "code",
   "execution_count": 103,
   "metadata": {},
   "outputs": [
    {
     "name": "stdout",
     "output_type": "stream",
     "text": [
      "Todo: load data from http://somewehere-over-the-rainbow.com\n"
     ]
    }
   ],
   "source": [
    "class SensorData:\n",
    "    \"\"\"A simple class that manages sensor data\"\"\"\n",
    "    \n",
    "    def __init__(self, url):\n",
    "        # this is how a constructor in python looks\n",
    "        self.data_url = url # data url will be a member or class variable\n",
    "        \n",
    "    def load_data(self):\n",
    "        print(f\"Todo: load data from {self.data_url}\")        \n",
    "\n",
    "# lets create a instance for our new class\n",
    "someSensorData = SensorData(\"http://somewehere-over-the-rainbow.com\")\n",
    "someSensorData.load_data()"
   ]
  },
  {
   "cell_type": "markdown",
   "metadata": {},
   "source": [
    "If you are familiar with object-oriented programming this should look familiar to you. \n",
    "\n",
    "## Ok, let's add the code to load some data\n",
    "\n",
    "Now we will extend the class to download some sensor data. The file is CSV formatted and contains a list of temperature, humidity and time values. This is how one line with one data point looks like:\n",
    "\n",
    "```2018-10-03T11:28:35.325Z;23.0;17.0```\n"
   ]
  },
  {
   "cell_type": "code",
   "execution_count": 106,
   "metadata": {},
   "outputs": [
    {
     "name": "stdout",
     "output_type": "stream",
     "text": [
      "92547 lines loaded\n"
     ]
    }
   ],
   "source": [
    "import csv\n",
    "import urllib\n",
    "\n",
    "class SensorData:\n",
    "    \"\"\"A simple class that loads sensor data\"\"\"\n",
    "    \n",
    "    def __init__(self, url):\n",
    "        # this is how a constructor in python looks\n",
    "        self.data_url = url # dataUrl will be a member or class variable\n",
    "        \n",
    "    def load_data(self):\n",
    "        response = urllib.request.urlopen(self.data_url) # create a http request\n",
    "        csv_lines = response.read().decode('utf-8').splitlines() # read utf-8 text\n",
    "        reader = csv.reader(csv_lines, delimiter=';') # read csv\n",
    "        self.data = [row for row in reader] # convert csv to array\n",
    "        print(f\"{reader.line_num} lines loaded\")\n",
    "\n",
    "# lets create a instance for our new class\n",
    "temp_hum_data = SensorData(\"https://www2.htw-dresden.de/~guhr/dist/sensor-data.csv\")\n",
    "temp_hum_data.load_data()"
   ]
  },
  {
   "cell_type": "markdown",
   "metadata": {},
   "source": [
    "We added some code to load the data via http from a webserver. To download the data we imported `urllib.request`, this package handels the http communication for us. Since our data is stored in a csv file, we imported the `csv` package to read the data.\n",
    "\n",
    "## Plot the data\n",
    "\n",
    "Now that we downloaded the data we can plot it. The data property of our class contains a list with our \n",
    "**time** - **temperature** - **humidity** values. And the first entry looks like this:"
   ]
  },
  {
   "cell_type": "code",
   "execution_count": 107,
   "metadata": {},
   "outputs": [
    {
     "data": {
      "text/plain": [
       "['2017-10-25T10:23:33.556Z', '24.0', '38.0']"
      ]
     },
     "execution_count": 107,
     "metadata": {},
     "output_type": "execute_result"
    }
   ],
   "source": [
    "temp_hum_data.data[0]"
   ]
  },
  {
   "cell_type": "code",
   "execution_count": 109,
   "metadata": {},
   "outputs": [
    {
     "data": {
      "text/plain": [
       "str"
      ]
     },
     "execution_count": 109,
     "metadata": {},
     "output_type": "execute_result"
    }
   ],
   "source": [
    "type(temp_hum_data.data[0][0])"
   ]
  },
  {
   "cell_type": "markdown",
   "metadata": {},
   "source": [
    "All three values are strings, in order to plot them we need to convert them into time and float values. "
   ]
  },
  {
   "cell_type": "code",
   "execution_count": 110,
   "metadata": {},
   "outputs": [
    {
     "name": "stdout",
     "output_type": "stream",
     "text": [
      "92547 lines loaded\n"
     ]
    }
   ],
   "source": [
    "import csv\n",
    "import urllib\n",
    "import datetime as dt\n",
    "\n",
    "class SensorData:\n",
    "    \"\"\"A simple class that loads sensor data\"\"\"\n",
    "    \n",
    "    def __init__(self, url):\n",
    "        # this is how a constructor in python looks\n",
    "        self.data_url = url # dataUrl will be a member or class variable\n",
    "        \n",
    "    def load_data(self):\n",
    "        response = urllib.request.urlopen(self.data_url) # create a http request\n",
    "        csvlines = response.read().decode('utf-8').splitlines() # read utf-8 text\n",
    "        reader = csv.reader(csvlines, delimiter=';') # read csv\n",
    "        data = [row for row in reader] # convert csv to array\n",
    "        self.data = SensorData.parse_data(data) # since parse_data is a static method we call it by using the classname\n",
    "        print(f\"{reader.line_num} lines loaded\")\n",
    "    \n",
    "    def parse_data(data): # I am a static method\n",
    "        # this lambda converts a time string into a python datetime object\n",
    "        parse_time = lambda time_string: dt.datetime.strptime(time_string, \"%Y-%m-%dT%H:%M:%S.%fZ\")        \n",
    "        data = [[parse_time(value[0]),float(value[1]),float(value[2])] for value in data]\n",
    "        return data\n",
    "        \n",
    "\n",
    "# lets create a instance for our new class\n",
    "temp_hum_data = SensorData(\"https://www2.htw-dresden.de/~guhr/dist/sensor-data.csv\")\n",
    "temp_hum_data.load_data()"
   ]
  },
  {
   "cell_type": "code",
   "execution_count": 23,
   "metadata": {},
   "outputs": [
    {
     "data": {
      "text/plain": [
       "[datetime.datetime(2017, 10, 25, 10, 23, 33, 556000), 24.0, 38.0]"
      ]
     },
     "execution_count": 23,
     "metadata": {},
     "output_type": "execute_result"
    }
   ],
   "source": [
    "temp_hum_data.data[0]"
   ]
  },
  {
   "cell_type": "markdown",
   "metadata": {},
   "source": [
    "We converted the data to native python datatypes.\n",
    "\n",
    "### Our data is now formatted as native python data types. Now we can plot them:"
   ]
  },
  {
   "cell_type": "code",
   "execution_count": 111,
   "metadata": {},
   "outputs": [
    {
     "data": {
      "image/png": "[encoded data removed]",
      "text/plain": [
       "<Figure size 864x648 with 1 Axes>"
      ]
     },
     "metadata": {
      "needs_background": "light"
     },
     "output_type": "display_data"
    }
   ],
   "source": [
    "import matplotlib.dates as mdates\n",
    "\n",
    "# take the last 5000 values and slice them\n",
    "plotdata = temp_hum_data.data[:5000] \n",
    "time = [value[0] for value in plotdata]\n",
    "temp = [value[1] for value in plotdata]\n",
    "hum = [value[2] for value in plotdata]\n",
    "\n",
    "fig, ax = plt.subplots()\n",
    "date_formatter = mdates.DateFormatter('%d %h - %H:%M')\n",
    "ax.xaxis.set_major_formatter(date_formatter)\n",
    "\n",
    "ax.plot(time, temp, label=\"Temperature in °C\")\n",
    "ax.plot(time, hum, label=\"Humidity in %\")\n",
    "ax.legend()\n",
    "\n",
    "plt.xticks(rotation=45, ha='right')\n",
    "plt.xlabel('Time')\n",
    "plt.title(f'Temperature Graph for the last {len(plotdata)} data points')\n",
    "plt.show()"
   ]
  }
 ],
 "metadata": {
  "kernelspec": {
   "display_name": "Python 3",
   "language": "python",
   "name": "python3"
  },
  "language_info": {
   "codemirror_mode": {
    "name": "ipython",
    "version": 3
   },
   "file_extension": ".py",
   "mimetype": "text/x-python",
   "name": "python",
   "nbconvert_exporter": "python",
   "pygments_lexer": "ipython3",
   "version": "3.6.7"
  }
 },
 "nbformat": 4,
 "nbformat_minor": 2
}
