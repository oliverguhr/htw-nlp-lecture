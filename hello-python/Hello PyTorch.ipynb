{
 "cells": [
  {
   "cell_type": "markdown",
   "metadata": {},
   "source": [
    "# Hello PyTorch - a tiny intro."
   ]
  },
  {
   "cell_type": "code",
   "execution_count": 4,
   "metadata": {},
   "outputs": [
    {
     "name": "stdout",
     "output_type": "stream",
     "text": [
      "Collecting package metadata (current_repodata.json): ...working... done\n",
      "Solving environment: ...working... done\n",
      "\n",
      "# All requested packages already installed.\n",
      "\n",
      "\n",
      "Note: you may need to restart the kernel to use updated packages.\n"
     ]
    }
   ],
   "source": [
    "conda install pytorch torchvision cpuonly -c pytorch"
   ]
  },
  {
   "cell_type": "code",
   "execution_count": 5,
   "metadata": {},
   "outputs": [],
   "source": [
    "import torch"
   ]
  },
  {
   "cell_type": "markdown",
   "metadata": {},
   "source": [
    "## Create a tensor (aka matrix) with PyTorch"
   ]
  },
  {
   "cell_type": "code",
   "execution_count": 6,
   "metadata": {},
   "outputs": [
    {
     "data": {
      "text/plain": [
       "tensor([[ 1., -1.],\n",
       "        [ 1., -1.]])"
      ]
     },
     "execution_count": 6,
     "metadata": {},
     "output_type": "execute_result"
    }
   ],
   "source": [
    "torch.tensor([[1., -1.], [1., -1.]])"
   ]
  },
  {
   "cell_type": "code",
   "execution_count": 14,
   "metadata": {},
   "outputs": [
    {
     "name": "stdout",
     "output_type": "stream",
     "text": [
      "tensor([[ 0.0381, -1.6110, -0.9273],\n",
      "        [-0.0901, -1.8310, -1.4307],\n",
      "        [-0.3276, -0.5256,  0.2382],\n",
      "        [-0.6835, -0.1138, -0.6881]])\n"
     ]
    }
   ],
   "source": [
    "matrix = torch.randn(4, 3)\n",
    "print(matrix)"
   ]
  },
  {
   "cell_type": "code",
   "execution_count": 15,
   "metadata": {},
   "outputs": [
    {
     "data": {
      "text/plain": [
       "torch.Size([4, 3])"
      ]
     },
     "execution_count": 15,
     "metadata": {},
     "output_type": "execute_result"
    }
   ],
   "source": [
    "matrix.shape"
   ]
  },
  {
   "cell_type": "code",
   "execution_count": 16,
   "metadata": {},
   "outputs": [
    {
     "data": {
      "text/plain": [
       "tensor([[ 0.0381, -0.0901, -0.3276, -0.6835],\n",
       "        [-1.6110, -1.8310, -0.5256, -0.1138],\n",
       "        [-0.9273, -1.4307,  0.2382, -0.6881]])"
      ]
     },
     "execution_count": 16,
     "metadata": {},
     "output_type": "execute_result"
    }
   ],
   "source": [
    "matrix.t()"
   ]
  },
  {
   "cell_type": "code",
   "execution_count": 11,
   "metadata": {},
   "outputs": [
    {
     "data": {
      "text/plain": [
       "tensor([ 0.3480,  0.8093, -2.0684])"
      ]
     },
     "execution_count": 11,
     "metadata": {},
     "output_type": "execute_result"
    }
   ],
   "source": [
    "matrix[2]"
   ]
  },
  {
   "cell_type": "code",
   "execution_count": 12,
   "metadata": {},
   "outputs": [
    {
     "data": {
      "text/plain": [
       "tensor(0.3480)"
      ]
     },
     "execution_count": 12,
     "metadata": {},
     "output_type": "execute_result"
    }
   ],
   "source": [
    "matrix[2,0]"
   ]
  },
  {
   "cell_type": "markdown",
   "metadata": {},
   "source": [
    "Take a look at the PyTorch [documentation](https://pytorch.org/docs/stable/tensors.html#torch.Tensor.view) for details about the ``view()`` function."
   ]
  },
  {
   "cell_type": "code",
   "execution_count": 17,
   "metadata": {},
   "outputs": [
    {
     "data": {
      "text/plain": [
       "tensor([ 0.0381, -1.6110, -0.9273, -0.0901, -1.8310, -1.4307, -0.3276, -0.5256,\n",
       "         0.2382, -0.6835, -0.1138, -0.6881])"
      ]
     },
     "execution_count": 17,
     "metadata": {},
     "output_type": "execute_result"
    }
   ],
   "source": [
    "matrix.view(-1)"
   ]
  },
  {
   "cell_type": "code",
   "execution_count": 26,
   "metadata": {},
   "outputs": [
    {
     "data": {
      "text/plain": [
       "tensor([[ 0.0381, -1.6110, -0.9273, -0.0901, -1.8310, -1.4307],\n",
       "        [-0.3276, -0.5256,  0.2382, -0.6835, -0.1138, -0.6881]])"
      ]
     },
     "execution_count": 26,
     "metadata": {},
     "output_type": "execute_result"
    }
   ],
   "source": [
    "matrix.view(2,-1) # view the matrix with 6 rows and 2 columns"
   ]
  },
  {
   "cell_type": "markdown",
   "metadata": {},
   "source": [
    "## Matrix multiplication with PyTorch"
   ]
  },
  {
   "cell_type": "code",
   "execution_count": 31,
   "metadata": {},
   "outputs": [
    {
     "name": "stdout",
     "output_type": "stream",
     "text": [
      "tensor([[ 0.5291, -0.1487,  0.8204],\n",
      "        [ 1.4145, -1.9181, -2.5060],\n",
      "        [-0.2387,  0.0584,  0.7217]])\n",
      "tensor([[ 0.8169,  0.2696, -1.3153],\n",
      "        [ 0.8360, -0.8357, -1.5030],\n",
      "        [ 0.9936,  0.1287,  1.9048]])\n"
     ]
    }
   ],
   "source": [
    "a = torch.randn(3,3)\n",
    "b = torch.randn(3,3)\n",
    "print(a)\n",
    "print(b)"
   ]
  },
  {
   "cell_type": "code",
   "execution_count": 32,
   "metadata": {},
   "outputs": [
    {
     "data": {
      "text/plain": [
       "tensor([[ 0.4322, -0.0401, -1.0791],\n",
       "        [ 1.1825,  1.6031,  3.7667],\n",
       "        [-0.2372,  0.0075,  1.3747]])"
      ]
     },
     "execution_count": 32,
     "metadata": {},
     "output_type": "execute_result"
    }
   ],
   "source": [
    "a * b # this does not do what you might think!"
   ]
  },
  {
   "cell_type": "code",
   "execution_count": 33,
   "metadata": {},
   "outputs": [
    {
     "data": {
      "text/plain": [
       "tensor([[ 1.1232,  0.3725,  1.0902],\n",
       "        [-2.9381,  1.6619, -3.7509],\n",
       "        [ 0.5709, -0.0203,  1.6010]])"
      ]
     },
     "execution_count": 33,
     "metadata": {},
     "output_type": "execute_result"
    }
   ],
   "source": [
    "a @ b"
   ]
  },
  {
   "cell_type": "code",
   "execution_count": 34,
   "metadata": {},
   "outputs": [
    {
     "data": {
      "text/plain": [
       "tensor([[ 1.1232,  0.3725,  1.0902],\n",
       "        [-2.9381,  1.6619, -3.7509],\n",
       "        [ 0.5709, -0.0203,  1.6010]])"
      ]
     },
     "execution_count": 34,
     "metadata": {},
     "output_type": "execute_result"
    }
   ],
   "source": [
    "a.mm(b)"
   ]
  },
  {
   "cell_type": "code",
   "execution_count": 35,
   "metadata": {},
   "outputs": [
    {
     "data": {
      "text/plain": [
       "tensor([[3., 3.],\n",
       "        [3., 4.],\n",
       "        [5., 6.]])"
      ]
     },
     "execution_count": 35,
     "metadata": {},
     "output_type": "execute_result"
    }
   ],
   "source": [
    "c = torch.tensor([[1., 2.], [3., 4.], [5., 6.]]) \n",
    "c.clamp(min=3)"
   ]
  },
  {
   "cell_type": "markdown",
   "metadata": {},
   "source": [
    "# What can Pytorch do?\n",
    "You can find both examples with further [explanations here](https://pytorch.org/tutorials/beginner/pytorch_with_examples.html)."
   ]
  },
  {
   "cell_type": "markdown",
   "metadata": {},
   "source": [
    "## Autograd: AUTOMATIC DIFFERENTIATION \n",
    "\n",
    "![Hello World](data:image/jpeg;base64,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)\n"
   ]
  },
  {
   "cell_type": "code",
   "execution_count": 37,
   "metadata": {},
   "outputs": [
    {
     "data": {
      "text/plain": [
       "tensor([[ 2., -2.],\n",
       "        [ 2.,  2.]])"
      ]
     },
     "execution_count": 37,
     "metadata": {},
     "output_type": "execute_result"
    }
   ],
   "source": [
    "x = torch.tensor([[1., -1.], [1., 1.]], requires_grad=True)\n",
    "out = x.pow(2).sum()\n",
    "out.backward()\n",
    "x.grad"
   ]
  },
  {
   "cell_type": "markdown",
   "metadata": {},
   "source": [
    "# Tutotrials\n",
    "\n",
    "\n",
    "**1. I am new to Python:**\n",
    "\n",
    "If you are new to Python here is a list of online tutorials that you might find useful:\n",
    "\n",
    "*Learn the Basics*\n",
    "\n",
    "- [Hello, World!](https://www.learnpython.org/en/Hello%2C_World!)\n",
    "- [Variables and Types](https://www.learnpython.org/en/Variables_and_Types)\n",
    "- [Lists](https://www.learnpython.org/en/Lists)\n",
    "- [Basic Operators](https://www.learnpython.org/en/Basic_Operators)\n",
    "- [String Formatting](https://www.learnpython.org/en/String_Formatting)\n",
    "- [Basic String Operations](https://www.learnpython.org/en/Basic_String_Operations)\n",
    "- [Conditions](https://www.learnpython.org/en/Conditions)\n",
    "- [Loops](https://www.learnpython.org/en/Loops)\n",
    "- [Functions](https://www.learnpython.org/en/Functions)\n",
    "- [Classes and Objects](https://www.learnpython.org/en/Classes_and_Objects)\n",
    "- [Dictionaries](https://www.learnpython.org/en/Dictionaries)\n",
    "- [Modules and Packages](https://www.learnpython.org/en/Modules_and_Packages)\n",
    "\n",
    "**2. I am new to PyTorch**\n",
    "\n",
    "To get familiar with the PyTorchs concepts you can take the [A 60 Minute Blitz](https://pytorch.org/tutorials/beginner/blitz/tensor_tutorial.html#sphx-glr-beginner-blitz-tensor-tutorial-py) tutorial. \n",
    "You can find both example toy networks with further [explanations here](https://pytorch.org/tutorials/beginner/pytorch_with_examples.html)."
   ]
  }
 ],
 "metadata": {
  "kernelspec": {
   "display_name": "Python 3",
   "language": "python",
   "name": "python3"
  },
  "language_info": {
   "codemirror_mode": {
    "name": "ipython",
    "version": 3
   },
   "file_extension": ".py",
   "mimetype": "text/x-python",
   "name": "python",
   "nbconvert_exporter": "python",
   "pygments_lexer": "ipython3",
   "version": "3.7.6"
  }
 },
 "nbformat": 4,
 "nbformat_minor": 4
}
